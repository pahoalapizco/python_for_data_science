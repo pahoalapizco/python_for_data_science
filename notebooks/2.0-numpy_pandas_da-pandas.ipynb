{
 "cells": [
  {
   "cell_type": "markdown",
   "metadata": {},
   "source": [
    "# Pandas"
   ]
  },
  {
   "cell_type": "markdown",
   "metadata": {},
   "source": [
    "Pandas es una librería de código abierto enfocada al análisis y maniputación de datos, es de código abierto y escrito en python. Cuenta con estructuras de datos y funciones de análisis de datos de alto rendimiento.\n",
    "\n",
    "Esta líbreria esta construida sobre `numpy` lo cual facilita la aplicación de cálculos matemáticos complejos de una forma bastante sencilla y eficiente.\n",
    "\n",
    "Ademas integra funcionalidades de `matplotlib` que nos permite crear graficos directamente desde un DataFrame o Serie.\n",
    "\n",
    "<div class=\"alert alert-info\", role=\"alert\">\n",
    "    <b>📢 Antes de empezar</b>\n",
    "    <p>\n",
    "      Antes de continuar con este notebook es necesario descargar el Data Source en formato CSV y colocarlo en la carpeta <b>data/raw</b>. <br>\n",
    "      <a href=\"https://www.kaggle.com/datasets/tunguz/online-retail\">Data Source</a>\n",
    "    </p>\n",
    "</div>"
   ]
  },
  {
   "cell_type": "code",
   "execution_count": 1,
   "metadata": {},
   "outputs": [],
   "source": [
    "import pandas as pd\n",
    "import numpy as np"
   ]
  },
  {
   "cell_type": "markdown",
   "metadata": {},
   "source": [
    "## 2.1 - Estructuras de datos"
   ]
  },
  {
   "cell_type": "markdown",
   "metadata": {},
   "source": [
    "El núcleo de Pandas son sus dos estructuras de datos principales:\n",
    "- DataFrames\n",
    "- Series"
   ]
  },
  {
   "cell_type": "markdown",
   "metadata": {},
   "source": [
    "### 2.1.1 DataFrames\n",
    "\n",
    "Estructura en formato tabular (tidy data), se conforma de filas (observaciones) y columnas (variables)."
   ]
  },
  {
   "cell_type": "markdown",
   "metadata": {},
   "source": [
    "Podemos crear `DataFrames` de multiples formas:\n",
    "- A partir de un array de numpy.\n",
    "- A partir de una lista o lista de diccionarios directamente python.\n",
    "- A partir de un diccionario de python.\n",
    "- Desde archivos con formatos: `CSV`, `JSON`, `XLSX`, etc.\n",
    "\n",
    "En este notebook nos enfocaremos en los DataFrame a partir de un archivo CSV que contiene datos de ventas retail en línea.\n",
    "\n",
    "Aquí otro notebook donde se explora la creación de DataFrames con los métodos antes mencionados.\n",
    "https://github.com/pahoalapizco/numpy-pandas-introduction/blob/main/pandas/series_dataframes.ipynb"
   ]
  },
  {
   "cell_type": "code",
   "execution_count": 2,
   "metadata": {},
   "outputs": [
    {
     "data": {
      "text/html": [
       "<div>\n",
       "<style scoped>\n",
       "    .dataframe tbody tr th:only-of-type {\n",
       "        vertical-align: middle;\n",
       "    }\n",
       "\n",
       "    .dataframe tbody tr th {\n",
       "        vertical-align: top;\n",
       "    }\n",
       "\n",
       "    .dataframe thead th {\n",
       "        text-align: right;\n",
       "    }\n",
       "</style>\n",
       "<table border=\"1\" class=\"dataframe\">\n",
       "  <thead>\n",
       "    <tr style=\"text-align: right;\">\n",
       "      <th></th>\n",
       "      <th>InvoiceNo</th>\n",
       "      <th>StockCode</th>\n",
       "      <th>Description</th>\n",
       "      <th>Quantity</th>\n",
       "      <th>InvoiceDate</th>\n",
       "      <th>UnitPrice</th>\n",
       "      <th>CustomerID</th>\n",
       "      <th>Country</th>\n",
       "    </tr>\n",
       "  </thead>\n",
       "  <tbody>\n",
       "    <tr>\n",
       "      <th>0</th>\n",
       "      <td>536365</td>\n",
       "      <td>85123A</td>\n",
       "      <td>WHITE HANGING HEART T-LIGHT HOLDER</td>\n",
       "      <td>6</td>\n",
       "      <td>2010-12-01 08:26:00</td>\n",
       "      <td>2.55</td>\n",
       "      <td>17850.0</td>\n",
       "      <td>United Kingdom</td>\n",
       "    </tr>\n",
       "    <tr>\n",
       "      <th>1</th>\n",
       "      <td>536365</td>\n",
       "      <td>71053</td>\n",
       "      <td>WHITE METAL LANTERN</td>\n",
       "      <td>6</td>\n",
       "      <td>2010-12-01 08:26:00</td>\n",
       "      <td>3.39</td>\n",
       "      <td>17850.0</td>\n",
       "      <td>United Kingdom</td>\n",
       "    </tr>\n",
       "    <tr>\n",
       "      <th>2</th>\n",
       "      <td>536365</td>\n",
       "      <td>84406B</td>\n",
       "      <td>CREAM CUPID HEARTS COAT HANGER</td>\n",
       "      <td>8</td>\n",
       "      <td>2010-12-01 08:26:00</td>\n",
       "      <td>2.75</td>\n",
       "      <td>17850.0</td>\n",
       "      <td>United Kingdom</td>\n",
       "    </tr>\n",
       "    <tr>\n",
       "      <th>3</th>\n",
       "      <td>536365</td>\n",
       "      <td>84029G</td>\n",
       "      <td>KNITTED UNION FLAG HOT WATER BOTTLE</td>\n",
       "      <td>6</td>\n",
       "      <td>2010-12-01 08:26:00</td>\n",
       "      <td>3.39</td>\n",
       "      <td>17850.0</td>\n",
       "      <td>United Kingdom</td>\n",
       "    </tr>\n",
       "    <tr>\n",
       "      <th>4</th>\n",
       "      <td>536365</td>\n",
       "      <td>84029E</td>\n",
       "      <td>RED WOOLLY HOTTIE WHITE HEART.</td>\n",
       "      <td>6</td>\n",
       "      <td>2010-12-01 08:26:00</td>\n",
       "      <td>3.39</td>\n",
       "      <td>17850.0</td>\n",
       "      <td>United Kingdom</td>\n",
       "    </tr>\n",
       "  </tbody>\n",
       "</table>\n",
       "</div>"
      ],
      "text/plain": [
       "  InvoiceNo StockCode                          Description  Quantity  \\\n",
       "0    536365    85123A   WHITE HANGING HEART T-LIGHT HOLDER         6   \n",
       "1    536365     71053                  WHITE METAL LANTERN         6   \n",
       "2    536365    84406B       CREAM CUPID HEARTS COAT HANGER         8   \n",
       "3    536365    84029G  KNITTED UNION FLAG HOT WATER BOTTLE         6   \n",
       "4    536365    84029E       RED WOOLLY HOTTIE WHITE HEART.         6   \n",
       "\n",
       "           InvoiceDate  UnitPrice  CustomerID         Country  \n",
       "0  2010-12-01 08:26:00       2.55     17850.0  United Kingdom  \n",
       "1  2010-12-01 08:26:00       3.39     17850.0  United Kingdom  \n",
       "2  2010-12-01 08:26:00       2.75     17850.0  United Kingdom  \n",
       "3  2010-12-01 08:26:00       3.39     17850.0  United Kingdom  \n",
       "4  2010-12-01 08:26:00       3.39     17850.0  United Kingdom  "
      ]
     },
     "execution_count": 2,
     "metadata": {},
     "output_type": "execute_result"
    }
   ],
   "source": [
    "# DataFrame desde un archivo CSV\n",
    "retail_df = pd.read_csv(\"../data/raw/online_retail.csv\")\n",
    "retail_df.head()"
   ]
  },
  {
   "cell_type": "markdown",
   "metadata": {},
   "source": [
    "### 2.1.2 Series\n",
    "\n",
    "Una serie en pandas es una estructura unidimensional similar a un array de `numpy`, también es la estructura de una de columna de un DataFrame."
   ]
  },
  {
   "cell_type": "code",
   "execution_count": 3,
   "metadata": {},
   "outputs": [
    {
     "name": "stdout",
     "output_type": "stream",
     "text": [
      "<class 'pandas.core.series.Series'>\n"
     ]
    },
    {
     "data": {
      "text/plain": [
       "0     WHITE HANGING HEART T-LIGHT HOLDER\n",
       "1                    WHITE METAL LANTERN\n",
       "2         CREAM CUPID HEARTS COAT HANGER\n",
       "3    KNITTED UNION FLAG HOT WATER BOTTLE\n",
       "4         RED WOOLLY HOTTIE WHITE HEART.\n",
       "Name: Description, dtype: object"
      ]
     },
     "execution_count": 3,
     "metadata": {},
     "output_type": "execute_result"
    }
   ],
   "source": [
    "desc_series = retail_df[\"Description\"]\n",
    "print(type(desc_series))\n",
    "desc_series.head()"
   ]
  },
  {
   "cell_type": "markdown",
   "metadata": {},
   "source": [
    "## 2.2 - Funciones"
   ]
  },
  {
   "cell_type": "markdown",
   "metadata": {},
   "source": [
    "Pandas nos provee de multiples funciones para explorar los datos de un DataFrame y/o Serie, entre las mas utilizadas encontramos las siguientes:\n",
    "- `head()`: Retorna las primeras 5 filas (por default) del DataFrame/Serie.\n",
    "- `tail()`: Retorna las últimas 5 filas (por default) del DataFrame/Serie.\n",
    "- `sample()`: Retorna aleatoriamente 5 dilas del del DataFrame/Serie.\n",
    "- `info()`: Nos da un resumen del DataFrame.\n",
    "- `describe()`: Devuelve los estadisticos principales de los de las columnas numéricas.\n",
    "    - Conteos\n",
    "    - media\n",
    "    - Desviasión estandar\n",
    "    - Caurtil 1, 2 y 4 \n",
    "    - Máximo y Mínimo\n",
    "- `mean()`: Media o promedio de una columna numérica.\n",
    "- `std()`: Desviasión estándar.\n",
    "- `median()`: Mediana de una columna/Serie numérica.\n",
    "- `percentile()`: Percentiles de una columna/serie numérica.\n",
    "\n",
    "📌 **Nota**: La función `descreibe()` en columnas categóricas (strings) nos regresa los conteos, valores únicos y frecuencias. "
   ]
  },
  {
   "cell_type": "markdown",
   "metadata": {},
   "source": [
    "### 2.2.1 head, tail & sample"
   ]
  },
  {
   "cell_type": "code",
   "execution_count": 4,
   "metadata": {},
   "outputs": [
    {
     "data": {
      "text/html": [
       "<div>\n",
       "<style scoped>\n",
       "    .dataframe tbody tr th:only-of-type {\n",
       "        vertical-align: middle;\n",
       "    }\n",
       "\n",
       "    .dataframe tbody tr th {\n",
       "        vertical-align: top;\n",
       "    }\n",
       "\n",
       "    .dataframe thead th {\n",
       "        text-align: right;\n",
       "    }\n",
       "</style>\n",
       "<table border=\"1\" class=\"dataframe\">\n",
       "  <thead>\n",
       "    <tr style=\"text-align: right;\">\n",
       "      <th></th>\n",
       "      <th>InvoiceNo</th>\n",
       "      <th>StockCode</th>\n",
       "      <th>Description</th>\n",
       "      <th>Quantity</th>\n",
       "      <th>InvoiceDate</th>\n",
       "      <th>UnitPrice</th>\n",
       "      <th>CustomerID</th>\n",
       "      <th>Country</th>\n",
       "    </tr>\n",
       "  </thead>\n",
       "  <tbody>\n",
       "    <tr>\n",
       "      <th>0</th>\n",
       "      <td>536365</td>\n",
       "      <td>85123A</td>\n",
       "      <td>WHITE HANGING HEART T-LIGHT HOLDER</td>\n",
       "      <td>6</td>\n",
       "      <td>2010-12-01 08:26:00</td>\n",
       "      <td>2.55</td>\n",
       "      <td>17850.0</td>\n",
       "      <td>United Kingdom</td>\n",
       "    </tr>\n",
       "    <tr>\n",
       "      <th>1</th>\n",
       "      <td>536365</td>\n",
       "      <td>71053</td>\n",
       "      <td>WHITE METAL LANTERN</td>\n",
       "      <td>6</td>\n",
       "      <td>2010-12-01 08:26:00</td>\n",
       "      <td>3.39</td>\n",
       "      <td>17850.0</td>\n",
       "      <td>United Kingdom</td>\n",
       "    </tr>\n",
       "  </tbody>\n",
       "</table>\n",
       "</div>"
      ],
      "text/plain": [
       "  InvoiceNo StockCode                         Description  Quantity  \\\n",
       "0    536365    85123A  WHITE HANGING HEART T-LIGHT HOLDER         6   \n",
       "1    536365     71053                 WHITE METAL LANTERN         6   \n",
       "\n",
       "           InvoiceDate  UnitPrice  CustomerID         Country  \n",
       "0  2010-12-01 08:26:00       2.55     17850.0  United Kingdom  \n",
       "1  2010-12-01 08:26:00       3.39     17850.0  United Kingdom  "
      ]
     },
     "metadata": {},
     "output_type": "display_data"
    },
    {
     "data": {
      "text/html": [
       "<div>\n",
       "<style scoped>\n",
       "    .dataframe tbody tr th:only-of-type {\n",
       "        vertical-align: middle;\n",
       "    }\n",
       "\n",
       "    .dataframe tbody tr th {\n",
       "        vertical-align: top;\n",
       "    }\n",
       "\n",
       "    .dataframe thead th {\n",
       "        text-align: right;\n",
       "    }\n",
       "</style>\n",
       "<table border=\"1\" class=\"dataframe\">\n",
       "  <thead>\n",
       "    <tr style=\"text-align: right;\">\n",
       "      <th></th>\n",
       "      <th>InvoiceNo</th>\n",
       "      <th>StockCode</th>\n",
       "      <th>Description</th>\n",
       "      <th>Quantity</th>\n",
       "      <th>InvoiceDate</th>\n",
       "      <th>UnitPrice</th>\n",
       "      <th>CustomerID</th>\n",
       "      <th>Country</th>\n",
       "    </tr>\n",
       "  </thead>\n",
       "  <tbody>\n",
       "    <tr>\n",
       "      <th>541907</th>\n",
       "      <td>581587</td>\n",
       "      <td>23255</td>\n",
       "      <td>CHILDRENS CUTLERY CIRCUS PARADE</td>\n",
       "      <td>4</td>\n",
       "      <td>2011-12-09 12:50:00</td>\n",
       "      <td>4.15</td>\n",
       "      <td>12680.0</td>\n",
       "      <td>France</td>\n",
       "    </tr>\n",
       "    <tr>\n",
       "      <th>541908</th>\n",
       "      <td>581587</td>\n",
       "      <td>22138</td>\n",
       "      <td>BAKING SET 9 PIECE RETROSPOT</td>\n",
       "      <td>3</td>\n",
       "      <td>2011-12-09 12:50:00</td>\n",
       "      <td>4.95</td>\n",
       "      <td>12680.0</td>\n",
       "      <td>France</td>\n",
       "    </tr>\n",
       "  </tbody>\n",
       "</table>\n",
       "</div>"
      ],
      "text/plain": [
       "       InvoiceNo StockCode                      Description  Quantity  \\\n",
       "541907    581587     23255  CHILDRENS CUTLERY CIRCUS PARADE         4   \n",
       "541908    581587     22138    BAKING SET 9 PIECE RETROSPOT          3   \n",
       "\n",
       "                InvoiceDate  UnitPrice  CustomerID Country  \n",
       "541907  2011-12-09 12:50:00       4.15     12680.0  France  \n",
       "541908  2011-12-09 12:50:00       4.95     12680.0  France  "
      ]
     },
     "metadata": {},
     "output_type": "display_data"
    },
    {
     "data": {
      "text/html": [
       "<div>\n",
       "<style scoped>\n",
       "    .dataframe tbody tr th:only-of-type {\n",
       "        vertical-align: middle;\n",
       "    }\n",
       "\n",
       "    .dataframe tbody tr th {\n",
       "        vertical-align: top;\n",
       "    }\n",
       "\n",
       "    .dataframe thead th {\n",
       "        text-align: right;\n",
       "    }\n",
       "</style>\n",
       "<table border=\"1\" class=\"dataframe\">\n",
       "  <thead>\n",
       "    <tr style=\"text-align: right;\">\n",
       "      <th></th>\n",
       "      <th>InvoiceNo</th>\n",
       "      <th>StockCode</th>\n",
       "      <th>Description</th>\n",
       "      <th>Quantity</th>\n",
       "      <th>InvoiceDate</th>\n",
       "      <th>UnitPrice</th>\n",
       "      <th>CustomerID</th>\n",
       "      <th>Country</th>\n",
       "    </tr>\n",
       "  </thead>\n",
       "  <tbody>\n",
       "    <tr>\n",
       "      <th>485561</th>\n",
       "      <td>577609</td>\n",
       "      <td>47504H</td>\n",
       "      <td>ENGLISH ROSE SPIRIT LEVEL</td>\n",
       "      <td>12</td>\n",
       "      <td>2011-11-21 09:51:00</td>\n",
       "      <td>0.79</td>\n",
       "      <td>12349.0</td>\n",
       "      <td>Italy</td>\n",
       "    </tr>\n",
       "    <tr>\n",
       "      <th>136534</th>\n",
       "      <td>547965</td>\n",
       "      <td>22990</td>\n",
       "      <td>COTTON APRON PANTRY DESIGN</td>\n",
       "      <td>2</td>\n",
       "      <td>2011-03-28 15:47:00</td>\n",
       "      <td>4.95</td>\n",
       "      <td>15809.0</td>\n",
       "      <td>United Kingdom</td>\n",
       "    </tr>\n",
       "  </tbody>\n",
       "</table>\n",
       "</div>"
      ],
      "text/plain": [
       "       InvoiceNo StockCode                 Description  Quantity  \\\n",
       "485561    577609    47504H  ENGLISH ROSE SPIRIT LEVEL         12   \n",
       "136534    547965     22990  COTTON APRON PANTRY DESIGN         2   \n",
       "\n",
       "                InvoiceDate  UnitPrice  CustomerID         Country  \n",
       "485561  2011-11-21 09:51:00       0.79     12349.0           Italy  \n",
       "136534  2011-03-28 15:47:00       4.95     15809.0  United Kingdom  "
      ]
     },
     "metadata": {},
     "output_type": "display_data"
    }
   ],
   "source": [
    "display(retail_df.head(2), retail_df.tail(2), retail_df.sample(2))"
   ]
  },
  {
   "cell_type": "markdown",
   "metadata": {},
   "source": [
    "### 2.2.2 info & describe"
   ]
  },
  {
   "cell_type": "code",
   "execution_count": 5,
   "metadata": {},
   "outputs": [
    {
     "name": "stdout",
     "output_type": "stream",
     "text": [
      "<class 'pandas.core.frame.DataFrame'>\n",
      "RangeIndex: 541909 entries, 0 to 541908\n",
      "Data columns (total 8 columns):\n",
      " #   Column       Non-Null Count   Dtype  \n",
      "---  ------       --------------   -----  \n",
      " 0   InvoiceNo    541909 non-null  object \n",
      " 1   StockCode    541909 non-null  object \n",
      " 2   Description  540455 non-null  object \n",
      " 3   Quantity     541909 non-null  int64  \n",
      " 4   InvoiceDate  541909 non-null  object \n",
      " 5   UnitPrice    541909 non-null  float64\n",
      " 6   CustomerID   406829 non-null  float64\n",
      " 7   Country      541909 non-null  object \n",
      "dtypes: float64(2), int64(1), object(5)\n",
      "memory usage: 33.1+ MB\n"
     ]
    },
    {
     "data": {
      "text/plain": [
       "None"
      ]
     },
     "metadata": {},
     "output_type": "display_data"
    },
    {
     "data": {
      "text/html": [
       "<div>\n",
       "<style scoped>\n",
       "    .dataframe tbody tr th:only-of-type {\n",
       "        vertical-align: middle;\n",
       "    }\n",
       "\n",
       "    .dataframe tbody tr th {\n",
       "        vertical-align: top;\n",
       "    }\n",
       "\n",
       "    .dataframe thead th {\n",
       "        text-align: right;\n",
       "    }\n",
       "</style>\n",
       "<table border=\"1\" class=\"dataframe\">\n",
       "  <thead>\n",
       "    <tr style=\"text-align: right;\">\n",
       "      <th></th>\n",
       "      <th>Quantity</th>\n",
       "      <th>UnitPrice</th>\n",
       "      <th>CustomerID</th>\n",
       "    </tr>\n",
       "  </thead>\n",
       "  <tbody>\n",
       "    <tr>\n",
       "      <th>count</th>\n",
       "      <td>541909.000000</td>\n",
       "      <td>541909.000000</td>\n",
       "      <td>406829.000000</td>\n",
       "    </tr>\n",
       "    <tr>\n",
       "      <th>mean</th>\n",
       "      <td>9.552250</td>\n",
       "      <td>4.611114</td>\n",
       "      <td>15287.690570</td>\n",
       "    </tr>\n",
       "    <tr>\n",
       "      <th>std</th>\n",
       "      <td>218.081158</td>\n",
       "      <td>96.759853</td>\n",
       "      <td>1713.600303</td>\n",
       "    </tr>\n",
       "    <tr>\n",
       "      <th>min</th>\n",
       "      <td>-80995.000000</td>\n",
       "      <td>-11062.060000</td>\n",
       "      <td>12346.000000</td>\n",
       "    </tr>\n",
       "    <tr>\n",
       "      <th>25%</th>\n",
       "      <td>1.000000</td>\n",
       "      <td>1.250000</td>\n",
       "      <td>13953.000000</td>\n",
       "    </tr>\n",
       "    <tr>\n",
       "      <th>50%</th>\n",
       "      <td>3.000000</td>\n",
       "      <td>2.080000</td>\n",
       "      <td>15152.000000</td>\n",
       "    </tr>\n",
       "    <tr>\n",
       "      <th>75%</th>\n",
       "      <td>10.000000</td>\n",
       "      <td>4.130000</td>\n",
       "      <td>16791.000000</td>\n",
       "    </tr>\n",
       "    <tr>\n",
       "      <th>max</th>\n",
       "      <td>80995.000000</td>\n",
       "      <td>38970.000000</td>\n",
       "      <td>18287.000000</td>\n",
       "    </tr>\n",
       "  </tbody>\n",
       "</table>\n",
       "</div>"
      ],
      "text/plain": [
       "            Quantity      UnitPrice     CustomerID\n",
       "count  541909.000000  541909.000000  406829.000000\n",
       "mean        9.552250       4.611114   15287.690570\n",
       "std       218.081158      96.759853    1713.600303\n",
       "min    -80995.000000  -11062.060000   12346.000000\n",
       "25%         1.000000       1.250000   13953.000000\n",
       "50%         3.000000       2.080000   15152.000000\n",
       "75%        10.000000       4.130000   16791.000000\n",
       "max     80995.000000   38970.000000   18287.000000"
      ]
     },
     "metadata": {},
     "output_type": "display_data"
    }
   ],
   "source": [
    "# DataFrame\n",
    "display(retail_df.info(), retail_df.describe())"
   ]
  },
  {
   "cell_type": "code",
   "execution_count": 6,
   "metadata": {},
   "outputs": [
    {
     "data": {
      "text/plain": [
       "count                                 540455\n",
       "unique                                  4223\n",
       "top       WHITE HANGING HEART T-LIGHT HOLDER\n",
       "freq                                    2369\n",
       "Name: Description, dtype: object"
      ]
     },
     "execution_count": 6,
     "metadata": {},
     "output_type": "execute_result"
    }
   ],
   "source": [
    "# Serie\n",
    "desc_series.describe()"
   ]
  },
  {
   "cell_type": "markdown",
   "metadata": {},
   "source": [
    "### 2.2.3 Funciones estadísticas"
   ]
  },
  {
   "cell_type": "code",
   "execution_count": 7,
   "metadata": {},
   "outputs": [
    {
     "name": "stdout",
     "output_type": "stream",
     "text": [
      "Media: 9.55224954743324\n",
      "Mediana: 3.0\n",
      "1er Cuartil: 1.0\n",
      "Desviasión Estandar: 218.08115784986612\n"
     ]
    }
   ],
   "source": [
    "quantity_mean = retail_df[\"Quantity\"].mean()\n",
    "quantity_std = retail_df[\"Quantity\"].std()\n",
    "quantity_median = retail_df[\"Quantity\"].median()\n",
    "quantity_q1 = retail_df[\"Quantity\"].quantile(.25)\n",
    "print(f\"Media: {quantity_mean}\")\n",
    "print(f\"Mediana: {quantity_median}\")\n",
    "print(f\"1er Cuartil: {quantity_q1}\")\n",
    "print(f\"Desviasión Estandar: {quantity_std}\")"
   ]
  },
  {
   "cell_type": "markdown",
   "metadata": {},
   "source": [
    "## 2.3 - Acceso a datos"
   ]
  },
  {
   "cell_type": "markdown",
   "metadata": {},
   "source": [
    "### 2.3.1 iloc"
   ]
  },
  {
   "cell_type": "markdown",
   "metadata": {},
   "source": [
    "La funcionalidad `iloc` esta basado en el acceso a datos mediante la posición numérica de las filas o columnas de un DataFrame. `iloc` sigue las reglas de indexación, esto quiere decir que el primer índice es el $0$.\n",
    "\n",
    "\n",
    "📌 **Nota**: En el caso de una serie solo podemos acceder a las filas.\n",
    "\n",
    "Sintaxis: `data_df.iloc[filas, columnas]`. <br>\n",
    "Donde:\n",
    "- `filas`: Una sola posición, un array con las posiciones numéricas o un slicing con la sintaxis \n",
    "- `columnas`: Una sola posición, un array con las posiciones numéricas de las columnas o bien un slicing.\n",
    "\n",
    "Sintaxis de slicing en `iloc` aplica tanto para las filas como para las columnas <br>\n",
    "<code>\n",
    "  [posicion_inicio : posicion_final : saltos]\n",
    "</code>\n"
   ]
  },
  {
   "cell_type": "code",
   "execution_count": 8,
   "metadata": {},
   "outputs": [
    {
     "name": "stdout",
     "output_type": "stream",
     "text": [
      "Fila 5:\n",
      "InvoiceNo                            536365\n",
      "StockCode                             22752\n",
      "Description    SET 7 BABUSHKA NESTING BOXES\n",
      "Quantity                                  2\n",
      "InvoiceDate             2010-12-01 08:26:00\n",
      "UnitPrice                              7.65\n",
      "CustomerID                          17850.0\n",
      "Country                      United Kingdom\n",
      "Name: 5, dtype: object\n",
      "<class 'pandas.core.series.Series'>\n"
     ]
    }
   ],
   "source": [
    "print(\"Fila 5:\")\n",
    "row_5 = retail_df.iloc[5]\n",
    "print(row_5)\n",
    "print(type(row_5))"
   ]
  },
  {
   "cell_type": "code",
   "execution_count": 9,
   "metadata": {},
   "outputs": [
    {
     "name": "stdout",
     "output_type": "stream",
     "text": [
      "Fila 5, columnas 2 y 3:\n",
      "Description    SET 7 BABUSHKA NESTING BOXES\n",
      "Quantity                                  2\n",
      "Name: 5, dtype: object\n",
      "<class 'pandas.core.series.Series'>\n"
     ]
    }
   ],
   "source": [
    "print(\"Fila 5, columnas 2 y 3:\")\n",
    "row_5_cols_2_3 = retail_df.iloc[5, [2,3]]\n",
    "print(row_5_cols_2_3)\n",
    "print(type(row_5_cols_2_3))"
   ]
  },
  {
   "cell_type": "code",
   "execution_count": 10,
   "metadata": {},
   "outputs": [
    {
     "name": "stdout",
     "output_type": "stream",
     "text": [
      "Filas 0 a 5, columnas 2 y 3:\n",
      "<class 'pandas.core.frame.DataFrame'>\n"
     ]
    },
    {
     "data": {
      "text/html": [
       "<div>\n",
       "<style scoped>\n",
       "    .dataframe tbody tr th:only-of-type {\n",
       "        vertical-align: middle;\n",
       "    }\n",
       "\n",
       "    .dataframe tbody tr th {\n",
       "        vertical-align: top;\n",
       "    }\n",
       "\n",
       "    .dataframe thead th {\n",
       "        text-align: right;\n",
       "    }\n",
       "</style>\n",
       "<table border=\"1\" class=\"dataframe\">\n",
       "  <thead>\n",
       "    <tr style=\"text-align: right;\">\n",
       "      <th></th>\n",
       "      <th>Description</th>\n",
       "      <th>Quantity</th>\n",
       "    </tr>\n",
       "  </thead>\n",
       "  <tbody>\n",
       "    <tr>\n",
       "      <th>0</th>\n",
       "      <td>WHITE HANGING HEART T-LIGHT HOLDER</td>\n",
       "      <td>6</td>\n",
       "    </tr>\n",
       "    <tr>\n",
       "      <th>1</th>\n",
       "      <td>WHITE METAL LANTERN</td>\n",
       "      <td>6</td>\n",
       "    </tr>\n",
       "    <tr>\n",
       "      <th>2</th>\n",
       "      <td>CREAM CUPID HEARTS COAT HANGER</td>\n",
       "      <td>8</td>\n",
       "    </tr>\n",
       "    <tr>\n",
       "      <th>3</th>\n",
       "      <td>KNITTED UNION FLAG HOT WATER BOTTLE</td>\n",
       "      <td>6</td>\n",
       "    </tr>\n",
       "    <tr>\n",
       "      <th>4</th>\n",
       "      <td>RED WOOLLY HOTTIE WHITE HEART.</td>\n",
       "      <td>6</td>\n",
       "    </tr>\n",
       "  </tbody>\n",
       "</table>\n",
       "</div>"
      ],
      "text/plain": [
       "                           Description  Quantity\n",
       "0   WHITE HANGING HEART T-LIGHT HOLDER         6\n",
       "1                  WHITE METAL LANTERN         6\n",
       "2       CREAM CUPID HEARTS COAT HANGER         8\n",
       "3  KNITTED UNION FLAG HOT WATER BOTTLE         6\n",
       "4       RED WOOLLY HOTTIE WHITE HEART.         6"
      ]
     },
     "metadata": {},
     "output_type": "display_data"
    }
   ],
   "source": [
    "print(\"Filas 0 a 5, columnas 2 y 3:\")\n",
    "rows_05_cols_2_3 = retail_df.iloc[:5, 2:4]\n",
    "print(type(rows_05_cols_2_3))\n",
    "display(rows_05_cols_2_3)"
   ]
  },
  {
   "cell_type": "code",
   "execution_count": 11,
   "metadata": {},
   "outputs": [
    {
     "name": "stdout",
     "output_type": "stream",
     "text": [
      "Filas 8,5,6,2:\n",
      "<class 'pandas.core.frame.DataFrame'>\n"
     ]
    },
    {
     "data": {
      "text/html": [
       "<div>\n",
       "<style scoped>\n",
       "    .dataframe tbody tr th:only-of-type {\n",
       "        vertical-align: middle;\n",
       "    }\n",
       "\n",
       "    .dataframe tbody tr th {\n",
       "        vertical-align: top;\n",
       "    }\n",
       "\n",
       "    .dataframe thead th {\n",
       "        text-align: right;\n",
       "    }\n",
       "</style>\n",
       "<table border=\"1\" class=\"dataframe\">\n",
       "  <thead>\n",
       "    <tr style=\"text-align: right;\">\n",
       "      <th></th>\n",
       "      <th>InvoiceNo</th>\n",
       "      <th>StockCode</th>\n",
       "      <th>Description</th>\n",
       "      <th>Quantity</th>\n",
       "      <th>InvoiceDate</th>\n",
       "      <th>UnitPrice</th>\n",
       "      <th>CustomerID</th>\n",
       "      <th>Country</th>\n",
       "    </tr>\n",
       "  </thead>\n",
       "  <tbody>\n",
       "    <tr>\n",
       "      <th>8</th>\n",
       "      <td>536366</td>\n",
       "      <td>22632</td>\n",
       "      <td>HAND WARMER RED POLKA DOT</td>\n",
       "      <td>6</td>\n",
       "      <td>2010-12-01 08:28:00</td>\n",
       "      <td>1.85</td>\n",
       "      <td>17850.0</td>\n",
       "      <td>United Kingdom</td>\n",
       "    </tr>\n",
       "    <tr>\n",
       "      <th>5</th>\n",
       "      <td>536365</td>\n",
       "      <td>22752</td>\n",
       "      <td>SET 7 BABUSHKA NESTING BOXES</td>\n",
       "      <td>2</td>\n",
       "      <td>2010-12-01 08:26:00</td>\n",
       "      <td>7.65</td>\n",
       "      <td>17850.0</td>\n",
       "      <td>United Kingdom</td>\n",
       "    </tr>\n",
       "    <tr>\n",
       "      <th>6</th>\n",
       "      <td>536365</td>\n",
       "      <td>21730</td>\n",
       "      <td>GLASS STAR FROSTED T-LIGHT HOLDER</td>\n",
       "      <td>6</td>\n",
       "      <td>2010-12-01 08:26:00</td>\n",
       "      <td>4.25</td>\n",
       "      <td>17850.0</td>\n",
       "      <td>United Kingdom</td>\n",
       "    </tr>\n",
       "    <tr>\n",
       "      <th>2</th>\n",
       "      <td>536365</td>\n",
       "      <td>84406B</td>\n",
       "      <td>CREAM CUPID HEARTS COAT HANGER</td>\n",
       "      <td>8</td>\n",
       "      <td>2010-12-01 08:26:00</td>\n",
       "      <td>2.75</td>\n",
       "      <td>17850.0</td>\n",
       "      <td>United Kingdom</td>\n",
       "    </tr>\n",
       "  </tbody>\n",
       "</table>\n",
       "</div>"
      ],
      "text/plain": [
       "  InvoiceNo StockCode                        Description  Quantity  \\\n",
       "8    536366     22632          HAND WARMER RED POLKA DOT         6   \n",
       "5    536365     22752       SET 7 BABUSHKA NESTING BOXES         2   \n",
       "6    536365     21730  GLASS STAR FROSTED T-LIGHT HOLDER         6   \n",
       "2    536365    84406B     CREAM CUPID HEARTS COAT HANGER         8   \n",
       "\n",
       "           InvoiceDate  UnitPrice  CustomerID         Country  \n",
       "8  2010-12-01 08:28:00       1.85     17850.0  United Kingdom  \n",
       "5  2010-12-01 08:26:00       7.65     17850.0  United Kingdom  \n",
       "6  2010-12-01 08:26:00       4.25     17850.0  United Kingdom  \n",
       "2  2010-12-01 08:26:00       2.75     17850.0  United Kingdom  "
      ]
     },
     "metadata": {},
     "output_type": "display_data"
    }
   ],
   "source": [
    "print(\"Filas 8,5,6,2:\")\n",
    "rows_8562 = retail_df.iloc[[8,5,6,2]]\n",
    "print(type(rows_8562))\n",
    "display(rows_8562)"
   ]
  },
  {
   "cell_type": "code",
   "execution_count": 12,
   "metadata": {},
   "outputs": [
    {
     "name": "stdout",
     "output_type": "stream",
     "text": [
      "Filas 8,5,6,2 y columnas 1, 4, 6:\n",
      "<class 'pandas.core.frame.DataFrame'>\n"
     ]
    },
    {
     "data": {
      "text/html": [
       "<div>\n",
       "<style scoped>\n",
       "    .dataframe tbody tr th:only-of-type {\n",
       "        vertical-align: middle;\n",
       "    }\n",
       "\n",
       "    .dataframe tbody tr th {\n",
       "        vertical-align: top;\n",
       "    }\n",
       "\n",
       "    .dataframe thead th {\n",
       "        text-align: right;\n",
       "    }\n",
       "</style>\n",
       "<table border=\"1\" class=\"dataframe\">\n",
       "  <thead>\n",
       "    <tr style=\"text-align: right;\">\n",
       "      <th></th>\n",
       "      <th>StockCode</th>\n",
       "      <th>InvoiceDate</th>\n",
       "      <th>CustomerID</th>\n",
       "    </tr>\n",
       "  </thead>\n",
       "  <tbody>\n",
       "    <tr>\n",
       "      <th>8</th>\n",
       "      <td>22632</td>\n",
       "      <td>2010-12-01 08:28:00</td>\n",
       "      <td>17850.0</td>\n",
       "    </tr>\n",
       "    <tr>\n",
       "      <th>5</th>\n",
       "      <td>22752</td>\n",
       "      <td>2010-12-01 08:26:00</td>\n",
       "      <td>17850.0</td>\n",
       "    </tr>\n",
       "    <tr>\n",
       "      <th>6</th>\n",
       "      <td>21730</td>\n",
       "      <td>2010-12-01 08:26:00</td>\n",
       "      <td>17850.0</td>\n",
       "    </tr>\n",
       "    <tr>\n",
       "      <th>2</th>\n",
       "      <td>84406B</td>\n",
       "      <td>2010-12-01 08:26:00</td>\n",
       "      <td>17850.0</td>\n",
       "    </tr>\n",
       "  </tbody>\n",
       "</table>\n",
       "</div>"
      ],
      "text/plain": [
       "  StockCode          InvoiceDate  CustomerID\n",
       "8     22632  2010-12-01 08:28:00     17850.0\n",
       "5     22752  2010-12-01 08:26:00     17850.0\n",
       "6     21730  2010-12-01 08:26:00     17850.0\n",
       "2    84406B  2010-12-01 08:26:00     17850.0"
      ]
     },
     "metadata": {},
     "output_type": "display_data"
    }
   ],
   "source": [
    "print(\"Filas 8,5,6,2 y columnas 1, 4, 6:\")\n",
    "rows_8562_cols_146 = retail_df.iloc[[8,5,6,2], [1, 4, 6]]\n",
    "print(type(rows_8562_cols_146))\n",
    "display(rows_8562_cols_146)"
   ]
  },
  {
   "cell_type": "markdown",
   "metadata": {},
   "source": [
    "### 2.3.2 loc"
   ]
  },
  {
   "cell_type": "markdown",
   "metadata": {},
   "source": [
    "Con `loc` podemos acceder a los datos por medio de los valores de los indices y no de la posición numérica de las filas y columnas, éste método es \"basado en etiquetas\".\n",
    "\n",
    "Características de `loc`:\n",
    "- Si el index de un DataFrame o Serie es categoríco, podemos acceder a el por medio de su valor.\n",
    "- También recibe valores numéricos para las posición, pero su indexación empieza desde el $1$.\n",
    "- Permite filtrado booleano de las filas.\n",
    "- Permite la selección de columnas mediante el nombre de éstas.\n",
    "\n",
    "\n",
    "Sintaxis: `data_df.loc[filas, columnas]`. <br>\n",
    "Donde:\n",
    "- `filas`: Una sola posición, un array con las posiciones numéricas, un slicing o una selección booleana.\n",
    "- `columnas`: Nombre de una columna o un array con los nombres de las columnas.\n",
    "\n",
    "Sintaxis de slicing en `loc` aplica tanto para las filas como para las columnas <br>\n",
    "<code>\n",
    "  [posicion_inicio : posicion_final : saltos]\n",
    "</code>"
   ]
  },
  {
   "cell_type": "code",
   "execution_count": 13,
   "metadata": {},
   "outputs": [
    {
     "name": "stdout",
     "output_type": "stream",
     "text": [
      "Filas de la 2 a la 8:\n",
      "<class 'pandas.core.frame.DataFrame'>\n"
     ]
    },
    {
     "data": {
      "text/html": [
       "<div>\n",
       "<style scoped>\n",
       "    .dataframe tbody tr th:only-of-type {\n",
       "        vertical-align: middle;\n",
       "    }\n",
       "\n",
       "    .dataframe tbody tr th {\n",
       "        vertical-align: top;\n",
       "    }\n",
       "\n",
       "    .dataframe thead th {\n",
       "        text-align: right;\n",
       "    }\n",
       "</style>\n",
       "<table border=\"1\" class=\"dataframe\">\n",
       "  <thead>\n",
       "    <tr style=\"text-align: right;\">\n",
       "      <th></th>\n",
       "      <th>InvoiceNo</th>\n",
       "      <th>StockCode</th>\n",
       "      <th>Description</th>\n",
       "      <th>Quantity</th>\n",
       "      <th>InvoiceDate</th>\n",
       "      <th>UnitPrice</th>\n",
       "      <th>CustomerID</th>\n",
       "      <th>Country</th>\n",
       "    </tr>\n",
       "  </thead>\n",
       "  <tbody>\n",
       "    <tr>\n",
       "      <th>2</th>\n",
       "      <td>536365</td>\n",
       "      <td>84406B</td>\n",
       "      <td>CREAM CUPID HEARTS COAT HANGER</td>\n",
       "      <td>8</td>\n",
       "      <td>2010-12-01 08:26:00</td>\n",
       "      <td>2.75</td>\n",
       "      <td>17850.0</td>\n",
       "      <td>United Kingdom</td>\n",
       "    </tr>\n",
       "    <tr>\n",
       "      <th>3</th>\n",
       "      <td>536365</td>\n",
       "      <td>84029G</td>\n",
       "      <td>KNITTED UNION FLAG HOT WATER BOTTLE</td>\n",
       "      <td>6</td>\n",
       "      <td>2010-12-01 08:26:00</td>\n",
       "      <td>3.39</td>\n",
       "      <td>17850.0</td>\n",
       "      <td>United Kingdom</td>\n",
       "    </tr>\n",
       "    <tr>\n",
       "      <th>4</th>\n",
       "      <td>536365</td>\n",
       "      <td>84029E</td>\n",
       "      <td>RED WOOLLY HOTTIE WHITE HEART.</td>\n",
       "      <td>6</td>\n",
       "      <td>2010-12-01 08:26:00</td>\n",
       "      <td>3.39</td>\n",
       "      <td>17850.0</td>\n",
       "      <td>United Kingdom</td>\n",
       "    </tr>\n",
       "    <tr>\n",
       "      <th>5</th>\n",
       "      <td>536365</td>\n",
       "      <td>22752</td>\n",
       "      <td>SET 7 BABUSHKA NESTING BOXES</td>\n",
       "      <td>2</td>\n",
       "      <td>2010-12-01 08:26:00</td>\n",
       "      <td>7.65</td>\n",
       "      <td>17850.0</td>\n",
       "      <td>United Kingdom</td>\n",
       "    </tr>\n",
       "    <tr>\n",
       "      <th>6</th>\n",
       "      <td>536365</td>\n",
       "      <td>21730</td>\n",
       "      <td>GLASS STAR FROSTED T-LIGHT HOLDER</td>\n",
       "      <td>6</td>\n",
       "      <td>2010-12-01 08:26:00</td>\n",
       "      <td>4.25</td>\n",
       "      <td>17850.0</td>\n",
       "      <td>United Kingdom</td>\n",
       "    </tr>\n",
       "    <tr>\n",
       "      <th>7</th>\n",
       "      <td>536366</td>\n",
       "      <td>22633</td>\n",
       "      <td>HAND WARMER UNION JACK</td>\n",
       "      <td>6</td>\n",
       "      <td>2010-12-01 08:28:00</td>\n",
       "      <td>1.85</td>\n",
       "      <td>17850.0</td>\n",
       "      <td>United Kingdom</td>\n",
       "    </tr>\n",
       "    <tr>\n",
       "      <th>8</th>\n",
       "      <td>536366</td>\n",
       "      <td>22632</td>\n",
       "      <td>HAND WARMER RED POLKA DOT</td>\n",
       "      <td>6</td>\n",
       "      <td>2010-12-01 08:28:00</td>\n",
       "      <td>1.85</td>\n",
       "      <td>17850.0</td>\n",
       "      <td>United Kingdom</td>\n",
       "    </tr>\n",
       "  </tbody>\n",
       "</table>\n",
       "</div>"
      ],
      "text/plain": [
       "  InvoiceNo StockCode                          Description  Quantity  \\\n",
       "2    536365    84406B       CREAM CUPID HEARTS COAT HANGER         8   \n",
       "3    536365    84029G  KNITTED UNION FLAG HOT WATER BOTTLE         6   \n",
       "4    536365    84029E       RED WOOLLY HOTTIE WHITE HEART.         6   \n",
       "5    536365     22752         SET 7 BABUSHKA NESTING BOXES         2   \n",
       "6    536365     21730    GLASS STAR FROSTED T-LIGHT HOLDER         6   \n",
       "7    536366     22633               HAND WARMER UNION JACK         6   \n",
       "8    536366     22632            HAND WARMER RED POLKA DOT         6   \n",
       "\n",
       "           InvoiceDate  UnitPrice  CustomerID         Country  \n",
       "2  2010-12-01 08:26:00       2.75     17850.0  United Kingdom  \n",
       "3  2010-12-01 08:26:00       3.39     17850.0  United Kingdom  \n",
       "4  2010-12-01 08:26:00       3.39     17850.0  United Kingdom  \n",
       "5  2010-12-01 08:26:00       7.65     17850.0  United Kingdom  \n",
       "6  2010-12-01 08:26:00       4.25     17850.0  United Kingdom  \n",
       "7  2010-12-01 08:28:00       1.85     17850.0  United Kingdom  \n",
       "8  2010-12-01 08:28:00       1.85     17850.0  United Kingdom  "
      ]
     },
     "metadata": {},
     "output_type": "display_data"
    }
   ],
   "source": [
    "print(\"Filas de la 2 a la 8:\")\n",
    "rows_from_2_to_8 = retail_df.loc[2:8]\n",
    "print(type(rows_from_2_to_8))\n",
    "display(rows_from_2_to_8)"
   ]
  },
  {
   "cell_type": "code",
   "execution_count": 14,
   "metadata": {},
   "outputs": [
    {
     "name": "stdout",
     "output_type": "stream",
     "text": [
      "Ventas de 6 unidades en Arabia Saudita\n"
     ]
    },
    {
     "data": {
      "text/html": [
       "<div>\n",
       "<style scoped>\n",
       "    .dataframe tbody tr th:only-of-type {\n",
       "        vertical-align: middle;\n",
       "    }\n",
       "\n",
       "    .dataframe tbody tr th {\n",
       "        vertical-align: top;\n",
       "    }\n",
       "\n",
       "    .dataframe thead th {\n",
       "        text-align: right;\n",
       "    }\n",
       "</style>\n",
       "<table border=\"1\" class=\"dataframe\">\n",
       "  <thead>\n",
       "    <tr style=\"text-align: right;\">\n",
       "      <th></th>\n",
       "      <th>Description</th>\n",
       "      <th>Quantity</th>\n",
       "      <th>UnitPrice</th>\n",
       "      <th>InvoiceDate</th>\n",
       "    </tr>\n",
       "  </thead>\n",
       "  <tbody>\n",
       "    <tr>\n",
       "      <th>100811</th>\n",
       "      <td>GLASS JAR MARMALADE</td>\n",
       "      <td>6</td>\n",
       "      <td>2.95</td>\n",
       "      <td>2011-02-24 10:34:00</td>\n",
       "    </tr>\n",
       "    <tr>\n",
       "      <th>100812</th>\n",
       "      <td>GLASS JAR PEACOCK BATH SALTS</td>\n",
       "      <td>6</td>\n",
       "      <td>2.95</td>\n",
       "      <td>2011-02-24 10:34:00</td>\n",
       "    </tr>\n",
       "    <tr>\n",
       "      <th>100813</th>\n",
       "      <td>GLASS JAR DAISY FRESH COTTON WOOL</td>\n",
       "      <td>6</td>\n",
       "      <td>2.95</td>\n",
       "      <td>2011-02-24 10:34:00</td>\n",
       "    </tr>\n",
       "  </tbody>\n",
       "</table>\n",
       "</div>"
      ],
      "text/plain": [
       "                              Description  Quantity  UnitPrice  \\\n",
       "100811               GLASS JAR MARMALADE          6       2.95   \n",
       "100812       GLASS JAR PEACOCK BATH SALTS         6       2.95   \n",
       "100813  GLASS JAR DAISY FRESH COTTON WOOL         6       2.95   \n",
       "\n",
       "                InvoiceDate  \n",
       "100811  2011-02-24 10:34:00  \n",
       "100812  2011-02-24 10:34:00  \n",
       "100813  2011-02-24 10:34:00  "
      ]
     },
     "metadata": {},
     "output_type": "display_data"
    }
   ],
   "source": [
    "print(\"Ventas de 6 unidades en Arabia Saudita\")\n",
    "advance_selection = (\n",
    "  retail_df.loc[\n",
    "    (retail_df[\"Country\"] == \"Saudi Arabia\")& (retail_df[\"Quantity\"] == 6),\n",
    "    [\"Description\", \"Quantity\", \"UnitPrice\", \"InvoiceDate\"]\n",
    "  ]\n",
    ")\n",
    "display(advance_selection)"
   ]
  },
  {
   "cell_type": "markdown",
   "metadata": {},
   "source": [
    "## 2.4 - Datos Faltantes"
   ]
  },
  {
   "cell_type": "markdown",
   "metadata": {},
   "source": [
    "Los datos faltantes, por lo general son valores nulos o bien valores que están fuera de rango (según la variable). <br>\n",
    "\n",
    "Los datos pueden faltar en nuestro dataset por varias razones:\n",
    "- Datos no disponibles a la hora de la recolección.\n",
    "- Errores durante el almacenamiento.\n",
    "- Errores en la recolección.\n",
    "\n",
    "Durante el proceso de limpieza de datos se les da tratamiento a los valores faltantes, que pueden ser:\n",
    "- Imputación (rellenar los faltantes con valores conocidos, ej: media, mediana)\n",
    "- Eliminación"
   ]
  },
  {
   "cell_type": "markdown",
   "metadata": {},
   "source": [
    "**Busqueda de datos faltantes**:\n",
    "\n",
    "Para buscar valores faltantes pandas nos provee dos funciones:\n",
    "- `isna()`\n",
    "- `isnull()`\n",
    "\n",
    "Ambdas funciones regresan un dataframe booleano, donde:\n",
    "- `False`: El dato NO es faltante.\n",
    "- `True`: El dato SI es faltante.\n",
    "\n",
    "Al DataFrame resultante podemos aplicarle la función `sum()` y obtendremos una `Serie` con el conteo (sumatoria) de los valores en `True`, el indice de la serie es el nombre de la columna. "
   ]
  },
  {
   "cell_type": "code",
   "execution_count": 15,
   "metadata": {},
   "outputs": [
    {
     "name": "stdout",
     "output_type": "stream",
     "text": [
      "Total de valores faltantes: 136534\n",
      "Total de valores faltantes por cada columna:\n",
      " InvoiceNo           0\n",
      "StockCode           0\n",
      "Description      1454\n",
      "Quantity            0\n",
      "InvoiceDate         0\n",
      "UnitPrice           0\n",
      "CustomerID     135080\n",
      "Country             0\n",
      "dtype: int64\n",
      "\n",
      "Proporción total de faltantes: 25.2\n",
      "Proporción de faltantes por columna:\n",
      " Description     0.27\n",
      "CustomerID     24.93\n",
      "dtype: float64\n"
     ]
    }
   ],
   "source": [
    "# Cuantos faltantes tenemos en total?\n",
    "total_missing = retail_df.isna().sum().sum()\n",
    "print(f\"Total de valores faltantes: {total_missing}\")\n",
    "# Cuantos faltantes tenemos por columna?\n",
    "total_missing_column = retail_df.isnull().sum()\n",
    "print(\"Total de valores faltantes por cada columna:\\n\", total_missing_column)\n",
    "\n",
    "# Cual es la proporción de faltatantes respecto a total de registros?\n",
    "lenght = retail_df.shape[0]\n",
    "column_proportion = round((total_missing_column[total_missing_column > 0] / lenght) * 100, 2)\n",
    "\n",
    "total_proportion = round((total_missing / lenght) * 100, 2)\n",
    "\n",
    "print(f\"\\nProporción total de faltantes: {total_proportion}\")\n",
    "print(\"Proporción de faltantes por columna:\\n\", column_proportion)"
   ]
  },
  {
   "cell_type": "markdown",
   "metadata": {},
   "source": [
    "En en análisis podemos observar que el $25.2\\%$ del DataFrame corresponde a datos faltantes, de los cuales solo el $0.27\\%$ corresponden a la columna `Description` y el resto al `CustomerID`.\n",
    "\n",
    "Para el caso de la columna `Description` podemos eliminar los registros con datos faltantes dado que la proporción es mínima.\n",
    "\n",
    "Sin embargo eliminar el $24.93\\%$ de datos faltantes en `CustomerID` conllevaría una perdida de información considerable, por lo tanto es mejor proceder a imputar dichos valores faltantes."
   ]
  },
  {
   "cell_type": "markdown",
   "metadata": {},
   "source": [
    "### 2.4.1 Eliminar datos faltantes"
   ]
  },
  {
   "cell_type": "markdown",
   "metadata": {},
   "source": [
    "La función `drona()` elimina datos faltantes tanto de un DataFrame como de una Serie, la función por si sola (sin parámetros) devuelve un DataFrame/Serie sin los registros que tengan algún valor faltante, sin embargo podemos enviar una serie de parámetros para modificar este resultado.\n",
    "\n",
    "Parámetros:\n",
    "- `axis`: 0 (default) para eliminar filas, 1 para eliminar columnas.\n",
    "- `how`: \"any\" (default) elimina la fila/columna si encuentra algún valor faltante, \"all\" elimina la fila/columna si y solo si todos los elementos son faltantes.\n",
    "- `subset`: Lista de columnas a evaluar si cuentan con nulos.\n",
    "- `inplace`: `False` (default) no modifica el DataFrame/Serie pero retorna uno nuevo sin los faltantes, `True` modifica el DataFrame/Serie y no retorna nada.\n",
    "\n",
    "\n",
    "Análisis de datos donde `Description` tiene valores faltantes."
   ]
  },
  {
   "cell_type": "code",
   "execution_count": 16,
   "metadata": {},
   "outputs": [
    {
     "data": {
      "text/html": [
       "<div>\n",
       "<style scoped>\n",
       "    .dataframe tbody tr th:only-of-type {\n",
       "        vertical-align: middle;\n",
       "    }\n",
       "\n",
       "    .dataframe tbody tr th {\n",
       "        vertical-align: top;\n",
       "    }\n",
       "\n",
       "    .dataframe thead th {\n",
       "        text-align: right;\n",
       "    }\n",
       "</style>\n",
       "<table border=\"1\" class=\"dataframe\">\n",
       "  <thead>\n",
       "    <tr style=\"text-align: right;\">\n",
       "      <th></th>\n",
       "      <th>InvoiceNo</th>\n",
       "      <th>StockCode</th>\n",
       "      <th>Description</th>\n",
       "      <th>Quantity</th>\n",
       "      <th>InvoiceDate</th>\n",
       "      <th>UnitPrice</th>\n",
       "      <th>CustomerID</th>\n",
       "      <th>Country</th>\n",
       "    </tr>\n",
       "  </thead>\n",
       "  <tbody>\n",
       "    <tr>\n",
       "      <th>21792</th>\n",
       "      <td>538143</td>\n",
       "      <td>84534B</td>\n",
       "      <td>NaN</td>\n",
       "      <td>1</td>\n",
       "      <td>2010-12-09 15:58:00</td>\n",
       "      <td>0.0</td>\n",
       "      <td>NaN</td>\n",
       "      <td>United Kingdom</td>\n",
       "    </tr>\n",
       "    <tr>\n",
       "      <th>255902</th>\n",
       "      <td>559376</td>\n",
       "      <td>48116</td>\n",
       "      <td>NaN</td>\n",
       "      <td>-35</td>\n",
       "      <td>2011-07-08 10:38:00</td>\n",
       "      <td>0.0</td>\n",
       "      <td>NaN</td>\n",
       "      <td>United Kingdom</td>\n",
       "    </tr>\n",
       "    <tr>\n",
       "      <th>7191</th>\n",
       "      <td>536999</td>\n",
       "      <td>21421</td>\n",
       "      <td>NaN</td>\n",
       "      <td>110</td>\n",
       "      <td>2010-12-03 15:32:00</td>\n",
       "      <td>0.0</td>\n",
       "      <td>NaN</td>\n",
       "      <td>United Kingdom</td>\n",
       "    </tr>\n",
       "    <tr>\n",
       "      <th>136883</th>\n",
       "      <td>547999</td>\n",
       "      <td>20860</td>\n",
       "      <td>NaN</td>\n",
       "      <td>-7</td>\n",
       "      <td>2011-03-29 10:24:00</td>\n",
       "      <td>0.0</td>\n",
       "      <td>NaN</td>\n",
       "      <td>United Kingdom</td>\n",
       "    </tr>\n",
       "    <tr>\n",
       "      <th>13959</th>\n",
       "      <td>537436</td>\n",
       "      <td>84270</td>\n",
       "      <td>NaN</td>\n",
       "      <td>7</td>\n",
       "      <td>2010-12-06 17:00:00</td>\n",
       "      <td>0.0</td>\n",
       "      <td>NaN</td>\n",
       "      <td>United Kingdom</td>\n",
       "    </tr>\n",
       "  </tbody>\n",
       "</table>\n",
       "</div>"
      ],
      "text/plain": [
       "       InvoiceNo StockCode Description  Quantity          InvoiceDate  \\\n",
       "21792     538143    84534B         NaN         1  2010-12-09 15:58:00   \n",
       "255902    559376     48116         NaN       -35  2011-07-08 10:38:00   \n",
       "7191      536999     21421         NaN       110  2010-12-03 15:32:00   \n",
       "136883    547999     20860         NaN        -7  2011-03-29 10:24:00   \n",
       "13959     537436     84270         NaN         7  2010-12-06 17:00:00   \n",
       "\n",
       "        UnitPrice  CustomerID         Country  \n",
       "21792         0.0         NaN  United Kingdom  \n",
       "255902        0.0         NaN  United Kingdom  \n",
       "7191          0.0         NaN  United Kingdom  \n",
       "136883        0.0         NaN  United Kingdom  \n",
       "13959         0.0         NaN  United Kingdom  "
      ]
     },
     "execution_count": 16,
     "metadata": {},
     "output_type": "execute_result"
    }
   ],
   "source": [
    "data_description_na = retail_df[retail_df[\"Description\"].isna()]\n",
    "data_description_na.sample(5)"
   ]
  },
  {
   "cell_type": "code",
   "execution_count": 17,
   "metadata": {},
   "outputs": [
    {
     "name": "stdout",
     "output_type": "stream",
     "text": [
      "Total de datos de 'Quantity' menor a 0: 862\n",
      "Valores de 'UnitPrice':  [0.]\n",
      "Valores de 'CustomerID':  [nan]\n"
     ]
    }
   ],
   "source": [
    "quantity_less_0 = data_description_na[data_description_na[\"Quantity\"] < 0].shape[0]\n",
    "print(f\"Total de datos de 'Quantity' menor a 0: {quantity_less_0}\")\n",
    "print(\"Valores de 'UnitPrice': \", data_description_na[\"UnitPrice\"].unique())\n",
    "print(\"Valores de 'CustomerID': \", data_description_na[\"CustomerID\"].unique())"
   ]
  },
  {
   "cell_type": "markdown",
   "metadata": {},
   "source": [
    "Las columnas `CustomerID`, `UnitPrice` y `Quantity` cuando `Description` es null (valor faltante) son a su vez faltantes y negativos, por lo tanto podemos concluir que eliminar los registros donde `Description` es null no incurrirá en análisis sesgados o con interpretaciones erróneas. "
   ]
  },
  {
   "cell_type": "code",
   "execution_count": 18,
   "metadata": {},
   "outputs": [
    {
     "data": {
      "text/plain": [
       "InvoiceNo           0\n",
       "StockCode           0\n",
       "Description         0\n",
       "Quantity            0\n",
       "InvoiceDate         0\n",
       "UnitPrice           0\n",
       "CustomerID     133626\n",
       "Country             0\n",
       "dtype: int64"
      ]
     },
     "execution_count": 18,
     "metadata": {},
     "output_type": "execute_result"
    }
   ],
   "source": [
    "# Eliminamos las filas con valores faltantes solo en la columna \"Description\" y modificamos el DataFrame\n",
    "retail_df.dropna(subset=[\"Description\"], inplace=True)\n",
    "retail_df.isna().sum()"
   ]
  },
  {
   "cell_type": "markdown",
   "metadata": {},
   "source": [
    "### 2.4.2 Imputar datos faltantes"
   ]
  },
  {
   "cell_type": "markdown",
   "metadata": {},
   "source": [
    "Pandas incluye funciones para imputar datos faltantes a partir de un dato conocido.\n",
    "Funciones:\n",
    "- `ffill()`: Forward Fill o llenado hacia adelante, rellena los valores faltantes (NA/NaN) a partir del último dato valido hasta el siguiente dato valido.\n",
    "- `bfill()`: Backward Fill o llenado hacia atrás, rellena los valores faltantes (NA/NaN) a partir del siguiente dato valido hasta rellenar los datos faltantes que están detrás.\n",
    "\n",
    "Ambas funciones reciben el parámetro `inplace` para indicarle a pandas si modifica o no el DataFrame original.\n",
    "\n",
    "Para la columna `CustomerID` aplicaré la función `ffill`."
   ]
  },
  {
   "cell_type": "code",
   "execution_count": 19,
   "metadata": {},
   "outputs": [
    {
     "data": {
      "text/plain": [
       "InvoiceNo      0\n",
       "StockCode      0\n",
       "Description    0\n",
       "Quantity       0\n",
       "InvoiceDate    0\n",
       "UnitPrice      0\n",
       "CustomerID     0\n",
       "Country        0\n",
       "dtype: int64"
      ]
     },
     "execution_count": 19,
     "metadata": {},
     "output_type": "execute_result"
    }
   ],
   "source": [
    "retail_df[\"CustomerID\"].ffill(inplace=True)\n",
    "retail_df.isna().sum()"
   ]
  },
  {
   "cell_type": "markdown",
   "metadata": {},
   "source": [
    "## 2.5 Manipulación y creación de columnas"
   ]
  },
  {
   "cell_type": "markdown",
   "metadata": {},
   "source": [
    "**Manipular y transformar los datos:**\n",
    "\n",
    "- Permite realizar cálculos derivados de datos existentes.\n",
    "- Prepara los datos para análisis más avanzados.\n",
    "- Tratamiento de los datos más eficiente.\n",
    "\n",
    "Sintaxis para crear una columna: `df[\"nombre_columna_nueva\"] = ...` <br>\n",
    "Sintaxis para modificar una columna: `df[\"nombre_columna\"] = ...`\n",
    "\n",
    "Algunas de las formas de manipular o crear columnas con pandas, son:\n",
    "1. Crear una columna a partir de una operación aritmética  entre dos columnas existentes.\n"
   ]
  },
  {
   "cell_type": "code",
   "execution_count": 20,
   "metadata": {},
   "outputs": [
    {
     "data": {
      "text/plain": [
       "0    15.30\n",
       "1    20.34\n",
       "2    22.00\n",
       "3    20.34\n",
       "4    20.34\n",
       "Name: TotalPrice, dtype: float64"
      ]
     },
     "execution_count": 20,
     "metadata": {},
     "output_type": "execute_result"
    }
   ],
   "source": [
    "# Precio total = Cantidad * Precio unitario.\n",
    "retail_df[\"TotalPrice\"] = retail_df[\"Quantity\"] * retail_df[\"UnitPrice\"]\n",
    "retail_df[\"TotalPrice\"].head()"
   ]
  },
  {
   "cell_type": "markdown",
   "metadata": {},
   "source": [
    "2. Crear una columna a partir de un valor unitario."
   ]
  },
  {
   "cell_type": "code",
   "execution_count": 21,
   "metadata": {},
   "outputs": [
    {
     "data": {
      "text/plain": [
       "0    0.9\n",
       "1    0.9\n",
       "2    0.9\n",
       "3    0.9\n",
       "4    0.9\n",
       "Name: DiscountValue, dtype: float64"
      ]
     },
     "execution_count": 21,
     "metadata": {},
     "output_type": "execute_result"
    }
   ],
   "source": [
    "retail_df[\"DiscountValue\"] = 0.9\n",
    "retail_df[\"DiscountValue\"].head()"
   ]
  },
  {
   "cell_type": "markdown",
   "metadata": {},
   "source": [
    "3. Crear una columna a partir de una condición booleana."
   ]
  },
  {
   "cell_type": "code",
   "execution_count": 22,
   "metadata": {},
   "outputs": [
    {
     "data": {
      "text/plain": [
       "False    540067\n",
       "True        388\n",
       "Name: HighValue, dtype: int64"
      ]
     },
     "execution_count": 22,
     "metadata": {},
     "output_type": "execute_result"
    }
   ],
   "source": [
    "retail_df[\"HighValue\"] = retail_df[\"TotalPrice\"] > 1_000\n",
    "retail_df[\"HighValue\"].value_counts()"
   ]
  },
  {
   "cell_type": "markdown",
   "metadata": {},
   "source": [
    "4. Modificar una columna cambiando el tipo de dato de ésta."
   ]
  },
  {
   "cell_type": "code",
   "execution_count": 23,
   "metadata": {},
   "outputs": [
    {
     "data": {
      "text/plain": [
       "dtype('O')"
      ]
     },
     "execution_count": 23,
     "metadata": {},
     "output_type": "execute_result"
    }
   ],
   "source": [
    "retail_df[\"InvoiceDate\"].dtype"
   ]
  },
  {
   "cell_type": "code",
   "execution_count": 24,
   "metadata": {},
   "outputs": [
    {
     "data": {
      "text/plain": [
       "dtype('<M8[ns]')"
      ]
     },
     "execution_count": 24,
     "metadata": {},
     "output_type": "execute_result"
    }
   ],
   "source": [
    "retail_df[\"InvoiceDate\"] = pd.to_datetime(retail_df[\"InvoiceDate\"])\n",
    "retail_df[\"InvoiceDate\"].dtype"
   ]
  },
  {
   "cell_type": "markdown",
   "metadata": {},
   "source": [
    "5. Crear una columna a partir de aplicar una función especifica."
   ]
  },
  {
   "cell_type": "code",
   "execution_count": 25,
   "metadata": {},
   "outputs": [],
   "source": [
    "def categorize_price(price):\n",
    "  if price >= 1_000:\n",
    "    return \"High\"\n",
    "  elif price > 500:\n",
    "    return \"Medium\"\n",
    "  else:\n",
    "    return \"Low\""
   ]
  },
  {
   "cell_type": "code",
   "execution_count": 26,
   "metadata": {},
   "outputs": [
    {
     "data": {
      "text/plain": [
       "Low       540200\n",
       "Medium       135\n",
       "High         120\n",
       "Name: PriceCategory, dtype: int64"
      ]
     },
     "execution_count": 26,
     "metadata": {},
     "output_type": "execute_result"
    }
   ],
   "source": [
    "retail_df[\"PriceCategory\"] = retail_df[\"UnitPrice\"].apply(categorize_price)\n",
    "retail_df[\"PriceCategory\"].value_counts()"
   ]
  },
  {
   "cell_type": "markdown",
   "metadata": {},
   "source": [
    "## 2.6  Groupby"
   ]
  },
  {
   "cell_type": "markdown",
   "metadata": {},
   "source": [
    "La función `groupby` trabaja en conjunto con funciones de agregación (media, moda, suma, conteos, etc.) o bien con funciones definidas por el usuario por medio del método `apply()`. <br>\n",
    "\n",
    "Esta función nos ayudadara a realizar análisis más avanzados y con máyor profundidad, va de la mano de preguntas que necesitemos responder.\n",
    "\n",
    "📌 **Nota**: La lógica que siguen `groupby` en pandas es igual a su homónima en SQL. \n",
    "\n",
    "**Como implementar `groupby`?**\n",
    "- Agrupamos los datos por una o más columnas.\n",
    "- Seleccionamos las columnas a las cuales queremos aplicar la función de agregación. <br>\n",
    "📢 Este punto es opcional, sino se indican las columnas la función de agregación se aplicará a todas las columnas.\n",
    "- Aplicamos la función de agregación.\n",
    "    - Funciones estadísticas: media, moda, mediana, desviación estándar, etc.\n",
    "    - Conteos y sumatorias\n",
    "    - Funciones definidas por el usuario o funciones lambda (con `apply`)\n",
    "\n",
    "📌 **Nota**: Lo anterior es solo una forma de las muchas que existen para implementar groupby, la imaginación es el limite 🪄."
   ]
  },
  {
   "cell_type": "markdown",
   "metadata": {},
   "source": [
    "Agrupamiento por una sola columna y selección de solo una columna para aplicar la función `mean`:"
   ]
  },
  {
   "cell_type": "code",
   "execution_count": 27,
   "metadata": {},
   "outputs": [
    {
     "name": "stdout",
     "output_type": "stream",
     "text": [
      "<class 'pandas.core.series.Series'>\n",
      "<class 'pandas.core.indexes.base.Index'>\n",
      "Country\n",
      "Australia    108.877895\n",
      "Austria       25.322494\n",
      "Bahrain       28.863158\n",
      "Belgium       19.773301\n",
      "Brazil        35.737500\n",
      "Name: TotalPrice, dtype: float64\n"
     ]
    }
   ],
   "source": [
    "# Cuál es el promedio total de ventas por país?\n",
    "avg_sale_per_country = retail_df.groupby(\"Country\")[\"TotalPrice\"].mean().head()\n",
    "print(type(avg_sale_per_country))\n",
    "print(type(avg_sale_per_country.index))\n",
    "print(avg_sale_per_country.head())"
   ]
  },
  {
   "cell_type": "markdown",
   "metadata": {},
   "source": [
    "Aplicación de dos funciones de agregación distintas a una sola columna:"
   ]
  },
  {
   "cell_type": "code",
   "execution_count": 28,
   "metadata": {},
   "outputs": [
    {
     "name": "stdout",
     "output_type": "stream",
     "text": [
      "<class 'pandas.core.frame.DataFrame'>\n",
      "<class 'pandas.core.indexes.base.Index'>\n",
      "                 mean        sum\n",
      "Country                         \n",
      "Australia  108.877895  137077.27\n",
      "Austria     25.322494   10154.32\n",
      "Bahrain     28.863158     548.40\n",
      "Belgium     19.773301   40910.96\n",
      "Brazil      35.737500    1143.60\n"
     ]
    }
   ],
   "source": [
    "# Cuál es el promedio total de ventas por país y cuál es el total vendido?\n",
    "avg_total_sale_per_country = retail_df.groupby(\"Country\")[\"TotalPrice\"].agg([\"mean\", \"sum\"]).head(10)\n",
    "print(type(avg_total_sale_per_country))\n",
    "print(type(avg_total_sale_per_country.index))\n",
    "print(avg_total_sale_per_country.head())"
   ]
  },
  {
   "cell_type": "markdown",
   "metadata": {},
   "source": [
    "Agrupamiento por dos columnas:"
   ]
  },
  {
   "cell_type": "code",
   "execution_count": 29,
   "metadata": {},
   "outputs": [
    {
     "name": "stdout",
     "output_type": "stream",
     "text": [
      "<class 'pandas.core.series.Series'>\n",
      "<class 'pandas.core.indexes.multi.MultiIndex'>\n",
      "Country      StockCode\n",
      "Australia    15036        600\n",
      "             15056BL        3\n",
      "             16161P       400\n",
      "             16169E        25\n",
      "             20665          6\n",
      "                         ... \n",
      "Unspecified  85180A         2\n",
      "             85180B         1\n",
      "             85212         12\n",
      "             85213         12\n",
      "             85227         10\n",
      "Name: Quantity, Length: 19725, dtype: int64\n"
     ]
    }
   ],
   "source": [
    "# Cuál es el total de ventas por producto en cada país?\n",
    "country_stock = retail_df.groupby([\"Country\", \"StockCode\"])[\"Quantity\"].sum()\n",
    "print(type(country_stock))\n",
    "print(type(country_stock.index))\n",
    "print(country_stock)"
   ]
  },
  {
   "cell_type": "markdown",
   "metadata": {},
   "source": [
    "Alicando una función definida por le usuario:"
   ]
  },
  {
   "cell_type": "code",
   "execution_count": 30,
   "metadata": {},
   "outputs": [],
   "source": [
    "# Total ventas con descuento\n",
    "def total_revenue_disc(group):\n",
    "  return (group[\"TotalPrice\"] * group[\"DiscountValue\"]).sum()"
   ]
  },
  {
   "cell_type": "code",
   "execution_count": 31,
   "metadata": {},
   "outputs": [
    {
     "name": "stdout",
     "output_type": "stream",
     "text": [
      "<class 'pandas.core.series.Series'>\n",
      "<class 'pandas.core.indexes.base.Index'>\n",
      "Country\n",
      "Australia    123369.543\n",
      "Austria        9138.888\n",
      "Bahrain         493.560\n",
      "Belgium       36819.864\n",
      "Brazil         1029.240\n",
      "dtype: float64\n"
     ]
    }
   ],
   "source": [
    "# Cuál es el total de ventas con desceunto aplicado por país\n",
    "total_revenue = retail_df.groupby(\"Country\").apply(total_revenue_disc)\n",
    "print(type(total_revenue))\n",
    "print(type(total_revenue.index))\n",
    "print(total_revenue.head())"
   ]
  },
  {
   "cell_type": "markdown",
   "metadata": {},
   "source": [
    "Reto: Encontrar el top 3 mejores y peores ventas por país"
   ]
  },
  {
   "cell_type": "code",
   "execution_count": 32,
   "metadata": {},
   "outputs": [
    {
     "name": "stdout",
     "output_type": "stream",
     "text": [
      "Forma #1\n",
      "\n",
      "Mejores 3: Country\n",
      "United Kingdom    8187806.364\n",
      "Netherlands        284661.540\n",
      "EIRE               263276.820\n",
      "dtype: float64\n",
      "\n",
      "Peores 3: Country\n",
      "Saudi Arabia      131.17\n",
      "Bahrain           548.40\n",
      "Czech Republic    707.72\n",
      "dtype: float64\n"
     ]
    }
   ],
   "source": [
    "# Forma 1: \n",
    "top_3_best_sales = (\n",
    "  retail_df\n",
    "  .groupby(\"Country\")\n",
    "  .apply(lambda x: (x[\"Quantity\"] * x[\"UnitPrice\"]).sum())\n",
    "  .sort_values(ascending=False)\n",
    "  .head(3)\n",
    ")\n",
    "print(\"Forma #1\\n\")\n",
    "print(\"Mejores 3:\", top_3_best_sales)\n",
    "\n",
    "top_3_worst_sales = (\n",
    "  retail_df\n",
    "  .groupby(\"Country\")\n",
    "  .apply(lambda x: (x[\"Quantity\"] * x[\"UnitPrice\"]).sum())\n",
    "  .sort_values(ascending=True)\n",
    "  .head(3)\n",
    ")\n",
    "print(\"\\nPeores 3:\", top_3_worst_sales)\n"
   ]
  },
  {
   "cell_type": "markdown",
   "metadata": {},
   "source": [
    "## 2.7 Filtrado de datos"
   ]
  },
  {
   "cell_type": "markdown",
   "metadata": {},
   "source": [
    "Es una técica que permite extraer un subconjunto especifico de datos a partir de un Dataset, se basa en condicionales lógicos dentro del mismo DataFrame. \n",
    "\n",
    "Filtrar los datos nos permite prestar atención más detallada en aspectos especificos de los datos:\n",
    "- Datos de un periodo de tiempo especifico.\n",
    "- Información de una región o regiones en concreto.\n",
    "- Datos según una categoría.\n",
    "\n",
    "**Sintaxis**\n",
    "Obtendremos un nuevo DataFrame con los datos que cumplan con la condición dada:\n",
    "```python\n",
    "df[df[\"columna\"] == \"un valor\"]\n",
    "\n",
    "# Dos condiciones \n",
    "df[(df[\"columna\"] >= \"un valor\") & (df[\"columna\"] <= \"un valor\")] # operador and\n",
    "df[(df[\"columna\"] <= \"un valor\") | (df[\"columna\"] >= \"un valor\")] # operatos or\n",
    "\n",
    "# Con .loc\n",
    "df.loc[df[\"columna\"] == \"un valor\"]\n",
    "```\n"
   ]
  },
  {
   "cell_type": "markdown",
   "metadata": {},
   "source": [
    "**Ejemplos:**"
   ]
  },
  {
   "cell_type": "code",
   "execution_count": 33,
   "metadata": {},
   "outputs": [
    {
     "name": "stdout",
     "output_type": "stream",
     "text": [
      "Ventas en Reino Unido\n"
     ]
    },
    {
     "data": {
      "text/html": [
       "<div>\n",
       "<style scoped>\n",
       "    .dataframe tbody tr th:only-of-type {\n",
       "        vertical-align: middle;\n",
       "    }\n",
       "\n",
       "    .dataframe tbody tr th {\n",
       "        vertical-align: top;\n",
       "    }\n",
       "\n",
       "    .dataframe thead th {\n",
       "        text-align: right;\n",
       "    }\n",
       "</style>\n",
       "<table border=\"1\" class=\"dataframe\">\n",
       "  <thead>\n",
       "    <tr style=\"text-align: right;\">\n",
       "      <th></th>\n",
       "      <th>Description</th>\n",
       "      <th>Quantity</th>\n",
       "    </tr>\n",
       "  </thead>\n",
       "  <tbody>\n",
       "    <tr>\n",
       "      <th>0</th>\n",
       "      <td>WHITE HANGING HEART T-LIGHT HOLDER</td>\n",
       "      <td>6</td>\n",
       "    </tr>\n",
       "    <tr>\n",
       "      <th>1</th>\n",
       "      <td>WHITE METAL LANTERN</td>\n",
       "      <td>6</td>\n",
       "    </tr>\n",
       "    <tr>\n",
       "      <th>2</th>\n",
       "      <td>CREAM CUPID HEARTS COAT HANGER</td>\n",
       "      <td>8</td>\n",
       "    </tr>\n",
       "    <tr>\n",
       "      <th>3</th>\n",
       "      <td>KNITTED UNION FLAG HOT WATER BOTTLE</td>\n",
       "      <td>6</td>\n",
       "    </tr>\n",
       "    <tr>\n",
       "      <th>4</th>\n",
       "      <td>RED WOOLLY HOTTIE WHITE HEART.</td>\n",
       "      <td>6</td>\n",
       "    </tr>\n",
       "  </tbody>\n",
       "</table>\n",
       "</div>"
      ],
      "text/plain": [
       "                           Description  Quantity\n",
       "0   WHITE HANGING HEART T-LIGHT HOLDER         6\n",
       "1                  WHITE METAL LANTERN         6\n",
       "2       CREAM CUPID HEARTS COAT HANGER         8\n",
       "3  KNITTED UNION FLAG HOT WATER BOTTLE         6\n",
       "4       RED WOOLLY HOTTIE WHITE HEART.         6"
      ]
     },
     "metadata": {},
     "output_type": "display_data"
    },
    {
     "name": "stdout",
     "output_type": "stream",
     "text": [
      "Semana Sanda 2011\n"
     ]
    },
    {
     "data": {
      "text/html": [
       "<div>\n",
       "<style scoped>\n",
       "    .dataframe tbody tr th:only-of-type {\n",
       "        vertical-align: middle;\n",
       "    }\n",
       "\n",
       "    .dataframe tbody tr th {\n",
       "        vertical-align: top;\n",
       "    }\n",
       "\n",
       "    .dataframe thead th {\n",
       "        text-align: right;\n",
       "    }\n",
       "</style>\n",
       "<table border=\"1\" class=\"dataframe\">\n",
       "  <thead>\n",
       "    <tr style=\"text-align: right;\">\n",
       "      <th></th>\n",
       "      <th>InvoiceNo</th>\n",
       "      <th>StockCode</th>\n",
       "      <th>Description</th>\n",
       "      <th>Quantity</th>\n",
       "      <th>InvoiceDate</th>\n",
       "      <th>UnitPrice</th>\n",
       "      <th>CustomerID</th>\n",
       "      <th>Country</th>\n",
       "      <th>TotalPrice</th>\n",
       "      <th>DiscountValue</th>\n",
       "      <th>HighValue</th>\n",
       "      <th>PriceCategory</th>\n",
       "    </tr>\n",
       "  </thead>\n",
       "  <tbody>\n",
       "    <tr>\n",
       "      <th>158579</th>\n",
       "      <td>C550300</td>\n",
       "      <td>72803A</td>\n",
       "      <td>ROSE SCENT CANDLE JEWELLED DRAWER</td>\n",
       "      <td>-1</td>\n",
       "      <td>2011-04-17 10:10:00</td>\n",
       "      <td>4.25</td>\n",
       "      <td>17243.0</td>\n",
       "      <td>United Kingdom</td>\n",
       "      <td>-4.25</td>\n",
       "      <td>0.9</td>\n",
       "      <td>False</td>\n",
       "      <td>Low</td>\n",
       "    </tr>\n",
       "    <tr>\n",
       "      <th>158580</th>\n",
       "      <td>550301</td>\n",
       "      <td>85194L</td>\n",
       "      <td>HANGING SPRING FLOWER EGG LARGE</td>\n",
       "      <td>36</td>\n",
       "      <td>2011-04-17 10:15:00</td>\n",
       "      <td>0.85</td>\n",
       "      <td>17243.0</td>\n",
       "      <td>United Kingdom</td>\n",
       "      <td>30.60</td>\n",
       "      <td>0.9</td>\n",
       "      <td>False</td>\n",
       "      <td>Low</td>\n",
       "    </tr>\n",
       "    <tr>\n",
       "      <th>158581</th>\n",
       "      <td>550301</td>\n",
       "      <td>22464</td>\n",
       "      <td>HANGING METAL HEART LANTERN</td>\n",
       "      <td>6</td>\n",
       "      <td>2011-04-17 10:15:00</td>\n",
       "      <td>1.65</td>\n",
       "      <td>17243.0</td>\n",
       "      <td>United Kingdom</td>\n",
       "      <td>9.90</td>\n",
       "      <td>0.9</td>\n",
       "      <td>False</td>\n",
       "      <td>Low</td>\n",
       "    </tr>\n",
       "    <tr>\n",
       "      <th>158582</th>\n",
       "      <td>550301</td>\n",
       "      <td>22241</td>\n",
       "      <td>GARLAND WOODEN HAPPY EASTER</td>\n",
       "      <td>9</td>\n",
       "      <td>2011-04-17 10:15:00</td>\n",
       "      <td>1.25</td>\n",
       "      <td>17243.0</td>\n",
       "      <td>United Kingdom</td>\n",
       "      <td>11.25</td>\n",
       "      <td>0.9</td>\n",
       "      <td>False</td>\n",
       "      <td>Low</td>\n",
       "    </tr>\n",
       "    <tr>\n",
       "      <th>158583</th>\n",
       "      <td>550301</td>\n",
       "      <td>22284</td>\n",
       "      <td>HEN HOUSE DECORATION</td>\n",
       "      <td>6</td>\n",
       "      <td>2011-04-17 10:15:00</td>\n",
       "      <td>1.65</td>\n",
       "      <td>17243.0</td>\n",
       "      <td>United Kingdom</td>\n",
       "      <td>9.90</td>\n",
       "      <td>0.9</td>\n",
       "      <td>False</td>\n",
       "      <td>Low</td>\n",
       "    </tr>\n",
       "  </tbody>\n",
       "</table>\n",
       "</div>"
      ],
      "text/plain": [
       "       InvoiceNo StockCode                        Description  Quantity  \\\n",
       "158579   C550300    72803A  ROSE SCENT CANDLE JEWELLED DRAWER        -1   \n",
       "158580    550301    85194L    HANGING SPRING FLOWER EGG LARGE        36   \n",
       "158581    550301     22464        HANGING METAL HEART LANTERN         6   \n",
       "158582    550301     22241        GARLAND WOODEN HAPPY EASTER         9   \n",
       "158583    550301     22284               HEN HOUSE DECORATION         6   \n",
       "\n",
       "               InvoiceDate  UnitPrice  CustomerID         Country  TotalPrice  \\\n",
       "158579 2011-04-17 10:10:00       4.25     17243.0  United Kingdom       -4.25   \n",
       "158580 2011-04-17 10:15:00       0.85     17243.0  United Kingdom       30.60   \n",
       "158581 2011-04-17 10:15:00       1.65     17243.0  United Kingdom        9.90   \n",
       "158582 2011-04-17 10:15:00       1.25     17243.0  United Kingdom       11.25   \n",
       "158583 2011-04-17 10:15:00       1.65     17243.0  United Kingdom        9.90   \n",
       "\n",
       "        DiscountValue  HighValue PriceCategory  \n",
       "158579            0.9      False           Low  \n",
       "158580            0.9      False           Low  \n",
       "158581            0.9      False           Low  \n",
       "158582            0.9      False           Low  \n",
       "158583            0.9      False           Low  "
      ]
     },
     "metadata": {},
     "output_type": "display_data"
    }
   ],
   "source": [
    "# Ventas realizadas en Reino Unido, solo necesitamos Descripción y Cantidad:\n",
    "uk_sales = retail_df[retail_df[\"Country\"] == \"United Kingdom\"][[\"Description\", \"Quantity\"]]\n",
    "\n",
    "print(\"Ventas en Reino Unido\")\n",
    "display(uk_sales.head())\n",
    "\n",
    "# Ventas realizadas en semana santa del 2011\n",
    "# 17/abirl/2011 al 23/abril/2011\n",
    "ss_2011 = retail_df[(retail_df[\"InvoiceDate\"] >= pd.Timestamp(2011,4,17)) & (retail_df[\"InvoiceDate\"] <= pd.Timestamp(2011,4,23))]\n",
    "\n",
    "print(\"Semana Sanda 2011\")\n",
    "display(ss_2011.head())"
   ]
  },
  {
   "cell_type": "code",
   "execution_count": 34,
   "metadata": {},
   "outputs": [
    {
     "name": "stdout",
     "output_type": "stream",
     "text": [
      "Ventas de Diciembre de 2011\n"
     ]
    },
    {
     "data": {
      "text/html": [
       "<div>\n",
       "<style scoped>\n",
       "    .dataframe tbody tr th:only-of-type {\n",
       "        vertical-align: middle;\n",
       "    }\n",
       "\n",
       "    .dataframe tbody tr th {\n",
       "        vertical-align: top;\n",
       "    }\n",
       "\n",
       "    .dataframe thead th {\n",
       "        text-align: right;\n",
       "    }\n",
       "</style>\n",
       "<table border=\"1\" class=\"dataframe\">\n",
       "  <thead>\n",
       "    <tr style=\"text-align: right;\">\n",
       "      <th></th>\n",
       "      <th>Description</th>\n",
       "      <th>Quantity</th>\n",
       "      <th>UnitPrice</th>\n",
       "      <th>TotalPrice</th>\n",
       "    </tr>\n",
       "  </thead>\n",
       "  <tbody>\n",
       "    <tr>\n",
       "      <th>516384</th>\n",
       "      <td>SET OF 3 REGENCY CAKE TINS</td>\n",
       "      <td>-8</td>\n",
       "      <td>4.15</td>\n",
       "      <td>-33.20</td>\n",
       "    </tr>\n",
       "    <tr>\n",
       "      <th>516385</th>\n",
       "      <td>ANTIQUE SILVER TEA GLASS ENGRAVED</td>\n",
       "      <td>-1</td>\n",
       "      <td>1.25</td>\n",
       "      <td>-1.25</td>\n",
       "    </tr>\n",
       "    <tr>\n",
       "      <th>516386</th>\n",
       "      <td>RED SPOT PAPER GIFT BAG</td>\n",
       "      <td>-1</td>\n",
       "      <td>0.82</td>\n",
       "      <td>-0.82</td>\n",
       "    </tr>\n",
       "    <tr>\n",
       "      <th>516387</th>\n",
       "      <td>MULTI COLOUR SILVER T-LIGHT HOLDER</td>\n",
       "      <td>-2</td>\n",
       "      <td>0.85</td>\n",
       "      <td>-1.70</td>\n",
       "    </tr>\n",
       "    <tr>\n",
       "      <th>516388</th>\n",
       "      <td>BOTANICAL GARDENS WALL CLOCK</td>\n",
       "      <td>-1</td>\n",
       "      <td>25.00</td>\n",
       "      <td>-25.00</td>\n",
       "    </tr>\n",
       "  </tbody>\n",
       "</table>\n",
       "</div>"
      ],
      "text/plain": [
       "                               Description  Quantity  UnitPrice  TotalPrice\n",
       "516384          SET OF 3 REGENCY CAKE TINS        -8       4.15      -33.20\n",
       "516385   ANTIQUE SILVER TEA GLASS ENGRAVED        -1       1.25       -1.25\n",
       "516386             RED SPOT PAPER GIFT BAG        -1       0.82       -0.82\n",
       "516387  MULTI COLOUR SILVER T-LIGHT HOLDER        -2       0.85       -1.70\n",
       "516388       BOTANICAL GARDENS WALL CLOCK         -1      25.00      -25.00"
      ]
     },
     "metadata": {},
     "output_type": "display_data"
    }
   ],
   "source": [
    "# Solo las ventas de diciembre:\n",
    "december_sales = retail_df.loc[\n",
    "    (retail_df[\"InvoiceDate\"].dt.year == 2011) & (retail_df[\"InvoiceDate\"].dt.month == 12),\n",
    "    [\"Description\", \"Quantity\", \"UnitPrice\", \"TotalPrice\"]    \n",
    "  ]\n",
    "\n",
    "print(\"Ventas de Diciembre de 2011\")\n",
    "display(december_sales.head())"
   ]
  },
  {
   "cell_type": "markdown",
   "metadata": {},
   "source": [
    "## 2.8 Pivot table"
   ]
  },
  {
   "cell_type": "markdown",
   "metadata": {},
   "source": [
    "Una **pivot table** es una herramienta para resumir y reorganizar columnas de un DataFrame de pandas, que ademas permite crear cálculos estadísticos (suma, conteos, promedios, etc.). \n",
    "\n",
    "Básicamente transforma los valores de determinadas filas o columnas en indices de un nuevo DataFrame, la intersección de éstos es el valor resultante. \n",
    "\n",
    "La nueva organización de los datos nos ayuda a encontrar patrones que pudieran estar ocultos en los datos crudos.\n",
    "\n",
    "**Función**:\n",
    "- `pivot_table()`: Puede implementarse directo del DataFrame o a partir de la librería en si misma `pd.pivot_table()` con la diferencia de que ésta última recibe el DF como parámetro.\n",
    "\n",
    "**Parámetros**:\n",
    "- `data`: Cuando se utiliza la función directamente de pandas.\n",
    "- `values`: Nombre de la columna o columnas (lista) que rellenarán la tabla a partir de la función de agregación.\n",
    "- `index`: Nombre de la columna donde se tomarán los valores para crear los indices del DataFrame resultante.\n",
    "- `columns`: Nombre de la columna donde se tomarán los valores las nuevas columnas del DataFrame resultante.\n",
    "- `aggfunc`: Función de agregación a aplicar.\n",
    "\n",
    "\n",
    "**Ejemplo #1**: Crear un resumen del promedio de ventas que tuvo cada país durante los doce meces del año 2011."
   ]
  },
  {
   "cell_type": "code",
   "execution_count": 35,
   "metadata": {},
   "outputs": [
    {
     "name": "stderr",
     "output_type": "stream",
     "text": [
      "/home/pahoalapizco/anaconda3/envs/numpy_pandas_da/lib/python3.7/site-packages/ipykernel_launcher.py:5: SettingWithCopyWarning: \n",
      "A value is trying to be set on a copy of a slice from a DataFrame.\n",
      "Try using .loc[row_indexer,col_indexer] = value instead\n",
      "\n",
      "See the caveats in the documentation: https://pandas.pydata.org/pandas-docs/stable/user_guide/indexing.html#returning-a-view-versus-a-copy\n",
      "  \"\"\"\n"
     ]
    },
    {
     "data": {
      "text/html": [
       "<div>\n",
       "<style scoped>\n",
       "    .dataframe tbody tr th:only-of-type {\n",
       "        vertical-align: middle;\n",
       "    }\n",
       "\n",
       "    .dataframe tbody tr th {\n",
       "        vertical-align: top;\n",
       "    }\n",
       "\n",
       "    .dataframe thead th {\n",
       "        text-align: right;\n",
       "    }\n",
       "</style>\n",
       "<table border=\"1\" class=\"dataframe\">\n",
       "  <thead>\n",
       "    <tr style=\"text-align: right;\">\n",
       "      <th>Month</th>\n",
       "      <th>1</th>\n",
       "      <th>2</th>\n",
       "      <th>3</th>\n",
       "      <th>4</th>\n",
       "      <th>5</th>\n",
       "      <th>6</th>\n",
       "      <th>7</th>\n",
       "      <th>8</th>\n",
       "      <th>9</th>\n",
       "      <th>10</th>\n",
       "      <th>11</th>\n",
       "      <th>12</th>\n",
       "    </tr>\n",
       "    <tr>\n",
       "      <th>Country</th>\n",
       "      <th></th>\n",
       "      <th></th>\n",
       "      <th></th>\n",
       "      <th></th>\n",
       "      <th></th>\n",
       "      <th></th>\n",
       "      <th></th>\n",
       "      <th></th>\n",
       "      <th></th>\n",
       "      <th></th>\n",
       "      <th></th>\n",
       "      <th></th>\n",
       "    </tr>\n",
       "  </thead>\n",
       "  <tbody>\n",
       "    <tr>\n",
       "      <th>Australia</th>\n",
       "      <td>71.005591</td>\n",
       "      <td>160.741429</td>\n",
       "      <td>155.048091</td>\n",
       "      <td>16.670000</td>\n",
       "      <td>115.495847</td>\n",
       "      <td>147.162398</td>\n",
       "      <td>21.970369</td>\n",
       "      <td>210.179439</td>\n",
       "      <td>48.382019</td>\n",
       "      <td>150.443246</td>\n",
       "      <td>151.244222</td>\n",
       "      <td>NaN</td>\n",
       "    </tr>\n",
       "    <tr>\n",
       "      <th>Austria</th>\n",
       "      <td>NaN</td>\n",
       "      <td>24.683810</td>\n",
       "      <td>94.895556</td>\n",
       "      <td>26.183846</td>\n",
       "      <td>24.498627</td>\n",
       "      <td>-12.100000</td>\n",
       "      <td>21.671818</td>\n",
       "      <td>17.228182</td>\n",
       "      <td>NaN</td>\n",
       "      <td>19.329259</td>\n",
       "      <td>18.996857</td>\n",
       "      <td>97.600000</td>\n",
       "    </tr>\n",
       "    <tr>\n",
       "      <th>Bahrain</th>\n",
       "      <td>-205.740000</td>\n",
       "      <td>NaN</td>\n",
       "      <td>NaN</td>\n",
       "      <td>NaN</td>\n",
       "      <td>32.258824</td>\n",
       "      <td>NaN</td>\n",
       "      <td>NaN</td>\n",
       "      <td>NaN</td>\n",
       "      <td>NaN</td>\n",
       "      <td>NaN</td>\n",
       "      <td>NaN</td>\n",
       "      <td>NaN</td>\n",
       "    </tr>\n",
       "    <tr>\n",
       "      <th>Belgium</th>\n",
       "      <td>18.318254</td>\n",
       "      <td>18.011000</td>\n",
       "      <td>20.451411</td>\n",
       "      <td>15.887398</td>\n",
       "      <td>18.302013</td>\n",
       "      <td>18.498571</td>\n",
       "      <td>19.175349</td>\n",
       "      <td>17.949848</td>\n",
       "      <td>22.690919</td>\n",
       "      <td>21.166217</td>\n",
       "      <td>25.017711</td>\n",
       "      <td>14.381939</td>\n",
       "    </tr>\n",
       "    <tr>\n",
       "      <th>Brazil</th>\n",
       "      <td>NaN</td>\n",
       "      <td>NaN</td>\n",
       "      <td>NaN</td>\n",
       "      <td>35.737500</td>\n",
       "      <td>NaN</td>\n",
       "      <td>NaN</td>\n",
       "      <td>NaN</td>\n",
       "      <td>NaN</td>\n",
       "      <td>NaN</td>\n",
       "      <td>NaN</td>\n",
       "      <td>NaN</td>\n",
       "      <td>NaN</td>\n",
       "    </tr>\n",
       "  </tbody>\n",
       "</table>\n",
       "</div>"
      ],
      "text/plain": [
       "Month              1           2           3          4           5   \\\n",
       "Country                                                                \n",
       "Australia   71.005591  160.741429  155.048091  16.670000  115.495847   \n",
       "Austria           NaN   24.683810   94.895556  26.183846   24.498627   \n",
       "Bahrain   -205.740000         NaN         NaN        NaN   32.258824   \n",
       "Belgium     18.318254   18.011000   20.451411  15.887398   18.302013   \n",
       "Brazil            NaN         NaN         NaN  35.737500         NaN   \n",
       "\n",
       "Month              6          7           8          9           10  \\\n",
       "Country                                                               \n",
       "Australia  147.162398  21.970369  210.179439  48.382019  150.443246   \n",
       "Austria    -12.100000  21.671818   17.228182        NaN   19.329259   \n",
       "Bahrain           NaN        NaN         NaN        NaN         NaN   \n",
       "Belgium     18.498571  19.175349   17.949848  22.690919   21.166217   \n",
       "Brazil            NaN        NaN         NaN        NaN         NaN   \n",
       "\n",
       "Month              11         12  \n",
       "Country                           \n",
       "Australia  151.244222        NaN  \n",
       "Austria     18.996857  97.600000  \n",
       "Bahrain           NaN        NaN  \n",
       "Belgium     25.017711  14.381939  \n",
       "Brazil            NaN        NaN  "
      ]
     },
     "execution_count": 35,
     "metadata": {},
     "output_type": "execute_result"
    }
   ],
   "source": [
    "# Creamos una copia del DataFrame original\n",
    "sales_2011 = retail_df.loc[retail_df[\"InvoiceDate\"].dt.year == 2011, ::]\n",
    "\n",
    "# Creamos la columna \"Year\" donde guardaremos la extracción de año a partir del \"InvoiceDate\"\n",
    "sales_2011[\"Month\"] = sales_2011[\"InvoiceDate\"].dt.month\n",
    "\n",
    "# Hacemos un pivot table \n",
    "sales_by_year = sales_2011.pivot_table(\n",
    "  values=\"TotalPrice\",\n",
    "  index=\"Country\",\n",
    "  columns=\"Month\",\n",
    "  aggfunc=\"mean\"\n",
    ")\n",
    "\n",
    "sales_by_year.head()"
   ]
  },
  {
   "cell_type": "markdown",
   "metadata": {},
   "source": [
    "**Ejemplo #2**: Crear un resumen del promedio de ventas que tuvo cada país durante los 4 trimestres del año 2011."
   ]
  },
  {
   "cell_type": "code",
   "execution_count": 36,
   "metadata": {},
   "outputs": [],
   "source": [
    "# Función para calcular cual es el trimestre del año\n",
    "def quarter_of_year(value):\n",
    "  if value in [1, 2, 3]:\n",
    "    return \"1st\"\n",
    "  elif value in [4, 5, 6]:\n",
    "    return \"2nd\"\n",
    "  elif value in [7, 8, 9]: \n",
    "    return \"3rd\"\n",
    "  else:\n",
    "    return \"4th\""
   ]
  },
  {
   "cell_type": "code",
   "execution_count": 37,
   "metadata": {},
   "outputs": [
    {
     "name": "stderr",
     "output_type": "stream",
     "text": [
      "/home/pahoalapizco/anaconda3/envs/numpy_pandas_da/lib/python3.7/site-packages/ipykernel_launcher.py:2: SettingWithCopyWarning: \n",
      "A value is trying to be set on a copy of a slice from a DataFrame.\n",
      "Try using .loc[row_indexer,col_indexer] = value instead\n",
      "\n",
      "See the caveats in the documentation: https://pandas.pydata.org/pandas-docs/stable/user_guide/indexing.html#returning-a-view-versus-a-copy\n",
      "  \n"
     ]
    },
    {
     "data": {
      "text/html": [
       "<div>\n",
       "<style scoped>\n",
       "    .dataframe tbody tr th:only-of-type {\n",
       "        vertical-align: middle;\n",
       "    }\n",
       "\n",
       "    .dataframe tbody tr th {\n",
       "        vertical-align: top;\n",
       "    }\n",
       "\n",
       "    .dataframe thead th {\n",
       "        text-align: right;\n",
       "    }\n",
       "</style>\n",
       "<table border=\"1\" class=\"dataframe\">\n",
       "  <thead>\n",
       "    <tr style=\"text-align: right;\">\n",
       "      <th>Quarter</th>\n",
       "      <th>1st</th>\n",
       "      <th>2nd</th>\n",
       "      <th>3rd</th>\n",
       "      <th>4th</th>\n",
       "    </tr>\n",
       "    <tr>\n",
       "      <th>Country</th>\n",
       "      <th></th>\n",
       "      <th></th>\n",
       "      <th></th>\n",
       "      <th></th>\n",
       "    </tr>\n",
       "  </thead>\n",
       "  <tbody>\n",
       "    <tr>\n",
       "      <th>Australia</th>\n",
       "      <td>124.086799</td>\n",
       "      <td>126.623560</td>\n",
       "      <td>75.440421</td>\n",
       "      <td>150.669937</td>\n",
       "    </tr>\n",
       "    <tr>\n",
       "      <th>Austria</th>\n",
       "      <td>57.089231</td>\n",
       "      <td>24.126709</td>\n",
       "      <td>18.937273</td>\n",
       "      <td>23.334046</td>\n",
       "    </tr>\n",
       "    <tr>\n",
       "      <th>Bahrain</th>\n",
       "      <td>-205.740000</td>\n",
       "      <td>32.258824</td>\n",
       "      <td>NaN</td>\n",
       "      <td>NaN</td>\n",
       "    </tr>\n",
       "    <tr>\n",
       "      <th>Belgium</th>\n",
       "      <td>19.216618</td>\n",
       "      <td>17.801829</td>\n",
       "      <td>19.975656</td>\n",
       "      <td>21.645309</td>\n",
       "    </tr>\n",
       "    <tr>\n",
       "      <th>Brazil</th>\n",
       "      <td>NaN</td>\n",
       "      <td>35.737500</td>\n",
       "      <td>NaN</td>\n",
       "      <td>NaN</td>\n",
       "    </tr>\n",
       "  </tbody>\n",
       "</table>\n",
       "</div>"
      ],
      "text/plain": [
       "Quarter           1st         2nd        3rd         4th\n",
       "Country                                                 \n",
       "Australia  124.086799  126.623560  75.440421  150.669937\n",
       "Austria     57.089231   24.126709  18.937273   23.334046\n",
       "Bahrain   -205.740000   32.258824        NaN         NaN\n",
       "Belgium     19.216618   17.801829  19.975656   21.645309\n",
       "Brazil            NaN   35.737500        NaN         NaN"
      ]
     },
     "execution_count": 37,
     "metadata": {},
     "output_type": "execute_result"
    }
   ],
   "source": [
    "# Aplicamos la función para calcular el trimestre correspondiente \n",
    "sales_2011[\"Quarter\"] = sales_2011[\"Month\"].apply(quarter_of_year)\n",
    "\n",
    "# Hacemos pivot table donde las columnas seran cada trimestre del 2011\n",
    "quarter_sales = sales_2011.pivot_table(\n",
    "  values=\"TotalPrice\",\n",
    "  index=\"Country\",\n",
    "  columns=\"Quarter\",\n",
    "  aggfunc=\"mean\"\n",
    ")\n",
    "quarter_sales.head()"
   ]
  },
  {
   "cell_type": "markdown",
   "metadata": {},
   "source": [
    "## 2.9 Fusión/Unión de DataFrames"
   ]
  },
  {
   "cell_type": "markdown",
   "metadata": {},
   "source": [
    "Consiste en crear un nuevo DataFrame a partir de dos  DataFrames, aplica la misma lógica que los joins en `SQL`.\n",
    "\n",
    "Pandas provee dos funciones para está tarea.\n",
    "\n",
    "<table>\n",
    "  <thead>\n",
    "    <td> <code> merge() </code> </td>\n",
    "    <td> <code> join() </code> </td>\n",
    "  </thead>\n",
    "  \n",
    "  <tr>\n",
    "    <td> Se llama directo desde la librería. </td>\n",
    "    <td> Se utiliza a partir del DF. </td>\n",
    "  </tr>\n",
    "\n",
    "  <tr>\n",
    "    <td> La unión se realiza a partir de una columna especificada por el usuario. </td>\n",
    "    <td> La unión se realiza a partir de los indices de ambos DF.</td>\n",
    "  </tr>\n",
    "  <tr>\n",
    "    <td colspan=\"2\" align=\"center\" > <b>Parámetros</b> </td>\n",
    "  </tr>\n",
    "  \n",
    "  <tr>\n",
    "    <td> <code>left</code>: DataFrame que esta estará la izquierda. </td>\n",
    "    <td> <code>other</code>: DataFrame que queremos unir. </td>\n",
    "  </tr>\n",
    "\n",
    "  <tr>\n",
    "    <td> <code>right</code>: DataFrame que esta estará la derecha. </td>\n",
    "    <td> <code>on</code>: Default es el índice del DF. </td>\n",
    "  </tr>\n",
    "\n",
    "  <tr>    \n",
    "    <td colspan=\"2\"> <code>how</code>: Cómo será la union entre los DF. </td>\n",
    "  </tr>\n",
    "  \n",
    "  <tr>\n",
    "    <td> <code>on</code>: Nombre de la columna a partir del cual se realizará el merge.  </td>\n",
    "    <td></td>\n",
    "  </tr>\n",
    "</table>\n",
    "\n",
    "📢 En ambas funciones, el parámetro `how` recibe los mismos valores:\n",
    "\n",
    "- `inner`: Intersección entre los dos DataFrames.\n",
    "- `outer`: Lo opuesto a la intersección, solo los elementos que no estén en ambos DataFrames.\n",
    "- `left`: Regresa todos los elementos del DataFrame de la izquierda (incluyendo la intersección)\n",
    "- `right`: Regresa todos los elementos del DataFrame de la derecha (incluyendo la intersección)\n",
    "- `cross`: Crea un producto cartesiano de ambos DataFrames\n",
    "\n",
    "📌 A excepción de `inner`, los otros métodos de unión regresan `NaN` (Not a Number) cuando los datos nos se comparten en ambos DataFrames.\n",
    "\n",
    "\n",
    "**`concat()`** Es otra función que también nos permite unir DataFrames, con las diferencias de que podemos incluir más de dos DF y podemos seleccionar la orientación de la unión (horizontal ó vertical).\n",
    "\n",
    "**Parámetros**\n",
    "\n",
    "- `objs`: Lista con los DataFrames.\n",
    "- `axis`: Orientación, 0 = vertical/filas (default), 1 = horizontal/columnas\n",
    "- `join`: Tipo de concatenación, inner o outer."
   ]
  },
  {
   "cell_type": "markdown",
   "metadata": {},
   "source": [
    "### 2.9.1 `merge`"
   ]
  },
  {
   "cell_type": "code",
   "execution_count": 38,
   "metadata": {},
   "outputs": [
    {
     "data": {
      "text/html": [
       "<div>\n",
       "<style scoped>\n",
       "    .dataframe tbody tr th:only-of-type {\n",
       "        vertical-align: middle;\n",
       "    }\n",
       "\n",
       "    .dataframe tbody tr th {\n",
       "        vertical-align: top;\n",
       "    }\n",
       "\n",
       "    .dataframe thead th {\n",
       "        text-align: right;\n",
       "    }\n",
       "</style>\n",
       "<table border=\"1\" class=\"dataframe\">\n",
       "  <thead>\n",
       "    <tr style=\"text-align: right;\">\n",
       "      <th></th>\n",
       "      <th>key</th>\n",
       "      <th>value1</th>\n",
       "    </tr>\n",
       "  </thead>\n",
       "  <tbody>\n",
       "    <tr>\n",
       "      <th>0</th>\n",
       "      <td>A</td>\n",
       "      <td>1</td>\n",
       "    </tr>\n",
       "    <tr>\n",
       "      <th>1</th>\n",
       "      <td>B</td>\n",
       "      <td>2</td>\n",
       "    </tr>\n",
       "    <tr>\n",
       "      <th>2</th>\n",
       "      <td>C</td>\n",
       "      <td>3</td>\n",
       "    </tr>\n",
       "  </tbody>\n",
       "</table>\n",
       "</div>"
      ],
      "text/plain": [
       "  key  value1\n",
       "0   A       1\n",
       "1   B       2\n",
       "2   C       3"
      ]
     },
     "metadata": {},
     "output_type": "display_data"
    },
    {
     "data": {
      "text/html": [
       "<div>\n",
       "<style scoped>\n",
       "    .dataframe tbody tr th:only-of-type {\n",
       "        vertical-align: middle;\n",
       "    }\n",
       "\n",
       "    .dataframe tbody tr th {\n",
       "        vertical-align: top;\n",
       "    }\n",
       "\n",
       "    .dataframe thead th {\n",
       "        text-align: right;\n",
       "    }\n",
       "</style>\n",
       "<table border=\"1\" class=\"dataframe\">\n",
       "  <thead>\n",
       "    <tr style=\"text-align: right;\">\n",
       "      <th></th>\n",
       "      <th>key</th>\n",
       "      <th>value2</th>\n",
       "    </tr>\n",
       "  </thead>\n",
       "  <tbody>\n",
       "    <tr>\n",
       "      <th>0</th>\n",
       "      <td>B</td>\n",
       "      <td>4</td>\n",
       "    </tr>\n",
       "    <tr>\n",
       "      <th>1</th>\n",
       "      <td>C</td>\n",
       "      <td>5</td>\n",
       "    </tr>\n",
       "    <tr>\n",
       "      <th>2</th>\n",
       "      <td>D</td>\n",
       "      <td>6</td>\n",
       "    </tr>\n",
       "  </tbody>\n",
       "</table>\n",
       "</div>"
      ],
      "text/plain": [
       "  key  value2\n",
       "0   B       4\n",
       "1   C       5\n",
       "2   D       6"
      ]
     },
     "metadata": {},
     "output_type": "display_data"
    }
   ],
   "source": [
    "df1 = pd.DataFrame({\n",
    "  'key': ['A', 'B', 'C'],\n",
    "  'value1': [1,2,3]\n",
    "})\n",
    "\n",
    "df2 = pd.DataFrame({\n",
    "  'key': ['B', 'C', 'D'],\n",
    "  'value2': [4,5,6]\n",
    "})\n",
    "\n",
    "display(df1, df2)\n"
   ]
  },
  {
   "cell_type": "code",
   "execution_count": 39,
   "metadata": {},
   "outputs": [
    {
     "name": "stdout",
     "output_type": "stream",
     "text": [
      "Inner merge:\n"
     ]
    },
    {
     "data": {
      "text/html": [
       "<div>\n",
       "<style scoped>\n",
       "    .dataframe tbody tr th:only-of-type {\n",
       "        vertical-align: middle;\n",
       "    }\n",
       "\n",
       "    .dataframe tbody tr th {\n",
       "        vertical-align: top;\n",
       "    }\n",
       "\n",
       "    .dataframe thead th {\n",
       "        text-align: right;\n",
       "    }\n",
       "</style>\n",
       "<table border=\"1\" class=\"dataframe\">\n",
       "  <thead>\n",
       "    <tr style=\"text-align: right;\">\n",
       "      <th></th>\n",
       "      <th>key</th>\n",
       "      <th>value1</th>\n",
       "      <th>value2</th>\n",
       "    </tr>\n",
       "  </thead>\n",
       "  <tbody>\n",
       "    <tr>\n",
       "      <th>0</th>\n",
       "      <td>B</td>\n",
       "      <td>2</td>\n",
       "      <td>4</td>\n",
       "    </tr>\n",
       "    <tr>\n",
       "      <th>1</th>\n",
       "      <td>C</td>\n",
       "      <td>3</td>\n",
       "      <td>5</td>\n",
       "    </tr>\n",
       "  </tbody>\n",
       "</table>\n",
       "</div>"
      ],
      "text/plain": [
       "  key  value1  value2\n",
       "0   B       2       4\n",
       "1   C       3       5"
      ]
     },
     "metadata": {},
     "output_type": "display_data"
    },
    {
     "name": "stdout",
     "output_type": "stream",
     "text": [
      "Outer merge:\n"
     ]
    },
    {
     "data": {
      "text/html": [
       "<div>\n",
       "<style scoped>\n",
       "    .dataframe tbody tr th:only-of-type {\n",
       "        vertical-align: middle;\n",
       "    }\n",
       "\n",
       "    .dataframe tbody tr th {\n",
       "        vertical-align: top;\n",
       "    }\n",
       "\n",
       "    .dataframe thead th {\n",
       "        text-align: right;\n",
       "    }\n",
       "</style>\n",
       "<table border=\"1\" class=\"dataframe\">\n",
       "  <thead>\n",
       "    <tr style=\"text-align: right;\">\n",
       "      <th></th>\n",
       "      <th>key</th>\n",
       "      <th>value1</th>\n",
       "      <th>value2</th>\n",
       "    </tr>\n",
       "  </thead>\n",
       "  <tbody>\n",
       "    <tr>\n",
       "      <th>0</th>\n",
       "      <td>A</td>\n",
       "      <td>1.0</td>\n",
       "      <td>NaN</td>\n",
       "    </tr>\n",
       "    <tr>\n",
       "      <th>1</th>\n",
       "      <td>B</td>\n",
       "      <td>2.0</td>\n",
       "      <td>4.0</td>\n",
       "    </tr>\n",
       "    <tr>\n",
       "      <th>2</th>\n",
       "      <td>C</td>\n",
       "      <td>3.0</td>\n",
       "      <td>5.0</td>\n",
       "    </tr>\n",
       "    <tr>\n",
       "      <th>3</th>\n",
       "      <td>D</td>\n",
       "      <td>NaN</td>\n",
       "      <td>6.0</td>\n",
       "    </tr>\n",
       "  </tbody>\n",
       "</table>\n",
       "</div>"
      ],
      "text/plain": [
       "  key  value1  value2\n",
       "0   A     1.0     NaN\n",
       "1   B     2.0     4.0\n",
       "2   C     3.0     5.0\n",
       "3   D     NaN     6.0"
      ]
     },
     "metadata": {},
     "output_type": "display_data"
    }
   ],
   "source": [
    "inner_merge = pd.merge(left=df1, right=df2, on=\"key\", how=\"inner\")\n",
    "print(\"Inner merge:\")\n",
    "display(inner_merge)\n",
    "\n",
    "outer_merge = pd.merge(left=df1, right=df2, on=\"key\", how=\"outer\")\n",
    "print(\"Outer merge:\")\n",
    "display(outer_merge)"
   ]
  },
  {
   "cell_type": "code",
   "execution_count": 40,
   "metadata": {},
   "outputs": [
    {
     "data": {
      "text/html": [
       "<div>\n",
       "<style scoped>\n",
       "    .dataframe tbody tr th:only-of-type {\n",
       "        vertical-align: middle;\n",
       "    }\n",
       "\n",
       "    .dataframe tbody tr th {\n",
       "        vertical-align: top;\n",
       "    }\n",
       "\n",
       "    .dataframe thead th {\n",
       "        text-align: right;\n",
       "    }\n",
       "</style>\n",
       "<table border=\"1\" class=\"dataframe\">\n",
       "  <thead>\n",
       "    <tr style=\"text-align: right;\">\n",
       "      <th></th>\n",
       "      <th>key</th>\n",
       "      <th>value1</th>\n",
       "    </tr>\n",
       "  </thead>\n",
       "  <tbody>\n",
       "    <tr>\n",
       "      <th>0</th>\n",
       "      <td>A</td>\n",
       "      <td>1</td>\n",
       "    </tr>\n",
       "    <tr>\n",
       "      <th>1</th>\n",
       "      <td>B</td>\n",
       "      <td>2</td>\n",
       "    </tr>\n",
       "    <tr>\n",
       "      <th>2</th>\n",
       "      <td>C</td>\n",
       "      <td>3</td>\n",
       "    </tr>\n",
       "  </tbody>\n",
       "</table>\n",
       "</div>"
      ],
      "text/plain": [
       "  key  value1\n",
       "0   A       1\n",
       "1   B       2\n",
       "2   C       3"
      ]
     },
     "metadata": {},
     "output_type": "display_data"
    },
    {
     "data": {
      "text/html": [
       "<div>\n",
       "<style scoped>\n",
       "    .dataframe tbody tr th:only-of-type {\n",
       "        vertical-align: middle;\n",
       "    }\n",
       "\n",
       "    .dataframe tbody tr th {\n",
       "        vertical-align: top;\n",
       "    }\n",
       "\n",
       "    .dataframe thead th {\n",
       "        text-align: right;\n",
       "    }\n",
       "</style>\n",
       "<table border=\"1\" class=\"dataframe\">\n",
       "  <thead>\n",
       "    <tr style=\"text-align: right;\">\n",
       "      <th></th>\n",
       "      <th>key</th>\n",
       "      <th>value2</th>\n",
       "    </tr>\n",
       "  </thead>\n",
       "  <tbody>\n",
       "    <tr>\n",
       "      <th>0</th>\n",
       "      <td>B</td>\n",
       "      <td>4</td>\n",
       "    </tr>\n",
       "    <tr>\n",
       "      <th>1</th>\n",
       "      <td>C</td>\n",
       "      <td>5</td>\n",
       "    </tr>\n",
       "    <tr>\n",
       "      <th>2</th>\n",
       "      <td>D</td>\n",
       "      <td>6</td>\n",
       "    </tr>\n",
       "  </tbody>\n",
       "</table>\n",
       "</div>"
      ],
      "text/plain": [
       "  key  value2\n",
       "0   B       4\n",
       "1   C       5\n",
       "2   D       6"
      ]
     },
     "metadata": {},
     "output_type": "display_data"
    },
    {
     "name": "stdout",
     "output_type": "stream",
     "text": [
      "Left merge:\n"
     ]
    },
    {
     "data": {
      "text/html": [
       "<div>\n",
       "<style scoped>\n",
       "    .dataframe tbody tr th:only-of-type {\n",
       "        vertical-align: middle;\n",
       "    }\n",
       "\n",
       "    .dataframe tbody tr th {\n",
       "        vertical-align: top;\n",
       "    }\n",
       "\n",
       "    .dataframe thead th {\n",
       "        text-align: right;\n",
       "    }\n",
       "</style>\n",
       "<table border=\"1\" class=\"dataframe\">\n",
       "  <thead>\n",
       "    <tr style=\"text-align: right;\">\n",
       "      <th></th>\n",
       "      <th>key</th>\n",
       "      <th>value1</th>\n",
       "      <th>value2</th>\n",
       "    </tr>\n",
       "  </thead>\n",
       "  <tbody>\n",
       "    <tr>\n",
       "      <th>0</th>\n",
       "      <td>A</td>\n",
       "      <td>1</td>\n",
       "      <td>NaN</td>\n",
       "    </tr>\n",
       "    <tr>\n",
       "      <th>1</th>\n",
       "      <td>B</td>\n",
       "      <td>2</td>\n",
       "      <td>4.0</td>\n",
       "    </tr>\n",
       "    <tr>\n",
       "      <th>2</th>\n",
       "      <td>C</td>\n",
       "      <td>3</td>\n",
       "      <td>5.0</td>\n",
       "    </tr>\n",
       "  </tbody>\n",
       "</table>\n",
       "</div>"
      ],
      "text/plain": [
       "  key  value1  value2\n",
       "0   A       1     NaN\n",
       "1   B       2     4.0\n",
       "2   C       3     5.0"
      ]
     },
     "metadata": {},
     "output_type": "display_data"
    },
    {
     "name": "stdout",
     "output_type": "stream",
     "text": [
      "Right merge:\n"
     ]
    },
    {
     "data": {
      "text/html": [
       "<div>\n",
       "<style scoped>\n",
       "    .dataframe tbody tr th:only-of-type {\n",
       "        vertical-align: middle;\n",
       "    }\n",
       "\n",
       "    .dataframe tbody tr th {\n",
       "        vertical-align: top;\n",
       "    }\n",
       "\n",
       "    .dataframe thead th {\n",
       "        text-align: right;\n",
       "    }\n",
       "</style>\n",
       "<table border=\"1\" class=\"dataframe\">\n",
       "  <thead>\n",
       "    <tr style=\"text-align: right;\">\n",
       "      <th></th>\n",
       "      <th>key</th>\n",
       "      <th>value1</th>\n",
       "      <th>value2</th>\n",
       "    </tr>\n",
       "  </thead>\n",
       "  <tbody>\n",
       "    <tr>\n",
       "      <th>0</th>\n",
       "      <td>B</td>\n",
       "      <td>2.0</td>\n",
       "      <td>4</td>\n",
       "    </tr>\n",
       "    <tr>\n",
       "      <th>1</th>\n",
       "      <td>C</td>\n",
       "      <td>3.0</td>\n",
       "      <td>5</td>\n",
       "    </tr>\n",
       "    <tr>\n",
       "      <th>2</th>\n",
       "      <td>D</td>\n",
       "      <td>NaN</td>\n",
       "      <td>6</td>\n",
       "    </tr>\n",
       "  </tbody>\n",
       "</table>\n",
       "</div>"
      ],
      "text/plain": [
       "  key  value1  value2\n",
       "0   B     2.0       4\n",
       "1   C     3.0       5\n",
       "2   D     NaN       6"
      ]
     },
     "metadata": {},
     "output_type": "display_data"
    }
   ],
   "source": [
    "display(df1,df2)\n",
    "left_merge = pd.merge(left=df1, right=df2, on=\"key\", how=\"left\")\n",
    "print(\"Left merge:\")\n",
    "display(left_merge)\n",
    "\n",
    "right_merge = pd.merge(left=df1, right=df2, on=\"key\", how=\"right\")\n",
    "print(\"Right merge:\")\n",
    "display(right_merge)"
   ]
  },
  {
   "cell_type": "markdown",
   "metadata": {},
   "source": [
    "### 2.9.2 `concat`"
   ]
  },
  {
   "cell_type": "code",
   "execution_count": 41,
   "metadata": {},
   "outputs": [
    {
     "data": {
      "text/html": [
       "<div>\n",
       "<style scoped>\n",
       "    .dataframe tbody tr th:only-of-type {\n",
       "        vertical-align: middle;\n",
       "    }\n",
       "\n",
       "    .dataframe tbody tr th {\n",
       "        vertical-align: top;\n",
       "    }\n",
       "\n",
       "    .dataframe thead th {\n",
       "        text-align: right;\n",
       "    }\n",
       "</style>\n",
       "<table border=\"1\" class=\"dataframe\">\n",
       "  <thead>\n",
       "    <tr style=\"text-align: right;\">\n",
       "      <th></th>\n",
       "      <th>A</th>\n",
       "      <th>B</th>\n",
       "    </tr>\n",
       "  </thead>\n",
       "  <tbody>\n",
       "    <tr>\n",
       "      <th>0</th>\n",
       "      <td>A0</td>\n",
       "      <td>B0</td>\n",
       "    </tr>\n",
       "    <tr>\n",
       "      <th>1</th>\n",
       "      <td>A1</td>\n",
       "      <td>B1</td>\n",
       "    </tr>\n",
       "    <tr>\n",
       "      <th>2</th>\n",
       "      <td>A2</td>\n",
       "      <td>B2</td>\n",
       "    </tr>\n",
       "  </tbody>\n",
       "</table>\n",
       "</div>"
      ],
      "text/plain": [
       "    A   B\n",
       "0  A0  B0\n",
       "1  A1  B1\n",
       "2  A2  B2"
      ]
     },
     "metadata": {},
     "output_type": "display_data"
    },
    {
     "data": {
      "text/html": [
       "<div>\n",
       "<style scoped>\n",
       "    .dataframe tbody tr th:only-of-type {\n",
       "        vertical-align: middle;\n",
       "    }\n",
       "\n",
       "    .dataframe tbody tr th {\n",
       "        vertical-align: top;\n",
       "    }\n",
       "\n",
       "    .dataframe thead th {\n",
       "        text-align: right;\n",
       "    }\n",
       "</style>\n",
       "<table border=\"1\" class=\"dataframe\">\n",
       "  <thead>\n",
       "    <tr style=\"text-align: right;\">\n",
       "      <th></th>\n",
       "      <th>A</th>\n",
       "      <th>B</th>\n",
       "    </tr>\n",
       "  </thead>\n",
       "  <tbody>\n",
       "    <tr>\n",
       "      <th>0</th>\n",
       "      <td>A3</td>\n",
       "      <td>B3</td>\n",
       "    </tr>\n",
       "    <tr>\n",
       "      <th>1</th>\n",
       "      <td>A4</td>\n",
       "      <td>B4</td>\n",
       "    </tr>\n",
       "    <tr>\n",
       "      <th>2</th>\n",
       "      <td>A5</td>\n",
       "      <td>B5</td>\n",
       "    </tr>\n",
       "  </tbody>\n",
       "</table>\n",
       "</div>"
      ],
      "text/plain": [
       "    A   B\n",
       "0  A3  B3\n",
       "1  A4  B4\n",
       "2  A5  B5"
      ]
     },
     "metadata": {},
     "output_type": "display_data"
    }
   ],
   "source": [
    "df3 = pd.DataFrame({\n",
    "  'A': ['A0', 'A1', 'A2'],\n",
    "  'B': ['B0', 'B1', 'B2'],\n",
    "})\n",
    "\n",
    "df4 = pd.DataFrame({\n",
    "  'A': ['A3', 'A4', 'A5'],\n",
    "  'B': ['B3', 'B4', 'B5'],\n",
    "}) \n",
    "\n",
    "display(df3, df4)"
   ]
  },
  {
   "cell_type": "code",
   "execution_count": 42,
   "metadata": {},
   "outputs": [
    {
     "name": "stdout",
     "output_type": "stream",
     "text": [
      "Concatenación vertical (filas)\n"
     ]
    },
    {
     "data": {
      "text/html": [
       "<div>\n",
       "<style scoped>\n",
       "    .dataframe tbody tr th:only-of-type {\n",
       "        vertical-align: middle;\n",
       "    }\n",
       "\n",
       "    .dataframe tbody tr th {\n",
       "        vertical-align: top;\n",
       "    }\n",
       "\n",
       "    .dataframe thead th {\n",
       "        text-align: right;\n",
       "    }\n",
       "</style>\n",
       "<table border=\"1\" class=\"dataframe\">\n",
       "  <thead>\n",
       "    <tr style=\"text-align: right;\">\n",
       "      <th></th>\n",
       "      <th>A</th>\n",
       "      <th>B</th>\n",
       "    </tr>\n",
       "  </thead>\n",
       "  <tbody>\n",
       "    <tr>\n",
       "      <th>0</th>\n",
       "      <td>A0</td>\n",
       "      <td>B0</td>\n",
       "    </tr>\n",
       "    <tr>\n",
       "      <th>1</th>\n",
       "      <td>A1</td>\n",
       "      <td>B1</td>\n",
       "    </tr>\n",
       "    <tr>\n",
       "      <th>2</th>\n",
       "      <td>A2</td>\n",
       "      <td>B2</td>\n",
       "    </tr>\n",
       "    <tr>\n",
       "      <th>0</th>\n",
       "      <td>A3</td>\n",
       "      <td>B3</td>\n",
       "    </tr>\n",
       "    <tr>\n",
       "      <th>1</th>\n",
       "      <td>A4</td>\n",
       "      <td>B4</td>\n",
       "    </tr>\n",
       "    <tr>\n",
       "      <th>2</th>\n",
       "      <td>A5</td>\n",
       "      <td>B5</td>\n",
       "    </tr>\n",
       "  </tbody>\n",
       "</table>\n",
       "</div>"
      ],
      "text/plain": [
       "    A   B\n",
       "0  A0  B0\n",
       "1  A1  B1\n",
       "2  A2  B2\n",
       "0  A3  B3\n",
       "1  A4  B4\n",
       "2  A5  B5"
      ]
     },
     "metadata": {},
     "output_type": "display_data"
    },
    {
     "name": "stdout",
     "output_type": "stream",
     "text": [
      "Concatenación horizontal (columnas)\n"
     ]
    },
    {
     "data": {
      "text/html": [
       "<div>\n",
       "<style scoped>\n",
       "    .dataframe tbody tr th:only-of-type {\n",
       "        vertical-align: middle;\n",
       "    }\n",
       "\n",
       "    .dataframe tbody tr th {\n",
       "        vertical-align: top;\n",
       "    }\n",
       "\n",
       "    .dataframe thead th {\n",
       "        text-align: right;\n",
       "    }\n",
       "</style>\n",
       "<table border=\"1\" class=\"dataframe\">\n",
       "  <thead>\n",
       "    <tr style=\"text-align: right;\">\n",
       "      <th></th>\n",
       "      <th>A</th>\n",
       "      <th>B</th>\n",
       "      <th>A</th>\n",
       "      <th>B</th>\n",
       "    </tr>\n",
       "  </thead>\n",
       "  <tbody>\n",
       "    <tr>\n",
       "      <th>0</th>\n",
       "      <td>A0</td>\n",
       "      <td>B0</td>\n",
       "      <td>A3</td>\n",
       "      <td>B3</td>\n",
       "    </tr>\n",
       "    <tr>\n",
       "      <th>1</th>\n",
       "      <td>A1</td>\n",
       "      <td>B1</td>\n",
       "      <td>A4</td>\n",
       "      <td>B4</td>\n",
       "    </tr>\n",
       "    <tr>\n",
       "      <th>2</th>\n",
       "      <td>A2</td>\n",
       "      <td>B2</td>\n",
       "      <td>A5</td>\n",
       "      <td>B5</td>\n",
       "    </tr>\n",
       "  </tbody>\n",
       "</table>\n",
       "</div>"
      ],
      "text/plain": [
       "    A   B   A   B\n",
       "0  A0  B0  A3  B3\n",
       "1  A1  B1  A4  B4\n",
       "2  A2  B2  A5  B5"
      ]
     },
     "metadata": {},
     "output_type": "display_data"
    }
   ],
   "source": [
    "vertical_concat = pd.concat([df3, df4], axis=0)\n",
    "print(\"Concatenación vertical (filas)\")\n",
    "display(vertical_concat)\n",
    "\n",
    "horizontal_concat = pd.concat([df3, df4], axis=1)\n",
    "print(\"Concatenación horizontal (columnas)\")\n",
    "display(horizontal_concat)"
   ]
  },
  {
   "cell_type": "markdown",
   "metadata": {},
   "source": [
    "### 2.9.3 `join`"
   ]
  },
  {
   "cell_type": "code",
   "execution_count": 43,
   "metadata": {},
   "outputs": [
    {
     "data": {
      "text/html": [
       "<div>\n",
       "<style scoped>\n",
       "    .dataframe tbody tr th:only-of-type {\n",
       "        vertical-align: middle;\n",
       "    }\n",
       "\n",
       "    .dataframe tbody tr th {\n",
       "        vertical-align: top;\n",
       "    }\n",
       "\n",
       "    .dataframe thead th {\n",
       "        text-align: right;\n",
       "    }\n",
       "</style>\n",
       "<table border=\"1\" class=\"dataframe\">\n",
       "  <thead>\n",
       "    <tr style=\"text-align: right;\">\n",
       "      <th></th>\n",
       "      <th>A</th>\n",
       "      <th>B</th>\n",
       "    </tr>\n",
       "  </thead>\n",
       "  <tbody>\n",
       "    <tr>\n",
       "      <th>K0</th>\n",
       "      <td>A0</td>\n",
       "      <td>B0</td>\n",
       "    </tr>\n",
       "    <tr>\n",
       "      <th>K1</th>\n",
       "      <td>A1</td>\n",
       "      <td>B1</td>\n",
       "    </tr>\n",
       "    <tr>\n",
       "      <th>K2</th>\n",
       "      <td>A2</td>\n",
       "      <td>B2</td>\n",
       "    </tr>\n",
       "  </tbody>\n",
       "</table>\n",
       "</div>"
      ],
      "text/plain": [
       "     A   B\n",
       "K0  A0  B0\n",
       "K1  A1  B1\n",
       "K2  A2  B2"
      ]
     },
     "metadata": {},
     "output_type": "display_data"
    },
    {
     "data": {
      "text/html": [
       "<div>\n",
       "<style scoped>\n",
       "    .dataframe tbody tr th:only-of-type {\n",
       "        vertical-align: middle;\n",
       "    }\n",
       "\n",
       "    .dataframe tbody tr th {\n",
       "        vertical-align: top;\n",
       "    }\n",
       "\n",
       "    .dataframe thead th {\n",
       "        text-align: right;\n",
       "    }\n",
       "</style>\n",
       "<table border=\"1\" class=\"dataframe\">\n",
       "  <thead>\n",
       "    <tr style=\"text-align: right;\">\n",
       "      <th></th>\n",
       "      <th>C</th>\n",
       "      <th>D</th>\n",
       "    </tr>\n",
       "  </thead>\n",
       "  <tbody>\n",
       "    <tr>\n",
       "      <th>K0</th>\n",
       "      <td>C0</td>\n",
       "      <td>DO</td>\n",
       "    </tr>\n",
       "    <tr>\n",
       "      <th>K2</th>\n",
       "      <td>C1</td>\n",
       "      <td>D1</td>\n",
       "    </tr>\n",
       "    <tr>\n",
       "      <th>K3</th>\n",
       "      <td>C2</td>\n",
       "      <td>D2</td>\n",
       "    </tr>\n",
       "  </tbody>\n",
       "</table>\n",
       "</div>"
      ],
      "text/plain": [
       "     C   D\n",
       "K0  C0  DO\n",
       "K2  C1  D1\n",
       "K3  C2  D2"
      ]
     },
     "metadata": {},
     "output_type": "display_data"
    }
   ],
   "source": [
    "df5 = pd.DataFrame({\n",
    "    'A': ['A0', 'A1', 'A2'],\n",
    "    'B': ['B0', 'B1', 'B2']\n",
    "  }, \n",
    "  index = ['K0', 'K1', 'K2']\n",
    ") \n",
    "\n",
    "df6 = pd.DataFrame({\n",
    "    'C': ['C0', 'C1', 'C2'],\n",
    "    'D': ['DO', 'D1', 'D2']\n",
    "  }, \n",
    "  index = ['K0', 'K2', 'K3']\n",
    ")\n",
    "\n",
    "display(df5, df6)"
   ]
  },
  {
   "cell_type": "code",
   "execution_count": 44,
   "metadata": {},
   "outputs": [
    {
     "name": "stdout",
     "output_type": "stream",
     "text": [
      "Inner join\n"
     ]
    },
    {
     "data": {
      "text/html": [
       "<div>\n",
       "<style scoped>\n",
       "    .dataframe tbody tr th:only-of-type {\n",
       "        vertical-align: middle;\n",
       "    }\n",
       "\n",
       "    .dataframe tbody tr th {\n",
       "        vertical-align: top;\n",
       "    }\n",
       "\n",
       "    .dataframe thead th {\n",
       "        text-align: right;\n",
       "    }\n",
       "</style>\n",
       "<table border=\"1\" class=\"dataframe\">\n",
       "  <thead>\n",
       "    <tr style=\"text-align: right;\">\n",
       "      <th></th>\n",
       "      <th>A</th>\n",
       "      <th>B</th>\n",
       "      <th>C</th>\n",
       "      <th>D</th>\n",
       "    </tr>\n",
       "  </thead>\n",
       "  <tbody>\n",
       "    <tr>\n",
       "      <th>K0</th>\n",
       "      <td>A0</td>\n",
       "      <td>B0</td>\n",
       "      <td>C0</td>\n",
       "      <td>DO</td>\n",
       "    </tr>\n",
       "    <tr>\n",
       "      <th>K2</th>\n",
       "      <td>A2</td>\n",
       "      <td>B2</td>\n",
       "      <td>C1</td>\n",
       "      <td>D1</td>\n",
       "    </tr>\n",
       "  </tbody>\n",
       "</table>\n",
       "</div>"
      ],
      "text/plain": [
       "     A   B   C   D\n",
       "K0  A0  B0  C0  DO\n",
       "K2  A2  B2  C1  D1"
      ]
     },
     "metadata": {},
     "output_type": "display_data"
    },
    {
     "name": "stdout",
     "output_type": "stream",
     "text": [
      "Left join\n"
     ]
    },
    {
     "data": {
      "text/html": [
       "<div>\n",
       "<style scoped>\n",
       "    .dataframe tbody tr th:only-of-type {\n",
       "        vertical-align: middle;\n",
       "    }\n",
       "\n",
       "    .dataframe tbody tr th {\n",
       "        vertical-align: top;\n",
       "    }\n",
       "\n",
       "    .dataframe thead th {\n",
       "        text-align: right;\n",
       "    }\n",
       "</style>\n",
       "<table border=\"1\" class=\"dataframe\">\n",
       "  <thead>\n",
       "    <tr style=\"text-align: right;\">\n",
       "      <th></th>\n",
       "      <th>A</th>\n",
       "      <th>B</th>\n",
       "      <th>C</th>\n",
       "      <th>D</th>\n",
       "    </tr>\n",
       "  </thead>\n",
       "  <tbody>\n",
       "    <tr>\n",
       "      <th>K0</th>\n",
       "      <td>A0</td>\n",
       "      <td>B0</td>\n",
       "      <td>C0</td>\n",
       "      <td>DO</td>\n",
       "    </tr>\n",
       "    <tr>\n",
       "      <th>K1</th>\n",
       "      <td>A1</td>\n",
       "      <td>B1</td>\n",
       "      <td>NaN</td>\n",
       "      <td>NaN</td>\n",
       "    </tr>\n",
       "    <tr>\n",
       "      <th>K2</th>\n",
       "      <td>A2</td>\n",
       "      <td>B2</td>\n",
       "      <td>C1</td>\n",
       "      <td>D1</td>\n",
       "    </tr>\n",
       "  </tbody>\n",
       "</table>\n",
       "</div>"
      ],
      "text/plain": [
       "     A   B    C    D\n",
       "K0  A0  B0   C0   DO\n",
       "K1  A1  B1  NaN  NaN\n",
       "K2  A2  B2   C1   D1"
      ]
     },
     "metadata": {},
     "output_type": "display_data"
    }
   ],
   "source": [
    "inner_join = df5.join(other=df6, how=\"inner\")\n",
    "print(\"Inner join\")\n",
    "display(inner_join)\n",
    "\n",
    "left_join = df5.join(other=df6, how=\"left\")\n",
    "print(\"Left join\")\n",
    "display(left_join)"
   ]
  },
  {
   "cell_type": "markdown",
   "metadata": {},
   "source": [
    "## 2.10 Series de tiempo"
   ]
  },
  {
   "cell_type": "markdown",
   "metadata": {},
   "source": [
    "Las series de tiempo representan datos en un punto determinado del tiempo, esto nos permite realizar análisis de tendencias, patrones estacionales, fluctuaciones u otros comportamientos a lo largo del tiempo.\n",
    "\n",
    "Trabajar con series de tiempo nos permite realizar operaciones complejas de forma eficiente. <br>\n",
    "Por ejemplo:\n",
    "- Filtrado por fechas.\n",
    "- Remuestreo.\n",
    "- Análisis de tendencias.\n",
    "- Acceso avanzado a los datos por medio de la funcionalidad `loc`, indicando solo el año, mes o rango de fechas.\n",
    "\n",
    "Al trabajarlas con pandas debemos:\n",
    "- Asegurar que las columnas que contengan datos de fecha y hora tengan el formato adecuado. <br>\n",
    "Se corrigen con la función `pd.to_date()`.\n",
    "- Cambiar el ídice numérico del DataFrame por el valor de la columna que contenga la fecha en el formato `datetime`. <br>\n",
    "Se logra con la función integrada en la instancia del DF `df.set_index(\"columna\", inplace=True)`\n",
    "\n",
    "\n",
    "El formato datetime de pandas habilita nuevas funcionalidades:\n",
    "- Extracción de partes especificas de la fecha (año, mes, día, nombre del mes, día de la semana, etc.).\n",
    "- Indexación por fechas.\n",
    "- Generar rango de tiempo con `pf.date_range()`.\n",
    "- Manejo de datos faltantes con `interpolate`.\n",
    "- Etc.\n",
    "\n"
   ]
  },
  {
   "cell_type": "code",
   "execution_count": 45,
   "metadata": {},
   "outputs": [
    {
     "name": "stdout",
     "output_type": "stream",
     "text": [
      "Indice anterior: int64\n",
      "Indice nuevo: datetime64[ns]\n"
     ]
    },
    {
     "data": {
      "text/html": [
       "<div>\n",
       "<style scoped>\n",
       "    .dataframe tbody tr th:only-of-type {\n",
       "        vertical-align: middle;\n",
       "    }\n",
       "\n",
       "    .dataframe tbody tr th {\n",
       "        vertical-align: top;\n",
       "    }\n",
       "\n",
       "    .dataframe thead th {\n",
       "        text-align: right;\n",
       "    }\n",
       "</style>\n",
       "<table border=\"1\" class=\"dataframe\">\n",
       "  <thead>\n",
       "    <tr style=\"text-align: right;\">\n",
       "      <th></th>\n",
       "      <th>InvoiceNo</th>\n",
       "      <th>StockCode</th>\n",
       "      <th>Description</th>\n",
       "      <th>Quantity</th>\n",
       "      <th>UnitPrice</th>\n",
       "      <th>CustomerID</th>\n",
       "      <th>Country</th>\n",
       "      <th>TotalPrice</th>\n",
       "      <th>DiscountValue</th>\n",
       "      <th>HighValue</th>\n",
       "      <th>PriceCategory</th>\n",
       "    </tr>\n",
       "    <tr>\n",
       "      <th>InvoiceDate</th>\n",
       "      <th></th>\n",
       "      <th></th>\n",
       "      <th></th>\n",
       "      <th></th>\n",
       "      <th></th>\n",
       "      <th></th>\n",
       "      <th></th>\n",
       "      <th></th>\n",
       "      <th></th>\n",
       "      <th></th>\n",
       "      <th></th>\n",
       "    </tr>\n",
       "  </thead>\n",
       "  <tbody>\n",
       "    <tr>\n",
       "      <th>2010-12-01 08:26:00</th>\n",
       "      <td>536365</td>\n",
       "      <td>85123A</td>\n",
       "      <td>WHITE HANGING HEART T-LIGHT HOLDER</td>\n",
       "      <td>6</td>\n",
       "      <td>2.55</td>\n",
       "      <td>17850.0</td>\n",
       "      <td>United Kingdom</td>\n",
       "      <td>15.30</td>\n",
       "      <td>0.9</td>\n",
       "      <td>False</td>\n",
       "      <td>Low</td>\n",
       "    </tr>\n",
       "    <tr>\n",
       "      <th>2010-12-01 08:26:00</th>\n",
       "      <td>536365</td>\n",
       "      <td>71053</td>\n",
       "      <td>WHITE METAL LANTERN</td>\n",
       "      <td>6</td>\n",
       "      <td>3.39</td>\n",
       "      <td>17850.0</td>\n",
       "      <td>United Kingdom</td>\n",
       "      <td>20.34</td>\n",
       "      <td>0.9</td>\n",
       "      <td>False</td>\n",
       "      <td>Low</td>\n",
       "    </tr>\n",
       "    <tr>\n",
       "      <th>2010-12-01 08:26:00</th>\n",
       "      <td>536365</td>\n",
       "      <td>84406B</td>\n",
       "      <td>CREAM CUPID HEARTS COAT HANGER</td>\n",
       "      <td>8</td>\n",
       "      <td>2.75</td>\n",
       "      <td>17850.0</td>\n",
       "      <td>United Kingdom</td>\n",
       "      <td>22.00</td>\n",
       "      <td>0.9</td>\n",
       "      <td>False</td>\n",
       "      <td>Low</td>\n",
       "    </tr>\n",
       "    <tr>\n",
       "      <th>2010-12-01 08:26:00</th>\n",
       "      <td>536365</td>\n",
       "      <td>84029G</td>\n",
       "      <td>KNITTED UNION FLAG HOT WATER BOTTLE</td>\n",
       "      <td>6</td>\n",
       "      <td>3.39</td>\n",
       "      <td>17850.0</td>\n",
       "      <td>United Kingdom</td>\n",
       "      <td>20.34</td>\n",
       "      <td>0.9</td>\n",
       "      <td>False</td>\n",
       "      <td>Low</td>\n",
       "    </tr>\n",
       "    <tr>\n",
       "      <th>2010-12-01 08:26:00</th>\n",
       "      <td>536365</td>\n",
       "      <td>84029E</td>\n",
       "      <td>RED WOOLLY HOTTIE WHITE HEART.</td>\n",
       "      <td>6</td>\n",
       "      <td>3.39</td>\n",
       "      <td>17850.0</td>\n",
       "      <td>United Kingdom</td>\n",
       "      <td>20.34</td>\n",
       "      <td>0.9</td>\n",
       "      <td>False</td>\n",
       "      <td>Low</td>\n",
       "    </tr>\n",
       "  </tbody>\n",
       "</table>\n",
       "</div>"
      ],
      "text/plain": [
       "                    InvoiceNo StockCode                          Description  \\\n",
       "InvoiceDate                                                                    \n",
       "2010-12-01 08:26:00    536365    85123A   WHITE HANGING HEART T-LIGHT HOLDER   \n",
       "2010-12-01 08:26:00    536365     71053                  WHITE METAL LANTERN   \n",
       "2010-12-01 08:26:00    536365    84406B       CREAM CUPID HEARTS COAT HANGER   \n",
       "2010-12-01 08:26:00    536365    84029G  KNITTED UNION FLAG HOT WATER BOTTLE   \n",
       "2010-12-01 08:26:00    536365    84029E       RED WOOLLY HOTTIE WHITE HEART.   \n",
       "\n",
       "                     Quantity  UnitPrice  CustomerID         Country  \\\n",
       "InvoiceDate                                                            \n",
       "2010-12-01 08:26:00         6       2.55     17850.0  United Kingdom   \n",
       "2010-12-01 08:26:00         6       3.39     17850.0  United Kingdom   \n",
       "2010-12-01 08:26:00         8       2.75     17850.0  United Kingdom   \n",
       "2010-12-01 08:26:00         6       3.39     17850.0  United Kingdom   \n",
       "2010-12-01 08:26:00         6       3.39     17850.0  United Kingdom   \n",
       "\n",
       "                     TotalPrice  DiscountValue  HighValue PriceCategory  \n",
       "InvoiceDate                                                              \n",
       "2010-12-01 08:26:00       15.30            0.9      False           Low  \n",
       "2010-12-01 08:26:00       20.34            0.9      False           Low  \n",
       "2010-12-01 08:26:00       22.00            0.9      False           Low  \n",
       "2010-12-01 08:26:00       20.34            0.9      False           Low  \n",
       "2010-12-01 08:26:00       20.34            0.9      False           Low  "
      ]
     },
     "execution_count": 45,
     "metadata": {},
     "output_type": "execute_result"
    }
   ],
   "source": [
    "\"\"\"\n",
    "Cambiamos el indice numérico del dataframe por un indice datetime a partir \n",
    "de la columna  InvoiceDate\n",
    "\"\"\"\n",
    "\n",
    "print(\"Indice anterior:\", retail_df.index.dtype)\n",
    "\n",
    "retail_df.set_index(\"InvoiceDate\", inplace=True)\n",
    "print(\"Indice nuevo:\", retail_df.index.dtype)\n",
    "retail_df.head()"
   ]
  },
  {
   "cell_type": "markdown",
   "metadata": {},
   "source": [
    "Al colocar `InvoiceDate` como índice ésta columna ya no aparece en el DataFrame, por lo tanto para acceder a sus respectivos valores lo haremos mediante la propiedad `index`."
   ]
  },
  {
   "cell_type": "code",
   "execution_count": 55,
   "metadata": {},
   "outputs": [
    {
     "name": "stdout",
     "output_type": "stream",
     "text": [
      "DatetimeIndex(['2010-12-01 08:26:00', '2010-12-01 08:26:00',\n",
      "               '2010-12-01 08:26:00', '2010-12-01 08:26:00',\n",
      "               '2010-12-01 08:26:00'],\n",
      "              dtype='datetime64[ns]', name='InvoiceDate', freq=None)\n",
      "Año Int64Index([2011, 2011, 2011, 2011, 2011], dtype='int64', name='InvoiceDate')\n",
      "Mes Int64Index([5, 12, 11, 8, 2], dtype='int64', name='InvoiceDate')\n",
      "Nombre mes: Index(['August', 'August', 'January', 'December', 'July'], dtype='object', name='InvoiceDate')\n"
     ]
    }
   ],
   "source": [
    "print(retail_df.index[:5])\n",
    "\n",
    "# Extraer elementos de especificos de una fecha:\n",
    "print(\"Año\", retail_df.sample(5).index.year[:5])\n",
    "print(\"Mes\", retail_df.sample(5).index.month[:5])\n",
    "print(\"Nombre mes:\", retail_df.sample(5).index.month_name())"
   ]
  },
  {
   "cell_type": "code",
   "execution_count": 63,
   "metadata": {},
   "outputs": [
    {
     "name": "stdout",
     "output_type": "stream",
     "text": [
      "Enero 2011:\n"
     ]
    },
    {
     "data": {
      "text/html": [
       "<div>\n",
       "<style scoped>\n",
       "    .dataframe tbody tr th:only-of-type {\n",
       "        vertical-align: middle;\n",
       "    }\n",
       "\n",
       "    .dataframe tbody tr th {\n",
       "        vertical-align: top;\n",
       "    }\n",
       "\n",
       "    .dataframe thead th {\n",
       "        text-align: right;\n",
       "    }\n",
       "</style>\n",
       "<table border=\"1\" class=\"dataframe\">\n",
       "  <thead>\n",
       "    <tr style=\"text-align: right;\">\n",
       "      <th></th>\n",
       "      <th>InvoiceNo</th>\n",
       "      <th>StockCode</th>\n",
       "      <th>Description</th>\n",
       "      <th>Quantity</th>\n",
       "      <th>UnitPrice</th>\n",
       "      <th>CustomerID</th>\n",
       "      <th>Country</th>\n",
       "      <th>TotalPrice</th>\n",
       "      <th>DiscountValue</th>\n",
       "      <th>HighValue</th>\n",
       "      <th>PriceCategory</th>\n",
       "    </tr>\n",
       "    <tr>\n",
       "      <th>InvoiceDate</th>\n",
       "      <th></th>\n",
       "      <th></th>\n",
       "      <th></th>\n",
       "      <th></th>\n",
       "      <th></th>\n",
       "      <th></th>\n",
       "      <th></th>\n",
       "      <th></th>\n",
       "      <th></th>\n",
       "      <th></th>\n",
       "      <th></th>\n",
       "    </tr>\n",
       "  </thead>\n",
       "  <tbody>\n",
       "    <tr>\n",
       "      <th>2011-01-11 14:42:00</th>\n",
       "      <td>540832</td>\n",
       "      <td>20727</td>\n",
       "      <td>LUNCH BAG  BLACK SKULL.</td>\n",
       "      <td>6</td>\n",
       "      <td>4.96</td>\n",
       "      <td>13784.0</td>\n",
       "      <td>United Kingdom</td>\n",
       "      <td>29.76</td>\n",
       "      <td>0.9</td>\n",
       "      <td>False</td>\n",
       "      <td>Low</td>\n",
       "    </tr>\n",
       "    <tr>\n",
       "      <th>2011-01-18 16:06:00</th>\n",
       "      <td>541508</td>\n",
       "      <td>21042</td>\n",
       "      <td>RED RETROSPOT APRON</td>\n",
       "      <td>1</td>\n",
       "      <td>12.46</td>\n",
       "      <td>15939.0</td>\n",
       "      <td>United Kingdom</td>\n",
       "      <td>12.46</td>\n",
       "      <td>0.9</td>\n",
       "      <td>False</td>\n",
       "      <td>Low</td>\n",
       "    </tr>\n",
       "    <tr>\n",
       "      <th>2011-01-25 13:38:00</th>\n",
       "      <td>542107</td>\n",
       "      <td>22913</td>\n",
       "      <td>RED COAT RACK PARIS FASHION</td>\n",
       "      <td>1</td>\n",
       "      <td>4.95</td>\n",
       "      <td>16222.0</td>\n",
       "      <td>United Kingdom</td>\n",
       "      <td>4.95</td>\n",
       "      <td>0.9</td>\n",
       "      <td>False</td>\n",
       "      <td>Low</td>\n",
       "    </tr>\n",
       "    <tr>\n",
       "      <th>2011-01-06 14:53:00</th>\n",
       "      <td>540353</td>\n",
       "      <td>22840</td>\n",
       "      <td>ROUND CAKE TIN VINTAGE RED</td>\n",
       "      <td>1</td>\n",
       "      <td>7.95</td>\n",
       "      <td>13764.0</td>\n",
       "      <td>United Kingdom</td>\n",
       "      <td>7.95</td>\n",
       "      <td>0.9</td>\n",
       "      <td>False</td>\n",
       "      <td>Low</td>\n",
       "    </tr>\n",
       "    <tr>\n",
       "      <th>2011-01-05 10:50:00</th>\n",
       "      <td>C540142</td>\n",
       "      <td>22960</td>\n",
       "      <td>JAM MAKING SET WITH JARS</td>\n",
       "      <td>-12</td>\n",
       "      <td>3.75</td>\n",
       "      <td>12782.0</td>\n",
       "      <td>Portugal</td>\n",
       "      <td>-45.00</td>\n",
       "      <td>0.9</td>\n",
       "      <td>False</td>\n",
       "      <td>Low</td>\n",
       "    </tr>\n",
       "  </tbody>\n",
       "</table>\n",
       "</div>"
      ],
      "text/plain": [
       "                    InvoiceNo StockCode                  Description  \\\n",
       "InvoiceDate                                                            \n",
       "2011-01-11 14:42:00    540832     20727      LUNCH BAG  BLACK SKULL.   \n",
       "2011-01-18 16:06:00    541508     21042         RED RETROSPOT APRON    \n",
       "2011-01-25 13:38:00    542107     22913  RED COAT RACK PARIS FASHION   \n",
       "2011-01-06 14:53:00    540353     22840   ROUND CAKE TIN VINTAGE RED   \n",
       "2011-01-05 10:50:00   C540142     22960     JAM MAKING SET WITH JARS   \n",
       "\n",
       "                     Quantity  UnitPrice  CustomerID         Country  \\\n",
       "InvoiceDate                                                            \n",
       "2011-01-11 14:42:00         6       4.96     13784.0  United Kingdom   \n",
       "2011-01-18 16:06:00         1      12.46     15939.0  United Kingdom   \n",
       "2011-01-25 13:38:00         1       4.95     16222.0  United Kingdom   \n",
       "2011-01-06 14:53:00         1       7.95     13764.0  United Kingdom   \n",
       "2011-01-05 10:50:00       -12       3.75     12782.0        Portugal   \n",
       "\n",
       "                     TotalPrice  DiscountValue  HighValue PriceCategory  \n",
       "InvoiceDate                                                              \n",
       "2011-01-11 14:42:00       29.76            0.9      False           Low  \n",
       "2011-01-18 16:06:00       12.46            0.9      False           Low  \n",
       "2011-01-25 13:38:00        4.95            0.9      False           Low  \n",
       "2011-01-06 14:53:00        7.95            0.9      False           Low  \n",
       "2011-01-05 10:50:00      -45.00            0.9      False           Low  "
      ]
     },
     "metadata": {},
     "output_type": "display_data"
    },
    {
     "name": "stdout",
     "output_type": "stream",
     "text": [
      "Rango: desde 01/15/2011 al 15/12/2011 \n"
     ]
    },
    {
     "data": {
      "text/html": [
       "<div>\n",
       "<style scoped>\n",
       "    .dataframe tbody tr th:only-of-type {\n",
       "        vertical-align: middle;\n",
       "    }\n",
       "\n",
       "    .dataframe tbody tr th {\n",
       "        vertical-align: top;\n",
       "    }\n",
       "\n",
       "    .dataframe thead th {\n",
       "        text-align: right;\n",
       "    }\n",
       "</style>\n",
       "<table border=\"1\" class=\"dataframe\">\n",
       "  <thead>\n",
       "    <tr style=\"text-align: right;\">\n",
       "      <th></th>\n",
       "      <th>InvoiceNo</th>\n",
       "      <th>StockCode</th>\n",
       "      <th>Description</th>\n",
       "      <th>Quantity</th>\n",
       "      <th>UnitPrice</th>\n",
       "      <th>CustomerID</th>\n",
       "      <th>Country</th>\n",
       "      <th>TotalPrice</th>\n",
       "      <th>DiscountValue</th>\n",
       "      <th>HighValue</th>\n",
       "      <th>PriceCategory</th>\n",
       "    </tr>\n",
       "    <tr>\n",
       "      <th>InvoiceDate</th>\n",
       "      <th></th>\n",
       "      <th></th>\n",
       "      <th></th>\n",
       "      <th></th>\n",
       "      <th></th>\n",
       "      <th></th>\n",
       "      <th></th>\n",
       "      <th></th>\n",
       "      <th></th>\n",
       "      <th></th>\n",
       "      <th></th>\n",
       "    </tr>\n",
       "  </thead>\n",
       "  <tbody>\n",
       "    <tr>\n",
       "      <th>2011-12-07 17:56:00</th>\n",
       "      <td>581197</td>\n",
       "      <td>23162</td>\n",
       "      <td>REGENCY TEA STRAINER</td>\n",
       "      <td>1</td>\n",
       "      <td>3.75</td>\n",
       "      <td>12935.0</td>\n",
       "      <td>United Kingdom</td>\n",
       "      <td>3.75</td>\n",
       "      <td>0.9</td>\n",
       "      <td>False</td>\n",
       "      <td>Low</td>\n",
       "    </tr>\n",
       "    <tr>\n",
       "      <th>2011-12-02 12:43:00</th>\n",
       "      <td>C580263</td>\n",
       "      <td>21934</td>\n",
       "      <td>SKULL SHOULDER BAG</td>\n",
       "      <td>-10</td>\n",
       "      <td>1.65</td>\n",
       "      <td>12536.0</td>\n",
       "      <td>France</td>\n",
       "      <td>-16.50</td>\n",
       "      <td>0.9</td>\n",
       "      <td>False</td>\n",
       "      <td>Low</td>\n",
       "    </tr>\n",
       "    <tr>\n",
       "      <th>2011-12-08 11:21:00</th>\n",
       "      <td>581256</td>\n",
       "      <td>22426</td>\n",
       "      <td>ENAMEL WASH BOWL CREAM</td>\n",
       "      <td>1</td>\n",
       "      <td>8.29</td>\n",
       "      <td>16891.0</td>\n",
       "      <td>United Kingdom</td>\n",
       "      <td>8.29</td>\n",
       "      <td>0.9</td>\n",
       "      <td>False</td>\n",
       "      <td>Low</td>\n",
       "    </tr>\n",
       "    <tr>\n",
       "      <th>2011-12-09 12:31:00</th>\n",
       "      <td>581585</td>\n",
       "      <td>23084</td>\n",
       "      <td>RABBIT NIGHT LIGHT</td>\n",
       "      <td>12</td>\n",
       "      <td>2.08</td>\n",
       "      <td>15804.0</td>\n",
       "      <td>United Kingdom</td>\n",
       "      <td>24.96</td>\n",
       "      <td>0.9</td>\n",
       "      <td>False</td>\n",
       "      <td>Low</td>\n",
       "    </tr>\n",
       "    <tr>\n",
       "      <th>2011-12-07 09:35:00</th>\n",
       "      <td>581015</td>\n",
       "      <td>22299</td>\n",
       "      <td>PIG KEYRING WITH LIGHT &amp; SOUND</td>\n",
       "      <td>48</td>\n",
       "      <td>0.39</td>\n",
       "      <td>13949.0</td>\n",
       "      <td>United Kingdom</td>\n",
       "      <td>18.72</td>\n",
       "      <td>0.9</td>\n",
       "      <td>False</td>\n",
       "      <td>Low</td>\n",
       "    </tr>\n",
       "  </tbody>\n",
       "</table>\n",
       "</div>"
      ],
      "text/plain": [
       "                    InvoiceNo StockCode                      Description  \\\n",
       "InvoiceDate                                                                \n",
       "2011-12-07 17:56:00    581197     23162             REGENCY TEA STRAINER   \n",
       "2011-12-02 12:43:00   C580263     21934               SKULL SHOULDER BAG   \n",
       "2011-12-08 11:21:00    581256     22426           ENAMEL WASH BOWL CREAM   \n",
       "2011-12-09 12:31:00    581585     23084               RABBIT NIGHT LIGHT   \n",
       "2011-12-07 09:35:00    581015     22299  PIG KEYRING WITH LIGHT & SOUND    \n",
       "\n",
       "                     Quantity  UnitPrice  CustomerID         Country  \\\n",
       "InvoiceDate                                                            \n",
       "2011-12-07 17:56:00         1       3.75     12935.0  United Kingdom   \n",
       "2011-12-02 12:43:00       -10       1.65     12536.0          France   \n",
       "2011-12-08 11:21:00         1       8.29     16891.0  United Kingdom   \n",
       "2011-12-09 12:31:00        12       2.08     15804.0  United Kingdom   \n",
       "2011-12-07 09:35:00        48       0.39     13949.0  United Kingdom   \n",
       "\n",
       "                     TotalPrice  DiscountValue  HighValue PriceCategory  \n",
       "InvoiceDate                                                              \n",
       "2011-12-07 17:56:00        3.75            0.9      False           Low  \n",
       "2011-12-02 12:43:00      -16.50            0.9      False           Low  \n",
       "2011-12-08 11:21:00        8.29            0.9      False           Low  \n",
       "2011-12-09 12:31:00       24.96            0.9      False           Low  \n",
       "2011-12-07 09:35:00       18.72            0.9      False           Low  "
      ]
     },
     "metadata": {},
     "output_type": "display_data"
    }
   ],
   "source": [
    "# Filtro avanzado a partir del indice tipo datetime con .loc\n",
    "print(\"Enero 2011:\")\n",
    "display(retail_df.loc[\"2011-01\"].sample(5))\n",
    "\n",
    "print(\"Rango: desde 01/15/2011 al 15/12/2011 \")\n",
    "display(retail_df.loc[\"2011-12-01\" : \"2011-12-15\"].sample(5))\n"
   ]
  },
  {
   "cell_type": "markdown",
   "metadata": {},
   "source": [
    "Generación de una serie de tiempo a partir de un rango."
   ]
  },
  {
   "cell_type": "code",
   "execution_count": 69,
   "metadata": {},
   "outputs": [
    {
     "name": "stdout",
     "output_type": "stream",
     "text": [
      "(366, 1)\n"
     ]
    },
    {
     "data": {
      "text/html": [
       "<div>\n",
       "<style scoped>\n",
       "    .dataframe tbody tr th:only-of-type {\n",
       "        vertical-align: middle;\n",
       "    }\n",
       "\n",
       "    .dataframe tbody tr th {\n",
       "        vertical-align: top;\n",
       "    }\n",
       "\n",
       "    .dataframe thead th {\n",
       "        text-align: right;\n",
       "    }\n",
       "</style>\n",
       "<table border=\"1\" class=\"dataframe\">\n",
       "  <thead>\n",
       "    <tr style=\"text-align: right;\">\n",
       "      <th></th>\n",
       "      <th>date</th>\n",
       "    </tr>\n",
       "  </thead>\n",
       "  <tbody>\n",
       "    <tr>\n",
       "      <th>0</th>\n",
       "      <td>2024-01-01</td>\n",
       "    </tr>\n",
       "    <tr>\n",
       "      <th>1</th>\n",
       "      <td>2024-01-02</td>\n",
       "    </tr>\n",
       "    <tr>\n",
       "      <th>2</th>\n",
       "      <td>2024-01-03</td>\n",
       "    </tr>\n",
       "    <tr>\n",
       "      <th>3</th>\n",
       "      <td>2024-01-04</td>\n",
       "    </tr>\n",
       "    <tr>\n",
       "      <th>4</th>\n",
       "      <td>2024-01-05</td>\n",
       "    </tr>\n",
       "  </tbody>\n",
       "</table>\n",
       "</div>"
      ],
      "text/plain": [
       "        date\n",
       "0 2024-01-01\n",
       "1 2024-01-02\n",
       "2 2024-01-03\n",
       "3 2024-01-04\n",
       "4 2024-01-05"
      ]
     },
     "metadata": {},
     "output_type": "display_data"
    },
    {
     "name": "stdout",
     "output_type": "stream",
     "text": [
      "datetime64[ns]\n"
     ]
    }
   ],
   "source": [
    "new_date_range = pd.date_range(start=\"2024-01-01\", end=\"2024-12-31\", freq=\"D\")\n",
    "ts_example = pd.DataFrame(new_date_range, columns=[\"date\"])\n",
    "\n",
    "print(ts_example.shape)\n",
    "display(ts_example.head())\n",
    "print(ts_example[\"date\"].dtype)"
   ]
  },
  {
   "cell_type": "code",
   "execution_count": null,
   "metadata": {},
   "outputs": [],
   "source": []
  }
 ],
 "metadata": {
  "kernelspec": {
   "display_name": "numpy_pandas_da",
   "language": "python",
   "name": "python3"
  },
  "language_info": {
   "codemirror_mode": {
    "name": "ipython",
    "version": 3
   },
   "file_extension": ".py",
   "mimetype": "text/x-python",
   "name": "python",
   "nbconvert_exporter": "python",
   "pygments_lexer": "ipython3",
   "version": "3.7.12"
  }
 },
 "nbformat": 4,
 "nbformat_minor": 2
}
