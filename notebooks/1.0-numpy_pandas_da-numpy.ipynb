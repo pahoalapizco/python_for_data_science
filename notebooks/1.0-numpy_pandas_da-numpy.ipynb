{
 "cells": [
  {
   "cell_type": "markdown",
   "metadata": {},
   "source": [
    "# Numpy"
   ]
  },
  {
   "cell_type": "code",
   "execution_count": 2,
   "metadata": {},
   "outputs": [],
   "source": [
    "import numpy as np"
   ]
  },
  {
   "cell_type": "markdown",
   "metadata": {},
   "source": [
    "Numpy es una librería que trabaja con grandes conjuntos de datos numéricos de forma eficiente, realiza complejas operaciones matemáticas y estadísticas de alto rendimiento.\n",
    "\n",
    "El elemento principal de esta librería son los arrays, éstos pueden representarse en distintas dimensiones."
   ]
  },
  {
   "cell_type": "markdown",
   "metadata": {},
   "source": [
    "## 1.1 Dimensiones"
   ]
  },
  {
   "cell_type": "markdown",
   "metadata": {},
   "source": [
    "Las dimensiones nos permiten estructurar los datos de tal forma que sea posible abordar problemas complejos con más eficiencia y precisión.\n",
    "\n",
    "Podemos encontrar las dimensiones como:\n",
    "- 0 dimensiones = Escalar\n",
    "- 1 dimensión = Vector\n",
    "- 2 dimensiones = Matriz\n",
    "- +3 dimensiones = Tensor\n",
    "\n",
    "Cada una de las dimensiones tiene un proposito especifico."
   ]
  },
  {
   "cell_type": "markdown",
   "metadata": {},
   "source": [
    "**Escalar**: Se utiliza para mediciones individuales, pues un escalar es en si un simple valor numérico."
   ]
  },
  {
   "cell_type": "code",
   "execution_count": 3,
   "metadata": {},
   "outputs": [
    {
     "name": "stdout",
     "output_type": "stream",
     "text": [
      "36, type: int64, dimensión: 0\n"
     ]
    }
   ],
   "source": [
    "escalar = np.array(36)\n",
    "print(f\"{escalar}, type: {escalar.dtype}, dimensión: {escalar.ndim}\")"
   ]
  },
  {
   "cell_type": "markdown",
   "metadata": {},
   "source": [
    "**Vector**: Colección de más de un escalar, se utilizan cuando los datos pueden organizarse como una fila o una columna, como las características una sola observación (edad, altura, peso, etc.)"
   ]
  },
  {
   "cell_type": "code",
   "execution_count": 4,
   "metadata": {},
   "outputs": [
    {
     "name": "stdout",
     "output_type": "stream",
     "text": [
      "[36 32 29 30 30 31 33],\n",
      "type: int64, dimensión: 1\n"
     ]
    }
   ],
   "source": [
    "vector = np.array([36, 32, 29, 30, 30, 31, 33])\n",
    "print(f\"{vector},\\ntype: {vector.dtype}, dimensión: {vector.ndim}\")"
   ]
  },
  {
   "cell_type": "markdown",
   "metadata": {},
   "source": [
    "**Matriz**: Organiza la información a modo de filas y columnas, es utilizada cuando se cuenta con una estructura bidimensional. Ejemplo, (1) Dataset donde las filas representan las observaciones y las columnas las características. (2) O bien una imagen en escala de grices, donde cada celta (fila-columna) representa un pixel."
   ]
  },
  {
   "cell_type": "code",
   "execution_count": 5,
   "metadata": {},
   "outputs": [
    {
     "name": "stdout",
     "output_type": "stream",
     "text": [
      "[[1 2 3]\n",
      " [4 5 6]],\n",
      "type: int64, dimensión: 2\n"
     ]
    }
   ],
   "source": [
    "matrix = np.array([[1,2,3], [4,5,6]])\n",
    "print(f\"{matrix},\\ntype: {matrix.dtype}, dimensión: {matrix.ndim}\")"
   ]
  },
  {
   "cell_type": "markdown",
   "metadata": {},
   "source": [
    "**Tensor**: Los datos tienen 3 o más dimensiones, un ejemplo de un tensor 3D es una (1) imagen a color, ccada dimensión representa algo diferente: alto, ancho y canales de color (RGB). (2) O bien podemos encontrar que un tensor 4D representa un video, donde encontramos una dimensión para el núnero de frames, alto, ancho y canales de color."
   ]
  },
  {
   "cell_type": "code",
   "execution_count": 6,
   "metadata": {},
   "outputs": [
    {
     "name": "stdout",
     "output_type": "stream",
     "text": [
      "[[[ 1  2]\n",
      "  [ 3  4]\n",
      "  [ 5  6]]\n",
      "\n",
      " [[ 7  8]\n",
      "  [ 9 10]\n",
      "  [11 12]]\n",
      "\n",
      " [[13 14]\n",
      "  [15 16]\n",
      "  [17 18]]],\n",
      "type: int64, dimensión: 3\n"
     ]
    }
   ],
   "source": [
    "tensor = tensor = np.array([\n",
    "  [[1,2], [3,4], [5,6]],\n",
    "  [[7,8], [9,10], [11,12]],\n",
    "  [[13,14], [15,16], [17,18]]\n",
    "])\n",
    "print(f\"{tensor},\\ntype: {tensor.dtype}, dimensión: {tensor.ndim}\")"
   ]
  },
  {
   "cell_type": "markdown",
   "metadata": {},
   "source": [
    "Numpy nos ofrece 6 mecanismos distintos para crear arrays:\n",
    "1. **Conversión**: Desde otras estructuras de pyhon (listas y tuplas).\n",
    "2. **Funciones**: Ya vienen por defecto en Numpy (arange, ones, zeros, eye, etc.).\n",
    "3. **Replicación**: Unión o mutación de vectores o matrices existentes.\n",
    "4. **Lectura desde disco**: Leer archivos de texto, csv o formatos personalizados.\n",
    "5. **Bytes crudos**: Por medio de cadenas o Buffers.\n",
    "6. **Funciones especiales**: Provenientes de librerías externas (random)"
   ]
  },
  {
   "cell_type": "code",
   "execution_count": 7,
   "metadata": {},
   "outputs": [
    {
     "name": "stdout",
     "output_type": "stream",
     "text": [
      "[0 1 2 3 4]\n"
     ]
    },
    {
     "data": {
      "text/plain": [
       "array([5, 6, 7, 8, 9])"
      ]
     },
     "execution_count": 7,
     "metadata": {},
     "output_type": "execute_result"
    }
   ],
   "source": [
    "array = np.arange(0,5)\n",
    "print(array)\n",
    "array + 5"
   ]
  },
  {
   "cell_type": "markdown",
   "metadata": {},
   "source": [
    "## 1.2 Arrays"
   ]
  },
  {
   "cell_type": "markdown",
   "metadata": {},
   "source": [
    "Específicamente en Numpy, un array es una estructura de datos homogénea organizada en una o más dimensiones. Esencial para cálculos matemáticos de manera eficiente y rápida.\n",
    "\n",
    "En el análisis y procesamiento de datos, los arrays de Numpy son superiores a las listas de Python, ya que la librería ofrece funciones matemáticas y estadísticas  avanzadas ya optimizadas para estas estructura. \n",
    "\n",
    "📌 `array > lista`\n",
    "\n",
    "Con esta herramienta se uede representar:\n",
    "- Imágenes\n",
    "- Sonidos\n",
    "- Videos\n",
    "- Textos\n",
    "- etc..."
   ]
  },
  {
   "cell_type": "markdown",
   "metadata": {},
   "source": [
    "### 1.2.1 Formas de crear arrays con `numpy`"
   ]
  },
  {
   "cell_type": "markdown",
   "metadata": {},
   "source": [
    "**Funciones a partir de una forma predefinida** <br>\n",
    "Este tipo de funciones tienen en comun los parametros `shape` que define la forma del array, y `dtype` para indicar el tipo de dato que contendra el array.\n",
    "\n",
    "- `empty()`: Crea un array con valores arbitrarios, \"vacío\" o sin inicializar. Lo cuál significa que su contenido no se establece en 0 o en cualquier otro valor predefinido\n",
    "- `eye()`: Crea un array bidimensional (2D) compuesta por 0 y 1, los elementos de la diagonal principal tienen el valor de 1, en otras palabras crea una matriz identidad.\n",
    "- `identity()`: Crea una matriz identidad cuadrada (`nxn`), similar a eye pero con una sintaxis más sencilla"
   ]
  },
  {
   "cell_type": "code",
   "execution_count": 10,
   "metadata": {},
   "outputs": [
    {
     "name": "stdout",
     "output_type": "stream",
     "text": [
      "***** empty() *****\n",
      "[[0 0 0 0]\n",
      " [1 0 0 0]\n",
      " [0 1 0 0]\n",
      " [0 0 1 0]]\n",
      "Forma: (4, 4), dimensión: 2, tipo: uint8\n",
      "\n",
      "***** eye() *****\n",
      "Matriz identidad con la diagonal principal en la parte inferior\n",
      "[[0. 0. 0. 0.]\n",
      " [1. 0. 0. 0.]\n",
      " [0. 1. 0. 0.]\n",
      " [0. 0. 1. 0.]]\n",
      "Forma: (4, 4), dimensión: 2, tipo: float64\n",
      "\n",
      "***** identity() *****\n",
      "[[1. 0. 0.]\n",
      " [0. 1. 0.]\n",
      " [0. 0. 1.]]\n",
      "Forma: (3, 3), dimensión: 2, tipo: float64\n",
      "\n"
     ]
    }
   ],
   "source": [
    "# Array de 2 dimensiones (matriz)\n",
    "print(\"*\"*5, \"empty()\", \"*\"*5)\n",
    "empy_array_2d = np.empty(shape=(4,4), dtype=\"uint8\")\n",
    "print(empy_array_2d)\n",
    "print(f\"Forma: {empy_array_2d.shape}, dimensión: {empy_array_2d.ndim}, tipo: {empy_array_2d.dtype}\\n\")\n",
    "\n",
    "\n",
    "print(\"*\"*5, \"eye()\", \"*\"*5)\n",
    "eye_matrix__1 = np.eye(N=4, k=-1)\n",
    "print(f\"Matriz identidad con la diagonal principal en la parte inferior\")\n",
    "print(eye_matrix__1)\n",
    "print(f\"Forma: {eye_matrix__1.shape}, dimensión: {eye_matrix__1.ndim}, tipo: {eye_matrix__1.dtype}\\n\")\n",
    "\n",
    "print(\"*\"*5, \"identity()\", \"*\"*5)\n",
    "identity_array_v1 = np.identity(n=3)\n",
    "print(identity_array_v1)\n",
    "print(f\"Forma: {identity_array_v1.shape}, dimensión: {identity_array_v1.ndim}, tipo: {identity_array_v1.dtype}\\n\")\\\n"
   ]
  },
  {
   "cell_type": "markdown",
   "metadata": {},
   "source": [
    "- `ones()`: Esta función crea un array de una determinada forma, cada elemento se inicializa con el valor de 1.\n",
    "- `zeros()`: Esta función crea un array de una determinada forma, cada elemento se inicializa con el valor de 0.\n",
    "- `full()`: Crea un array con de una determinada forma, cada elemento esta inicializado con el valor especificado al crear el array."
   ]
  },
  {
   "cell_type": "code",
   "execution_count": 11,
   "metadata": {},
   "outputs": [
    {
     "name": "stdout",
     "output_type": "stream",
     "text": [
      "***** ones() *****\n",
      "[[1 1 1 1 1]\n",
      " [1 1 1 1 1]\n",
      " [1 1 1 1 1]\n",
      " [1 1 1 1 1]\n",
      " [1 1 1 1 1]]\n",
      "Forma: (5, 5), dimensión: 2, tipo: int32\n",
      "\n",
      "***** zeros() *****\n",
      "[0. 0. 0.]\n",
      "Forma: (3,), dimensión: 1, tipo: float64\n",
      "\n",
      "***** full() *****\n",
      "[[5.5 0.  3. ]\n",
      " [5.5 0.  3. ]\n",
      " [5.5 0.  3. ]]\n",
      "Forma: (3, 3), dimensión: 2, tipo: float64\n",
      "\n"
     ]
    }
   ],
   "source": [
    "\n",
    "print(\"*\"*5, \"ones()\", \"*\"*5)\n",
    "ones_v1 = np.ones(shape=(5, 5), dtype=\"int32\")\n",
    "print(ones_v1)\n",
    "print(f\"Forma: {ones_v1.shape}, dimensión: {ones_v1.ndim}, tipo: {ones_v1.dtype}\\n\")\n",
    "\n",
    "print(\"*\"*5, \"zeros()\", \"*\"*5)\n",
    "zeros_v1 = np.zeros(shape=3)\n",
    "print(zeros_v1)\n",
    "print(f\"Forma: {zeros_v1.shape}, dimensión: {zeros_v1.ndim}, tipo: {zeros_v1.dtype}\\n\")\n",
    "\n",
    "print(\"*\"*5, \"full()\", \"*\"*5)\n",
    "fill_array = np.full(shape=(3,3), fill_value=[5.5, 0, 3])\n",
    "print(fill_array)\n",
    "print(f\"Forma: {fill_array.shape}, dimensión: {fill_array.ndim}, tipo: {fill_array.dtype}\\n\")"
   ]
  },
  {
   "cell_type": "markdown",
   "metadata": {},
   "source": [
    "Cada método tiene una funcionalidad y objetivo especifico, según las necesidades del proyecto que estemos realizando.\n",
    "En este [notebook de google colab](https://colab.research.google.com/drive/1ORRBfv7sDnOPh2tzomCSzVpZZV-0XH-_#scrollTo=vTHWAn3jR3HK) hay más ejemplos de creación de arrays con otras funciones ya integradas de numpy."
   ]
  },
  {
   "cell_type": "markdown",
   "metadata": {},
   "source": [
    "## 1.3 Indexación y Slicing"
   ]
  },
  {
   "cell_type": "markdown",
   "metadata": {},
   "source": [
    "**Indexación** <br>\n",
    "Forma de acceder a los elementos de un array por medio de su índice.<br>\n",
    "📢 Los indices empiezan a partir del 0 que representa el primer elemento del array."
   ]
  },
  {
   "cell_type": "code",
   "execution_count": 31,
   "metadata": {},
   "outputs": [
    {
     "name": "stdout",
     "output_type": "stream",
     "text": [
      "[29 22 22 23 17 19 27 26 25 17  8 21 16 19 15 28 19 11 27 17]\n"
     ]
    }
   ],
   "source": [
    "array = np.random.randint(5, 30, 20) \n",
    "print(array)"
   ]
  },
  {
   "cell_type": "code",
   "execution_count": 32,
   "metadata": {},
   "outputs": [
    {
     "name": "stdout",
     "output_type": "stream",
     "text": [
      "Elemento en la posición 5: 17\n",
      "Elemento en la primer posición: 29\n",
      "Elemento en la última posición 17\n",
      "Elemento en la ante última posición 27\n"
     ]
    }
   ],
   "source": [
    "print(\"Elemento en la posición 5:\", array[4])\n",
    "print(\"Elemento en la primer posición:\", array[0])\n",
    "print(\"Elemento en la última posición\", array[-1])\n",
    "print(\"Elemento en la ante última posición\", array[-2])"
   ]
  },
  {
   "cell_type": "markdown",
   "metadata": {},
   "source": [
    "**Indexación booleana** <br>\n",
    "Forma de obtener datos a partir de una condición. <br>\n",
    "📢 Todos los elementos que cumplan con la condición serán “devueltos”."
   ]
  },
  {
   "cell_type": "code",
   "execution_count": 33,
   "metadata": {},
   "outputs": [
    {
     "name": "stdout",
     "output_type": "stream",
     "text": [
      "Array booleano: [ True  True  True  True  True  True  True  True  True  True False  True\n",
      "  True  True False  True  True False  True  True]\n",
      "Elementos mayortes a 15: [29 22 22 23 17 19 27 26 25 17 21 16 19 28 19 27 17]\n",
      "Elementos entre 15 y 20: [17 19 17 16 19 15 19 17]\n"
     ]
    }
   ],
   "source": [
    "bool_index = array > 15\n",
    "print(\"Array booleano:\", bool_index)\n",
    "print(\"Elementos mayortes a 15:\", array[bool_index])\n",
    "print(\"Elementos entre 15 y 20:\", array[(array >= 15 ) & (array <= 20)])"
   ]
  },
  {
   "cell_type": "markdown",
   "metadata": {},
   "source": [
    "**Indexación por listas** <br>\n",
    "Permite obtener multiples elementos de un array con una lista de indices. <br>\n",
    "📢 Al mandarle indices “desordenados” el array resultante obtiene los elementos en el orden en que se pasó el índice centro de la lista."
   ]
  },
  {
   "cell_type": "code",
   "execution_count": 34,
   "metadata": {},
   "outputs": [
    {
     "name": "stdout",
     "output_type": "stream",
     "text": [
      "Elementos en las posiciones 3,8,5 y 0: [23 25 19 29]\n",
      "Elementos en las posiciones -1, 2,3 y 5: [17 22 23 19]\n"
     ]
    }
   ],
   "source": [
    "index_list = [3,8,5,0]\n",
    "print(\"Elementos en las posiciones 3,8,5 y 0:\", array[index_list])\n",
    "print(\"Elementos en las posiciones -1, 2,3 y 5:\", array[[-1,2,3, 5]])"
   ]
  },
  {
   "cell_type": "markdown",
   "metadata": {},
   "source": [
    "**Indexación de arrays multidimensionales** >br\n",
    "Para acceder a un elemento de un array bidimensional, le indicamos 2 indices. <br>\n",
    "📢 [indice_fila, indice_columna]"
   ]
  },
  {
   "cell_type": "code",
   "execution_count": 35,
   "metadata": {},
   "outputs": [
    {
     "data": {
      "text/plain": [
       "array([[15,  5, 23, 26, 15],\n",
       "       [ 8, 11, 18, 11, 14],\n",
       "       [28, 25,  7, 22, 14],\n",
       "       [18, 25, 27, 24, 24],\n",
       "       [ 5, 13, 20, 29, 29]])"
      ]
     },
     "execution_count": 35,
     "metadata": {},
     "output_type": "execute_result"
    }
   ],
   "source": [
    "matrix = np.random.randint(5, 30, (5,5))\n",
    "matrix"
   ]
  },
  {
   "cell_type": "code",
   "execution_count": 40,
   "metadata": {},
   "outputs": [
    {
     "name": "stdout",
     "output_type": "stream",
     "text": [
      "Elemento de la fila 2, columna 2: 7\n",
      "Elementos de las fila 1 y 2, columna 2: [18  7]\n",
      "Elementos en la fila 1 , columna 2, y fila 3, columna 2: [11  7]\n",
      "Elementos mayores a 18: [23 26 28 25 22 25 27 24 24 20 29 29]\n"
     ]
    }
   ],
   "source": [
    "print(\"Elemento de la fila 2, columna 2:\", matrix[2,2]) # Elemento especifio\n",
    "print(\"Elementos de las fila 1 y 2, columna 2:\", matrix[[1,2],2]) # Indexaciónb por lista (1)\n",
    "print(\"Elementos en la fila 1 , columna 2, y fila 3, columna 2:\", matrix[[1,2],[3,2]]) # Indexaciónb por lista (2)\n",
    "print(\"Elementos mayores a 18:\", matrix[matrix > 18]) # Indexación booleana"
   ]
  },
  {
   "cell_type": "markdown",
   "metadata": {},
   "source": [
    "**Slicing** <br>\n",
    "Selección de sub-arrays, donde le indicamos el índice inicial e índice final del conjunto original. <br>\n",
    "📢 También se se pueden agregar “saltos”."
   ]
  },
  {
   "cell_type": "code",
   "execution_count": 64,
   "metadata": {},
   "outputs": [
    {
     "name": "stdout",
     "output_type": "stream",
     "text": [
      "***** Array *****\n",
      "Elementos desde el incio hasta la posición 3: [29 22 22]\n",
      "Elementos desde la posición 5 hasta el final: [19 27 26 25 17  8 21 16 19 15 28 19 11 27 17]\n",
      "Elementos desde la posición 5 hasta la posición 10: [19 27 26 25 17]\n",
      "Elementos desde la posición hasta la penultima posición dando 2 saltos: [23 19 26 17 21 19 28 11] \n",
      "\n",
      "***** Matriz *****\n",
      "Elementos a partir de la fila uno, y columnas a partir de la fila 2 [[18 11 14]\n",
      " [ 7 22 14]\n",
      " [27 24 24]\n",
      " [20 29 29]]\n",
      "\n",
      "\n",
      "\n"
     ]
    }
   ],
   "source": [
    "print(\"*\"*5, \"Array\", \"*\"*5)\n",
    "print(\"Elementos desde el incio hasta la posición 3:\", array[:3])\n",
    "print(\"Elementos desde la posición 5 hasta el final:\", array[5:])\n",
    "print(\"Elementos desde la posición 5 hasta la posición 10:\", array[5:10])\n",
    "print(\"Elementos desde la posición hasta la penultima posición dando 2 saltos:\", array[3:-2:2])"
   ]
  },
  {
   "cell_type": "code",
   "execution_count": 69,
   "metadata": {},
   "outputs": [
    {
     "name": "stdout",
     "output_type": "stream",
     "text": [
      "***** Matriz *****\n",
      "Elementos a partir de la fila uno, y columnas a partir de la fila 2:\n",
      " [[18 11 14]\n",
      " [ 7 22 14]\n",
      " [27 24 24]\n",
      " [20 29 29]]\n",
      "Elementos hasta la fila 3, y hasta la columna 2:\n",
      " [[15  5]\n",
      " [ 8 11]\n",
      " [28 25]]\n",
      "Elementos a partir de la fila 1 dando 2 saltos, hasta la columna 1 dando 2 saltos\n",
      " [[ 8]\n",
      " [18]]\n"
     ]
    }
   ],
   "source": [
    "print(\"*\"*5, \"Matriz\", \"*\"*5)\n",
    "print(\"Elementos a partir de la fila uno, y columnas a partir de la fila 2:\\n\", matrix[1:, 2:])\n",
    "print(\"Elementos hasta la fila 3, y hasta la columna 2:\\n\", matrix[:3, :2])\n",
    "print(\"Elementos a partir de la fila 1 dando 2 saltos, hasta la columna 1 dando 2 saltos\\n\",matrix[1::2, :1:2])"
   ]
  }
 ],
 "metadata": {
  "kernelspec": {
   "display_name": "numpy_pandas_da",
   "language": "python",
   "name": "python3"
  },
  "language_info": {
   "codemirror_mode": {
    "name": "ipython",
    "version": 3
   },
   "file_extension": ".py",
   "mimetype": "text/x-python",
   "name": "python",
   "nbconvert_exporter": "python",
   "pygments_lexer": "ipython3",
   "version": "3.7.12"
  }
 },
 "nbformat": 4,
 "nbformat_minor": 2
}
