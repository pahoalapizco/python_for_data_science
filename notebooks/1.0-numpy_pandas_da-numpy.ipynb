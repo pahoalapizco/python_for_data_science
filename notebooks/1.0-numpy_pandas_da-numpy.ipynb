{
 "cells": [
  {
   "cell_type": "markdown",
   "metadata": {},
   "source": [
    "# Numpy"
   ]
  },
  {
   "cell_type": "code",
   "execution_count": 1,
   "metadata": {},
   "outputs": [],
   "source": [
    "import numpy as np"
   ]
  },
  {
   "cell_type": "markdown",
   "metadata": {},
   "source": [
    "Numpy es una librería que trabaja con grandes conjuntos de datos numéricos de forma eficiente, realiza complejas operaciones matemáticas y estadísticas de alto rendimiento.\n",
    "\n",
    "El elemento principal de esta librería son los arrays, éstos pueden representarse en distintas dimensiones."
   ]
  },
  {
   "cell_type": "markdown",
   "metadata": {},
   "source": [
    "## 1.1 Dimensiones"
   ]
  },
  {
   "cell_type": "markdown",
   "metadata": {},
   "source": [
    "Las dimensiones nos permiten estructurar los datos de tal forma que sea posible abordar problemas complejos con más eficiencia y precisión.\n",
    "\n",
    "Podemos encontrar las dimensiones como:\n",
    "- 0 dimensiones = Escalar\n",
    "- 1 dimensión = Vector\n",
    "- 2 dimensiones = Matriz\n",
    "- +3 dimensiones = Tensor\n",
    "\n",
    "Cada una de las dimensiones tiene un proposito especifico."
   ]
  },
  {
   "cell_type": "markdown",
   "metadata": {},
   "source": [
    "**Escalar**: Se utiliza para mediciones individuales, pues un escalar es en si un simple valor numérico."
   ]
  },
  {
   "cell_type": "code",
   "execution_count": 16,
   "metadata": {},
   "outputs": [
    {
     "name": "stdout",
     "output_type": "stream",
     "text": [
      "36, type: int64, dimensión: 0\n"
     ]
    }
   ],
   "source": [
    "escalar = np.array(36)\n",
    "print(f\"{escalar}, type: {escalar.dtype}, dimensión: {escalar.ndim}\")"
   ]
  },
  {
   "cell_type": "markdown",
   "metadata": {},
   "source": [
    "**Vector**: Colección de más de un escalar, se utilizan cuando los datos pueden organizarse como una fila o una columna, como las características una sola observación (edad, altura, peso, etc.)"
   ]
  },
  {
   "cell_type": "code",
   "execution_count": 13,
   "metadata": {},
   "outputs": [
    {
     "name": "stdout",
     "output_type": "stream",
     "text": [
      "[36 32 29 30 30 31 33],\n",
      "type: int64, dimensión: 1\n"
     ]
    }
   ],
   "source": [
    "vector = np.array([36, 32, 29, 30, 30, 31, 33])\n",
    "print(f\"{vector},\\ntype: {vector.dtype}, dimensión: {vector.ndim}\")"
   ]
  },
  {
   "cell_type": "markdown",
   "metadata": {},
   "source": [
    "**Matriz**: Organiza la información a modo de filas y columnas, es utilizada cuando se cuenta con una estructura bidimensional. Ejemplo, (1) Dataset donde las filas representan las observaciones y las columnas las características. (2) O bien una imagen en escala de grices, donde cada celta (fila-columna) representa un pixel."
   ]
  },
  {
   "cell_type": "code",
   "execution_count": 14,
   "metadata": {},
   "outputs": [
    {
     "name": "stdout",
     "output_type": "stream",
     "text": [
      "[[1 2 3]\n",
      " [4 5 6]],\n",
      "type: int64, dimensión: 2\n"
     ]
    }
   ],
   "source": [
    "matrix = np.array([[1,2,3], [4,5,6]])\n",
    "print(f\"{matrix},\\ntype: {matrix.dtype}, dimensión: {matrix.ndim}\")"
   ]
  },
  {
   "cell_type": "markdown",
   "metadata": {},
   "source": [
    "**Tensor**: Los datos tienen 3 o más dimensiones, un ejemplo de un tensor 3D es una (1) imagen a color, ccada dimensión representa algo diferente: alto, ancho y canales de color (RGB). (2) O bien podemos encontrar que un tensor 4D representa un video, donde encontramos una dimensión para el núnero de frames, alto, ancho y canales de color."
   ]
  },
  {
   "cell_type": "code",
   "execution_count": 15,
   "metadata": {},
   "outputs": [
    {
     "name": "stdout",
     "output_type": "stream",
     "text": [
      "[[[ 1  2]\n",
      "  [ 3  4]\n",
      "  [ 5  6]]\n",
      "\n",
      " [[ 7  8]\n",
      "  [ 9 10]\n",
      "  [11 12]]\n",
      "\n",
      " [[13 14]\n",
      "  [15 16]\n",
      "  [17 18]]],\n",
      "type: int64, dimensión: 3\n"
     ]
    }
   ],
   "source": [
    "tensor = tensor = np.array([\n",
    "  [[1,2], [3,4], [5,6]],\n",
    "  [[7,8], [9,10], [11,12]],\n",
    "  [[13,14], [15,16], [17,18]]\n",
    "])\n",
    "print(f\"{tensor},\\ntype: {tensor.dtype}, dimensión: {tensor.ndim}\")"
   ]
  },
  {
   "cell_type": "markdown",
   "metadata": {},
   "source": [
    "Numpy nos ofrece 6 mecanismos distintos para crear arrays:\n",
    "1. **Conversión**: Desde otras estructuras de pyhon (listas y tuplas).\n",
    "2. **Funciones**: Ya vienen por defecto en Numpy (arange, ones, zeros, eye, etc.).\n",
    "3. **Replicación**: Unión o mutación de vectores o matrices existentes.\n",
    "4. **Lectura desde disco**: Leer archivos de texto, csv o formatos personalizados.\n",
    "5. **Bytes crudos**: Por medio de cadenas o Buffers.\n",
    "6. **Funciones especiales**: Provenientes de librerías externas (random)"
   ]
  },
  {
   "cell_type": "code",
   "execution_count": 20,
   "metadata": {},
   "outputs": [
    {
     "name": "stdout",
     "output_type": "stream",
     "text": [
      "[0 1 2 3 4]\n"
     ]
    },
    {
     "data": {
      "text/plain": [
       "array([5, 6, 7, 8, 9])"
      ]
     },
     "execution_count": 20,
     "metadata": {},
     "output_type": "execute_result"
    }
   ],
   "source": [
    "array = np.arange(0,5)\n",
    "print(array)\n",
    "array + 5"
   ]
  },
  {
   "cell_type": "code",
   "execution_count": null,
   "metadata": {},
   "outputs": [],
   "source": []
  }
 ],
 "metadata": {
  "kernelspec": {
   "display_name": "numpy_pandas_da",
   "language": "python",
   "name": "python3"
  },
  "language_info": {
   "codemirror_mode": {
    "name": "ipython",
    "version": 3
   },
   "file_extension": ".py",
   "mimetype": "text/x-python",
   "name": "python",
   "nbconvert_exporter": "python",
   "pygments_lexer": "ipython3",
   "version": "3.7.12"
  }
 },
 "nbformat": 4,
 "nbformat_minor": 2
}
