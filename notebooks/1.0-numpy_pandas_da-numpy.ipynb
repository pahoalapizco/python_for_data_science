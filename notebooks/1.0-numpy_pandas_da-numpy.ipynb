{
 "cells": [
  {
   "cell_type": "markdown",
   "metadata": {},
   "source": [
    "# Numpy"
   ]
  },
  {
   "cell_type": "code",
   "execution_count": 1,
   "metadata": {},
   "outputs": [],
   "source": [
    "import numpy as np"
   ]
  },
  {
   "cell_type": "markdown",
   "metadata": {},
   "source": [
    "Numpy es una librería que trabaja con grandes conjuntos de datos numéricos de forma eficiente, realiza complejas operaciones matemáticas y estadísticas de alto rendimiento.\n",
    "\n",
    "El elemento principal de esta librería son los arrays, éstos pueden representarse en distintas dimensiones."
   ]
  },
  {
   "cell_type": "markdown",
   "metadata": {},
   "source": [
    "## 1.1 Dimensiones"
   ]
  },
  {
   "cell_type": "markdown",
   "metadata": {},
   "source": [
    "Las dimensiones nos permiten estructurar los datos de tal forma que sea posible abordar problemas complejos con más eficiencia y precisión.\n",
    "\n",
    "Podemos encontrar las dimensiones como:\n",
    "- 0 dimensiones = Escalar\n",
    "- 1 dimensión = Vector\n",
    "- 2 dimensiones = Matriz\n",
    "- +3 dimensiones = Tensor\n",
    "\n",
    "Cada una de las dimensiones tiene un proposito especifico."
   ]
  },
  {
   "cell_type": "markdown",
   "metadata": {},
   "source": [
    "**Escalar**: Se utiliza para mediciones individuales, pues un escalar es en si un simple valor numérico."
   ]
  },
  {
   "cell_type": "code",
   "execution_count": 2,
   "metadata": {},
   "outputs": [
    {
     "name": "stdout",
     "output_type": "stream",
     "text": [
      "36, type: int64, dimensión: 0\n"
     ]
    }
   ],
   "source": [
    "escalar = np.array(36)\n",
    "print(f\"{escalar}, type: {escalar.dtype}, dimensión: {escalar.ndim}\")"
   ]
  },
  {
   "cell_type": "markdown",
   "metadata": {},
   "source": [
    "**Vector**: Colección de más de un escalar, se utilizan cuando los datos pueden organizarse como una fila o una columna, como las características una sola observación (edad, altura, peso, etc.)"
   ]
  },
  {
   "cell_type": "code",
   "execution_count": 3,
   "metadata": {},
   "outputs": [
    {
     "name": "stdout",
     "output_type": "stream",
     "text": [
      "[36 32 29 30 30 31 33],\n",
      "type: int64, dimensión: 1\n"
     ]
    }
   ],
   "source": [
    "vector = np.array([36, 32, 29, 30, 30, 31, 33])\n",
    "print(f\"{vector},\\ntype: {vector.dtype}, dimensión: {vector.ndim}\")"
   ]
  },
  {
   "cell_type": "markdown",
   "metadata": {},
   "source": [
    "**Matriz**: Organiza la información a modo de filas y columnas, es utilizada cuando se cuenta con una estructura bidimensional. Ejemplo, (1) Dataset donde las filas representan las observaciones y las columnas las características. (2) O bien una imagen en escala de grices, donde cada celta (fila-columna) representa un pixel."
   ]
  },
  {
   "cell_type": "code",
   "execution_count": 4,
   "metadata": {},
   "outputs": [
    {
     "name": "stdout",
     "output_type": "stream",
     "text": [
      "[[1 2 3]\n",
      " [4 5 6]],\n",
      "type: int64, dimensión: 2\n"
     ]
    }
   ],
   "source": [
    "matrix = np.array([[1,2,3], [4,5,6]])\n",
    "print(f\"{matrix},\\ntype: {matrix.dtype}, dimensión: {matrix.ndim}\")"
   ]
  },
  {
   "cell_type": "markdown",
   "metadata": {},
   "source": [
    "**Tensor**: Los datos tienen 3 o más dimensiones, un ejemplo de un tensor 3D es una (1) imagen a color, ccada dimensión representa algo diferente: alto, ancho y canales de color (RGB). (2) O bien podemos encontrar que un tensor 4D representa un video, donde encontramos una dimensión para el núnero de frames, alto, ancho y canales de color."
   ]
  },
  {
   "cell_type": "code",
   "execution_count": 5,
   "metadata": {},
   "outputs": [
    {
     "name": "stdout",
     "output_type": "stream",
     "text": [
      "[[[ 1  2]\n",
      "  [ 3  4]\n",
      "  [ 5  6]]\n",
      "\n",
      " [[ 7  8]\n",
      "  [ 9 10]\n",
      "  [11 12]]\n",
      "\n",
      " [[13 14]\n",
      "  [15 16]\n",
      "  [17 18]]],\n",
      "type: int64, dimensión: 3\n"
     ]
    }
   ],
   "source": [
    "tensor = tensor = np.array([\n",
    "  [[1,2], [3,4], [5,6]],\n",
    "  [[7,8], [9,10], [11,12]],\n",
    "  [[13,14], [15,16], [17,18]]\n",
    "])\n",
    "print(f\"{tensor},\\ntype: {tensor.dtype}, dimensión: {tensor.ndim}\")"
   ]
  },
  {
   "cell_type": "markdown",
   "metadata": {},
   "source": [
    "Numpy nos ofrece 6 mecanismos distintos para crear arrays:\n",
    "1. **Conversión**: Desde otras estructuras de pyhon (listas y tuplas).\n",
    "2. **Funciones**: Ya vienen por defecto en Numpy (arange, ones, zeros, eye, etc.).\n",
    "3. **Replicación**: Unión o mutación de vectores o matrices existentes.\n",
    "4. **Lectura desde disco**: Leer archivos de texto, csv o formatos personalizados.\n",
    "5. **Bytes crudos**: Por medio de cadenas o Buffers.\n",
    "6. **Funciones especiales**: Provenientes de librerías externas (random)"
   ]
  },
  {
   "cell_type": "code",
   "execution_count": 6,
   "metadata": {},
   "outputs": [
    {
     "name": "stdout",
     "output_type": "stream",
     "text": [
      "[0 1 2 3 4]\n"
     ]
    },
    {
     "data": {
      "text/plain": [
       "array([5, 6, 7, 8, 9])"
      ]
     },
     "execution_count": 6,
     "metadata": {},
     "output_type": "execute_result"
    }
   ],
   "source": [
    "array = np.arange(0,5)\n",
    "print(array)\n",
    "array + 5"
   ]
  },
  {
   "cell_type": "markdown",
   "metadata": {},
   "source": [
    "## 1.2 Arrays"
   ]
  },
  {
   "cell_type": "markdown",
   "metadata": {},
   "source": [
    "Específicamente en Numpy, un array es una estructura de datos homogénea organizada en una o más dimensiones. Esencial para cálculos matemáticos de manera eficiente y rápida.\n",
    "\n",
    "En el análisis y procesamiento de datos, los arrays de Numpy son superiores a las listas de Python, ya que la librería ofrece funciones matemáticas y estadísticas  avanzadas ya optimizadas para estas estructura. \n",
    "\n",
    "📌 `array > lista`\n",
    "\n",
    "Con esta herramienta se uede representar:\n",
    "- Imágenes\n",
    "- Sonidos\n",
    "- Videos\n",
    "- Textos\n",
    "- etc..."
   ]
  },
  {
   "cell_type": "markdown",
   "metadata": {},
   "source": [
    "### 1.2.1 Formas de crear arrays con `numpy`"
   ]
  },
  {
   "cell_type": "markdown",
   "metadata": {},
   "source": [
    "**Funciones a partir de una forma predefinida** <br>\n",
    "Este tipo de funciones tienen en comun los parametros `shape` que define la forma del array, y `dtype` para indicar el tipo de dato que contendra el array.\n",
    "\n",
    "- `empty()`: Crea un array con valores arbitrarios, \"vacío\" o sin inicializar. Lo cuál significa que su contenido no se establece en 0 o en cualquier otro valor predefinido\n",
    "- `eye()`: Crea un array bidimensional (2D) compuesta por 0 y 1, los elementos de la diagonal principal tienen el valor de 1, en otras palabras crea una matriz identidad.\n",
    "- `identity()`: Crea una matriz identidad cuadrada (`nxn`), similar a eye pero con una sintaxis más sencilla"
   ]
  },
  {
   "cell_type": "code",
   "execution_count": 7,
   "metadata": {},
   "outputs": [
    {
     "name": "stdout",
     "output_type": "stream",
     "text": [
      "***** empty() *****\n",
      "[[245 252  67  75]\n",
      " [ 44 179 206 129]\n",
      " [152  63 100 166]\n",
      " [254 127   0   0]]\n",
      "Forma: (4, 4), dimensión: 2, tipo: uint8\n",
      "\n",
      "***** eye() *****\n",
      "Matriz identidad con la diagonal principal en la parte inferior\n",
      "[[0. 0. 0. 0.]\n",
      " [1. 0. 0. 0.]\n",
      " [0. 1. 0. 0.]\n",
      " [0. 0. 1. 0.]]\n",
      "Forma: (4, 4), dimensión: 2, tipo: float64\n",
      "\n",
      "***** identity() *****\n",
      "[[1. 0. 0.]\n",
      " [0. 1. 0.]\n",
      " [0. 0. 1.]]\n",
      "Forma: (3, 3), dimensión: 2, tipo: float64\n",
      "\n"
     ]
    }
   ],
   "source": [
    "# Array de 2 dimensiones (matriz)\n",
    "print(\"*\"*5, \"empty()\", \"*\"*5)\n",
    "empy_array_2d = np.empty(shape=(4,4), dtype=\"uint8\")\n",
    "print(empy_array_2d)\n",
    "print(f\"Forma: {empy_array_2d.shape}, dimensión: {empy_array_2d.ndim}, tipo: {empy_array_2d.dtype}\\n\")\n",
    "\n",
    "\n",
    "print(\"*\"*5, \"eye()\", \"*\"*5)\n",
    "eye_matrix__1 = np.eye(N=4, k=-1)\n",
    "print(f\"Matriz identidad con la diagonal principal en la parte inferior\")\n",
    "print(eye_matrix__1)\n",
    "print(f\"Forma: {eye_matrix__1.shape}, dimensión: {eye_matrix__1.ndim}, tipo: {eye_matrix__1.dtype}\\n\")\n",
    "\n",
    "print(\"*\"*5, \"identity()\", \"*\"*5)\n",
    "identity_array_v1 = np.identity(n=3)\n",
    "print(identity_array_v1)\n",
    "print(f\"Forma: {identity_array_v1.shape}, dimensión: {identity_array_v1.ndim}, tipo: {identity_array_v1.dtype}\\n\")\\\n"
   ]
  },
  {
   "cell_type": "markdown",
   "metadata": {},
   "source": [
    "- `ones()`: Esta función crea un array de una determinada forma, cada elemento se inicializa con el valor de 1.\n",
    "- `zeros()`: Esta función crea un array de una determinada forma, cada elemento se inicializa con el valor de 0.\n",
    "- `full()`: Crea un array con de una determinada forma, cada elemento esta inicializado con el valor especificado al crear el array."
   ]
  },
  {
   "cell_type": "code",
   "execution_count": 8,
   "metadata": {},
   "outputs": [
    {
     "name": "stdout",
     "output_type": "stream",
     "text": [
      "***** ones() *****\n",
      "[[1 1 1 1 1]\n",
      " [1 1 1 1 1]\n",
      " [1 1 1 1 1]\n",
      " [1 1 1 1 1]\n",
      " [1 1 1 1 1]]\n",
      "Forma: (5, 5), dimensión: 2, tipo: int32\n",
      "\n",
      "***** zeros() *****\n",
      "[0. 0. 0.]\n",
      "Forma: (3,), dimensión: 1, tipo: float64\n",
      "\n",
      "***** full() *****\n",
      "[[5.5 0.  3. ]\n",
      " [5.5 0.  3. ]\n",
      " [5.5 0.  3. ]]\n",
      "Forma: (3, 3), dimensión: 2, tipo: float64\n",
      "\n"
     ]
    }
   ],
   "source": [
    "\n",
    "print(\"*\"*5, \"ones()\", \"*\"*5)\n",
    "ones_v1 = np.ones(shape=(5, 5), dtype=\"int32\")\n",
    "print(ones_v1)\n",
    "print(f\"Forma: {ones_v1.shape}, dimensión: {ones_v1.ndim}, tipo: {ones_v1.dtype}\\n\")\n",
    "\n",
    "print(\"*\"*5, \"zeros()\", \"*\"*5)\n",
    "zeros_v1 = np.zeros(shape=3)\n",
    "print(zeros_v1)\n",
    "print(f\"Forma: {zeros_v1.shape}, dimensión: {zeros_v1.ndim}, tipo: {zeros_v1.dtype}\\n\")\n",
    "\n",
    "print(\"*\"*5, \"full()\", \"*\"*5)\n",
    "fill_array = np.full(shape=(3,3), fill_value=[5.5, 0, 3])\n",
    "print(fill_array)\n",
    "print(f\"Forma: {fill_array.shape}, dimensión: {fill_array.ndim}, tipo: {fill_array.dtype}\\n\")"
   ]
  },
  {
   "cell_type": "markdown",
   "metadata": {},
   "source": [
    "Cada método tiene una funcionalidad y objetivo especifico, según las necesidades del proyecto que estemos realizando.\n",
    "En este [notebook de google colab](https://colab.research.google.com/drive/1ORRBfv7sDnOPh2tzomCSzVpZZV-0XH-_#scrollTo=vTHWAn3jR3HK) hay más ejemplos de creación de arrays con otras funciones ya integradas de numpy."
   ]
  },
  {
   "cell_type": "markdown",
   "metadata": {},
   "source": [
    "## 1.3 Indexación y Slicing"
   ]
  },
  {
   "cell_type": "markdown",
   "metadata": {},
   "source": [
    "**Indexación** <br>\n",
    "Forma de acceder a los elementos de un array por medio de su índice.<br>\n",
    "📢 Los indices empiezan a partir del 0 que representa el primer elemento del array."
   ]
  },
  {
   "cell_type": "code",
   "execution_count": 9,
   "metadata": {},
   "outputs": [
    {
     "name": "stdout",
     "output_type": "stream",
     "text": [
      "[25 18  6 19 18 25 27 18 13 16 11 22 13  6 21 28 14 16  7 22]\n"
     ]
    }
   ],
   "source": [
    "array = np.random.randint(5, 30, 20) \n",
    "print(array)"
   ]
  },
  {
   "cell_type": "code",
   "execution_count": 10,
   "metadata": {},
   "outputs": [
    {
     "name": "stdout",
     "output_type": "stream",
     "text": [
      "Elemento en la posición 5: 18\n",
      "Elemento en la primer posición: 25\n",
      "Elemento en la última posición 22\n",
      "Elemento en la ante última posición 7\n"
     ]
    }
   ],
   "source": [
    "print(\"Elemento en la posición 5:\", array[4])\n",
    "print(\"Elemento en la primer posición:\", array[0])\n",
    "print(\"Elemento en la última posición\", array[-1])\n",
    "print(\"Elemento en la ante última posición\", array[-2])"
   ]
  },
  {
   "cell_type": "markdown",
   "metadata": {},
   "source": [
    "**Indexación booleana** <br>\n",
    "Forma de obtener datos a partir de una condición. <br>\n",
    "📢 Todos los elementos que cumplan con la condición serán “devueltos”."
   ]
  },
  {
   "cell_type": "code",
   "execution_count": 11,
   "metadata": {},
   "outputs": [
    {
     "name": "stdout",
     "output_type": "stream",
     "text": [
      "Array booleano: [ True  True False  True  True  True  True  True False  True False  True\n",
      " False False  True  True False  True False  True]\n",
      "Elementos mayortes a 15: [25 18 19 18 25 27 18 16 22 21 28 16 22]\n",
      "Elementos entre 15 y 20: [18 19 18 18 16 16]\n"
     ]
    }
   ],
   "source": [
    "bool_index = array > 15\n",
    "print(\"Array booleano:\", bool_index)\n",
    "print(\"Elementos mayortes a 15:\", array[bool_index])\n",
    "print(\"Elementos entre 15 y 20:\", array[(array >= 15 ) & (array <= 20)])"
   ]
  },
  {
   "cell_type": "markdown",
   "metadata": {},
   "source": [
    "**Indexación por listas** <br>\n",
    "Permite obtener multiples elementos de un array con una lista de indices. <br>\n",
    "📢 Al mandarle indices “desordenados” el array resultante obtiene los elementos en el orden en que se pasó el índice centro de la lista."
   ]
  },
  {
   "cell_type": "code",
   "execution_count": 12,
   "metadata": {},
   "outputs": [
    {
     "name": "stdout",
     "output_type": "stream",
     "text": [
      "Elementos en las posiciones 3,8,5 y 0: [19 13 25 25]\n",
      "Elementos en las posiciones -1, 2,3 y 5: [22  6 19 25]\n"
     ]
    }
   ],
   "source": [
    "index_list = [3,8,5,0]\n",
    "print(\"Elementos en las posiciones 3,8,5 y 0:\", array[index_list])\n",
    "print(\"Elementos en las posiciones -1, 2,3 y 5:\", array[[-1,2,3, 5]])"
   ]
  },
  {
   "cell_type": "markdown",
   "metadata": {},
   "source": [
    "**Indexación de arrays multidimensionales** >br\n",
    "Para acceder a un elemento de un array bidimensional, le indicamos 2 indices. <br>\n",
    "📢 [indice_fila, indice_columna]"
   ]
  },
  {
   "cell_type": "code",
   "execution_count": 13,
   "metadata": {},
   "outputs": [
    {
     "data": {
      "text/plain": [
       "array([[23, 28,  5, 15, 15],\n",
       "       [16, 15, 24,  5,  5],\n",
       "       [19, 22,  9,  6,  5],\n",
       "       [18, 28, 11, 13, 23],\n",
       "       [25, 27, 16, 17, 24]])"
      ]
     },
     "execution_count": 13,
     "metadata": {},
     "output_type": "execute_result"
    }
   ],
   "source": [
    "matrix = np.random.randint(5, 30, (5,5))\n",
    "matrix"
   ]
  },
  {
   "cell_type": "code",
   "execution_count": 14,
   "metadata": {},
   "outputs": [
    {
     "name": "stdout",
     "output_type": "stream",
     "text": [
      "Elemento de la fila 2, columna 2: 9\n",
      "Elementos de las fila 1 y 2, columna 2: [24  9]\n",
      "Elementos en la fila 1 , columna 2, y fila 3, columna 2: [5 9]\n",
      "Elementos mayores a 18: [23 28 24 19 22 28 23 25 27 24]\n"
     ]
    }
   ],
   "source": [
    "print(\"Elemento de la fila 2, columna 2:\", matrix[2,2]) # Elemento especifio\n",
    "print(\"Elementos de las fila 1 y 2, columna 2:\", matrix[[1,2],2]) # Indexaciónb por lista (1)\n",
    "print(\"Elementos en la fila 1 , columna 2, y fila 3, columna 2:\", matrix[[1,2],[3,2]]) # Indexaciónb por lista (2)\n",
    "print(\"Elementos mayores a 18:\", matrix[matrix > 18]) # Indexación booleana"
   ]
  },
  {
   "cell_type": "markdown",
   "metadata": {},
   "source": [
    "**Slicing** <br>\n",
    "Selección de sub-arrays, donde le indicamos el índice inicial e índice final del conjunto original. <br>\n",
    "📢 También se se pueden agregar “saltos”."
   ]
  },
  {
   "cell_type": "code",
   "execution_count": 15,
   "metadata": {},
   "outputs": [
    {
     "name": "stdout",
     "output_type": "stream",
     "text": [
      "***** Array *****\n",
      "Elementos desde el incio hasta la posición 3: [25 18  6]\n",
      "Elementos desde la posición 5 hasta el final: [25 27 18 13 16 11 22 13  6 21 28 14 16  7 22]\n",
      "Elementos desde la posición 5 hasta la posición 10: [25 27 18 13 16]\n",
      "Elementos desde la posición hasta la penultima posición dando 2 saltos: [19 25 18 16 22  6 28 16]\n"
     ]
    }
   ],
   "source": [
    "print(\"*\"*5, \"Array\", \"*\"*5)\n",
    "print(\"Elementos desde el incio hasta la posición 3:\", array[:3])\n",
    "print(\"Elementos desde la posición 5 hasta el final:\", array[5:])\n",
    "print(\"Elementos desde la posición 5 hasta la posición 10:\", array[5:10])\n",
    "print(\"Elementos desde la posición hasta la penultima posición dando 2 saltos:\", array[3:-2:2])"
   ]
  },
  {
   "cell_type": "code",
   "execution_count": 16,
   "metadata": {},
   "outputs": [
    {
     "name": "stdout",
     "output_type": "stream",
     "text": [
      "***** Matriz *****\n",
      "Elementos a partir de la fila uno, y columnas a partir de la fila 2:\n",
      " [[24  5  5]\n",
      " [ 9  6  5]\n",
      " [11 13 23]\n",
      " [16 17 24]]\n",
      "Elementos hasta la fila 3, y hasta la columna 2:\n",
      " [[23 28]\n",
      " [16 15]\n",
      " [19 22]]\n",
      "Elementos a partir de la fila 1 dando 2 saltos, hasta la columna 1 dando 2 saltos\n",
      " [[16]\n",
      " [18]]\n"
     ]
    }
   ],
   "source": [
    "print(\"*\"*5, \"Matriz\", \"*\"*5)\n",
    "print(\"Elementos a partir de la fila uno, y columnas a partir de la fila 2:\\n\", matrix[1:, 2:])\n",
    "print(\"Elementos hasta la fila 3, y hasta la columna 2:\\n\", matrix[:3, :2])\n",
    "print(\"Elementos a partir de la fila 1 dando 2 saltos, hasta la columna 1 dando 2 saltos\\n\",matrix[1::2, :1:2])"
   ]
  },
  {
   "cell_type": "markdown",
   "metadata": {},
   "source": [
    "## 1.4 Broadcasting"
   ]
  },
  {
   "cell_type": "markdown",
   "metadata": {},
   "source": [
    "El **broadcasting** es una técnica en el análisis de datos.\n",
    "\n",
    "Características:\n",
    "- Permite hacer operaciones aritméticas en arrays de diferentes tamaños y formas (shape) sin duplicar información.\n",
    "- Extiende el array más pequeño al array más grande de forma implícita.\n",
    "- Eficienta las operaciones aritméticas entre arrays de diferentes tamaños.\n",
    "- Optimiza el uso de memoria y mejora el rendimiento en operaciones de procesamiento de datos.\n",
    "\n",
    "📌 Trata al array pequeño como si tuviera la misma forma que el más grande."
   ]
  },
  {
   "cell_type": "markdown",
   "metadata": {},
   "source": [
    "**Ejemplo (1)**: <br>\n",
    "Tenemos un conjunto de datos que representa la medición de temperatura de 7 días en 3 ciudades diferentes (array de 3 x 7). Sin embargo las mediciones tienen un margen de error, y se nos da un array unidimensional con los valores de corrección para cada día de la semana (array de 1 x 7).\n",
    "\n",
    "Para acer la corrección en la medición de temperatura, en lugar de duplicar el array de corrección para cada ciudad (fila), aplicamos broadcasting:"
   ]
  },
  {
   "cell_type": "code",
   "execution_count": 17,
   "metadata": {},
   "outputs": [
    {
     "name": "stdout",
     "output_type": "stream",
     "text": [
      "Temperaturas originales:\n",
      " [[30 32 31 29 28 27 26]\n",
      " [25 24 22 23 26 27 28]\n",
      " [20 21 19 18 17 16 15]]\n",
      "\n",
      "Corrección aplicada:\n",
      " [ 1.  -1.   0.5 -0.5  0.   1.  -1. ]\n",
      "\n",
      "Temperaturas corregidas:\n",
      " [[31.  31.  31.5 28.5 28.  28.  25. ]\n",
      " [26.  23.  22.5 22.5 26.  28.  27. ]\n",
      " [21.  20.  19.5 17.5 17.  17.  14. ]]\n"
     ]
    }
   ],
   "source": [
    "# Temperaturas (3 ciudades, 7 días)\n",
    "temperaturas = np.array([\n",
    "    [30, 32, 31, 29, 28, 27, 26],\n",
    "    [25, 24, 22, 23, 26, 27, 28],\n",
    "    [20, 21, 19, 18, 17, 16, 15]\n",
    "])\n",
    "\n",
    "# Corrección (1 valor por día)\n",
    "correccion = np.array([1, -1, 0.5, -0.5, 0, 1, -1])\n",
    "\n",
    "# Aplicar la corrección usando broadcasting\n",
    "temperaturas_corregidas = temperaturas + correccion\n",
    "\n",
    "print(\"Temperaturas originales:\\n\", temperaturas)\n",
    "print(\"\\nCorrección aplicada:\\n\", correccion)\n",
    "print(\"\\nTemperaturas corregidas:\\n\", temperaturas_corregidas)\n"
   ]
  },
  {
   "cell_type": "markdown",
   "metadata": {},
   "source": [
    "**Ejemplo (2)**: <br>\n",
    "Tenemos una matriz 3x3 que representa los valores de ventas de tres productos en tres diferentes tiendas, y un vector 3x1 que contiene un bono de ventas que se aplica por tienda. El broadcasting permite sumar este bono de manera eficiente a cada fila de la matriz."
   ]
  },
  {
   "cell_type": "code",
   "execution_count": 18,
   "metadata": {},
   "outputs": [
    {
     "name": "stdout",
     "output_type": "stream",
     "text": [
      "Ventas actualizadas:\n",
      " [[110 210 310]\n",
      " [420 520 620]\n",
      " [730 830 930]]\n"
     ]
    }
   ],
   "source": [
    "# Ventas de productos en diferentes tiendas\n",
    "ventas = np.array([\n",
    "  [100, 200, 300],\n",
    "  [400, 500, 600],\n",
    "  [700, 800, 900]\n",
    "])\n",
    "\n",
    "# Bono de ventas por tienda\n",
    "bono = np.array([\n",
    "  [10],\n",
    "  [20],\n",
    "  [30]\n",
    "])\n",
    "\n",
    "ventas_actualizadas = ventas + bono\n",
    "\n",
    "print(\"Ventas actualizadas:\\n\", ventas_actualizadas)\n"
   ]
  },
  {
   "cell_type": "markdown",
   "metadata": {},
   "source": [
    "## 1.5 Operaciones lógicas"
   ]
  },
  {
   "cell_type": "markdown",
   "metadata": {},
   "source": [
    "También las encontramos como “funciones lógicas”, lo que hacen es evaluar el array dada una condición y nos retornara `True` o `False` si los elementes del array cumplen con la condición.\n",
    "\n",
    "- `all(condicion)`: Retorna `True` si todo el array cumple con la condición, y `False` si al menos uno de los elementos no cumple con la condición.\n",
    "- `any(condicion)`: Al contrario de all, retorna `True` si existe al menos un elemento que cumpla con la condición, y retorna `False` cuando ninguno de los elementos cumple la condición.\n",
    "\n",
    "\n",
    "\n",
    "Existen más funciones lógicas en la librería numpy, aquí la [Documentación oficial](https://numpy.org/doc/stable/reference/routines.logic.html)."
   ]
  },
  {
   "cell_type": "code",
   "execution_count": 19,
   "metadata": {},
   "outputs": [
    {
     "name": "stdout",
     "output_type": "stream",
     "text": [
      "False\n",
      "True\n",
      "True\n",
      "False\n"
     ]
    }
   ],
   "source": [
    "array_lf = np.random.randint(5, 30, 20)\n",
    "\n",
    "print(np.all(array_lf > 15))\n",
    "print(np.all(array_lf != 0))\n",
    "print(np.any(array_lf > 15))\n",
    "print(np.any(array_lf < 0))"
   ]
  },
  {
   "cell_type": "markdown",
   "metadata": {},
   "source": [
    "## 1.6 Concatenación, Stacking y Split"
   ]
  },
  {
   "cell_type": "markdown",
   "metadata": {},
   "source": [
    "Concatenación y stacking son técnicas para unir 2 o mas arrays y crear uno nuevo.\n",
    "\n",
    "- Concatenación: permite unir 2 o más arrays para crear uno solo."
   ]
  },
  {
   "cell_type": "code",
   "execution_count": 20,
   "metadata": {},
   "outputs": [
    {
     "name": "stdout",
     "output_type": "stream",
     "text": [
      "Array a:\n",
      " [13 10  5  9 12]\n",
      "\n",
      "Array b:\n",
      " [26 26 27 28 31]\n",
      "\n",
      "Concatenación a-b:\n",
      " [13 10  5  9 12 26 26 27 28 31]\n",
      "\n",
      "Concatenación b-a:\n",
      " [26 26 27 28 31 13 10  5  9 12]\n"
     ]
    }
   ],
   "source": [
    "array_a = np.random.randint(5, 20, 5)\n",
    "array_b = np.random.randint(21, 35, 5)\n",
    "\n",
    "concatenated_ab = np.concatenate((array_a, array_b))\n",
    "concatenated_ba = np.concatenate((array_b, array_a))\n",
    "\n",
    "print(\"Array a:\\n\", array_a)\n",
    "print(\"\\nArray b:\\n\", array_b)\n",
    "print(\"\\nConcatenación a-b:\\n\", concatenated_ab)\n",
    "print(\"\\nConcatenación b-a:\\n\", concatenated_ba)"
   ]
  },
  {
   "cell_type": "markdown",
   "metadata": {},
   "source": [
    "- **Stacking**: Permite apilar arrays y obtener un array con dimensionalidades diferentes.\n",
    "Numpy ofrece dos funciones:\n",
    "  - `hstack()`: Apila los arrays de forma horizontal (columnas) \n",
    "  - `vstack()`: Apila los arrays de forma vertical (filas)."
   ]
  },
  {
   "cell_type": "code",
   "execution_count": 21,
   "metadata": {},
   "outputs": [
    {
     "name": "stdout",
     "output_type": "stream",
     "text": [
      "Array a:\n",
      " [13 10  5  9 12]\n",
      "\n",
      "Array b:\n",
      " [26 26 27 28 31]\n",
      "\n",
      "Stack horizontal a-b:\n",
      " [13 10  5  9 12 26 26 27 28 31]\n",
      "\n",
      "Stack vertical a-b:\n",
      " [[13 10  5  9 12]\n",
      " [26 26 27 28 31]]\n"
     ]
    }
   ],
   "source": [
    "h_stack = np.hstack((array_a, array_b))\n",
    "v_stack = np.vstack((array_a, array_b))\n",
    "\n",
    "print(\"Array a:\\n\", array_a)\n",
    "print(\"\\nArray b:\\n\", array_b)\n",
    "print(\"\\nStack horizontal a-b:\\n\", h_stack)\n",
    "print(\"\\nStack vertical a-b:\\n\", v_stack)"
   ]
  },
  {
   "cell_type": "markdown",
   "metadata": {},
   "source": [
    "Split es lo contrario de las funciones anteriores.\n",
    "\n",
    "- **Split**: Generar `n` arrays apartir de un solo array.\n",
    "\n",
    "\n",
    "📢 El número de particiones que queremos debe ser múltiplo de la longitud del array original."
   ]
  },
  {
   "cell_type": "code",
   "execution_count": 22,
   "metadata": {},
   "outputs": [
    {
     "name": "stdout",
     "output_type": "stream",
     "text": [
      "\n",
      "Array c:\n",
      " [ 1  2  3  4  5  6  7  8  9 10 11 12 13 14 15 16 17 18 19 20]\n",
      "\n",
      "División en 4 partes de array_c:\n",
      " [array([1, 2, 3, 4, 5]), array([ 6,  7,  8,  9, 10]), array([11, 12, 13, 14, 15]), array([16, 17, 18, 19, 20])]\n"
     ]
    }
   ],
   "source": [
    "array_c = np.arange(1, 21)\n",
    "splirt_c = np.split(array_c, 4)\n",
    "\n",
    "print(\"\\nArray c:\\n\", array_c)\n",
    "print(\"\\nDivisión en 4 partes de array_c:\\n\", splirt_c)"
   ]
  },
  {
   "cell_type": "markdown",
   "metadata": {},
   "source": [
    "## 1.7 Conteos"
   ]
  },
  {
   "cell_type": "code",
   "execution_count": 37,
   "metadata": {},
   "outputs": [
    {
     "name": "stdout",
     "output_type": "stream",
     "text": [
      "Valores únicos:\n",
      " ['bueno' 'excelente' 'malo']\n",
      "\n",
      "Valores únicos:\n",
      " ['Regular' 'bueno' 'excelente' 'malo']\n",
      "\n",
      "Conteos:\n",
      " [1 4 2 7]\n"
     ]
    }
   ],
   "source": [
    "survey_responses = np.array([\"bueno\", \"excelente\", \"malo\", \n",
    "                              \"bueno\", \"bueno\", \"malo\", \n",
    "                              \"malo\", \"bueno\", \"excelente\", \"malo\"])\n",
    "\n",
    "unique_values = np.unique(survey_responses)\n",
    "print(\"Valores únicos:\\n\", unique_values)\n",
    "\n",
    "survey_responses = np.array([\"bueno\", \"excelente\", \"malo\", \n",
    "                              \"bueno\", \"bueno\", \"malo\", \n",
    "                              \"malo\", \"bueno\", \"excelente\", \n",
    "                              \"malo\", \"malo\", \"malo\", \"malo\",\n",
    "                              \"Regular\"])\n",
    "\n",
    "unique_values, value_counts = np.unique(survey_responses, return_counts=True)\n",
    "print(\"\\nValores únicos:\\n\", unique_values)\n",
    "print(\"\\nConteos:\\n\", value_counts)"
   ]
  },
  {
   "cell_type": "markdown",
   "metadata": {},
   "source": [
    "## 1.8 Vistas vs Copias"
   ]
  },
  {
   "cell_type": "markdown",
   "metadata": {},
   "source": [
    "### Vistas"
   ]
  },
  {
   "cell_type": "code",
   "execution_count": 34,
   "metadata": {},
   "outputs": [
    {
     "name": "stdout",
     "output_type": "stream",
     "text": [
      "===== Antes de modificar =====\n",
      "Array original:\n",
      " [1 2 3 4 5 6 7 8 9]\n",
      "Vista:\n",
      " [2 3]\n",
      "===== Despues de modificar =====\n",
      "Array original:\n",
      " [ 1 10 11  4  5  6  7  8  9]\n",
      "Vista:\n",
      " [10 11]\n",
      "Base del array original: None\n",
      "Base del array vista: [ 1 10 11  4  5  6  7  8  9]\n"
     ]
    }
   ],
   "source": [
    "array_orig = np.arange(1,10)\n",
    "array_view = array_orig[1:3]\n",
    "\n",
    "print(\"=\"*5, \"Antes de modificar\", \"=\"*5)\n",
    "print(\"Array original:\\n\", array_orig)\n",
    "print(\"Vista:\\n\", array_view)\n",
    "\n",
    "# Modificacamos el arrya original\n",
    "array_orig[1:3] = [10, 11]\n",
    "\n",
    "print(\"=\"*5, \"Despues de modificar\", \"=\"*5)\n",
    "print(\"Array original:\\n\", array_orig)\n",
    "print(\"Vista:\\n\", array_view)\n",
    "\n",
    "\n",
    "print(\"Base del array original:\", array_orig.base)\n",
    "print(\"Base del array vista:\", array_view.base)"
   ]
  },
  {
   "cell_type": "markdown",
   "metadata": {},
   "source": [
    "### Copias"
   ]
  },
  {
   "cell_type": "code",
   "execution_count": 35,
   "metadata": {},
   "outputs": [
    {
     "name": "stdout",
     "output_type": "stream",
     "text": [
      "===== Antes de modificar =====\n",
      "Array original:\n",
      " [1 2 3 4 5 6 7 8 9]\n",
      "Vista:\n",
      " [2 3]\n",
      "===== Despues de modificar =====\n",
      "Array original:\n",
      " [ 1 10 11  4  5  6  7  8  9]\n",
      "Vista:\n",
      " [2 3]\n",
      "Base del array original: None\n",
      "Base del array copia: None\n"
     ]
    }
   ],
   "source": [
    "array_orig = np.arange(1,10)\n",
    "array_copy = array_orig[[1, 2]]\n",
    "\n",
    "\n",
    "print(\"=\"*5, \"Antes de modificar\", \"=\"*5)\n",
    "print(\"Array original:\\n\", array_orig)\n",
    "print(\"Vista:\\n\", array_copy)\n",
    "\n",
    "# Modificacamos el arrya original\n",
    "array_orig[1:3] = [10, 11]\n",
    "\n",
    "print(\"=\"*5, \"Despues de modificar\", \"=\"*5)\n",
    "print(\"Array original:\\n\", array_orig)\n",
    "print(\"Vista:\\n\", array_copy)\n",
    "\n",
    "\n",
    "\n",
    "print(\"Base del array original:\", array_orig.base)\n",
    "print(\"Base del array copia:\", array_copy.base)"
   ]
  },
  {
   "cell_type": "markdown",
   "metadata": {},
   "source": []
  }
 ],
 "metadata": {
  "kernelspec": {
   "display_name": "numpy_pandas_da",
   "language": "python",
   "name": "python3"
  },
  "language_info": {
   "codemirror_mode": {
    "name": "ipython",
    "version": 3
   },
   "file_extension": ".py",
   "mimetype": "text/x-python",
   "name": "python",
   "nbconvert_exporter": "python",
   "pygments_lexer": "ipython3",
   "version": "3.7.12"
  }
 },
 "nbformat": 4,
 "nbformat_minor": 2
}
